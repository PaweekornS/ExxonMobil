{
 "cells": [
  {
   "cell_type": "code",
   "execution_count": 61,
   "metadata": {},
   "outputs": [],
   "source": [
    "import pandas as pd\n",
    "import numpy as np\n",
    "import matplotlib.pyplot as plt\n",
    "import seaborn as sns"
   ]
  },
  {
   "cell_type": "markdown",
   "metadata": {},
   "source": [
    "## Overview\n",
    "### 1. MRW file"
   ]
  },
  {
   "cell_type": "code",
   "execution_count": 62,
   "metadata": {},
   "outputs": [],
   "source": [
    "xls = pd.ExcelFile('dataset/MRW_v2.xlsx')\n",
    "sheet1 = pd.read_excel(xls, 'Transaction')\n",
    "sheet2 = pd.read_excel(xls, 'SKU_point_Ltr')\n",
    "sheet3 = pd.read_excel(xls, 'Garange Profile')\n",
    "sheet4 = pd.read_excel(xls, 'User')"
   ]
  },
  {
   "cell_type": "code",
   "execution_count": 65,
   "metadata": {},
   "outputs": [
    {
     "name": "stdout",
     "output_type": "stream",
     "text": [
      "(215656, 5)\n"
     ]
    }
   ],
   "source": [
    "print(sheet1.shape)\n",
    "# sheet1.sample(5)"
   ]
  },
  {
   "cell_type": "code",
   "execution_count": 50,
   "metadata": {},
   "outputs": [
    {
     "data": {
      "text/html": [
       "<div>\n",
       "<style scoped>\n",
       "    .dataframe tbody tr th:only-of-type {\n",
       "        vertical-align: middle;\n",
       "    }\n",
       "\n",
       "    .dataframe tbody tr th {\n",
       "        vertical-align: top;\n",
       "    }\n",
       "\n",
       "    .dataframe thead th {\n",
       "        text-align: right;\n",
       "    }\n",
       "</style>\n",
       "<table border=\"1\" class=\"dataframe\">\n",
       "  <thead>\n",
       "    <tr style=\"text-align: right;\">\n",
       "      <th></th>\n",
       "      <th>Distributor</th>\n",
       "      <th>UserId</th>\n",
       "      <th>ScanDate</th>\n",
       "      <th>ProductName</th>\n",
       "      <th>ProductSKU</th>\n",
       "      <th>Qty</th>\n",
       "    </tr>\n",
       "  </thead>\n",
       "  <tbody>\n",
       "    <tr>\n",
       "      <th>0</th>\n",
       "      <td>A</td>\n",
       "      <td>EXL_1569941239614</td>\n",
       "      <td>2023-01-11</td>\n",
       "      <td>Mobil 1 Gold</td>\n",
       "      <td>Mobil 1 Gold 4L - 6L</td>\n",
       "      <td>2</td>\n",
       "    </tr>\n",
       "    <tr>\n",
       "      <th>1</th>\n",
       "      <td>A</td>\n",
       "      <td>EXL_1569941239614</td>\n",
       "      <td>2023-01-11</td>\n",
       "      <td>Silver Large</td>\n",
       "      <td>Silver - Large 4L</td>\n",
       "      <td>2</td>\n",
       "    </tr>\n",
       "    <tr>\n",
       "      <th>2</th>\n",
       "      <td>A</td>\n",
       "      <td>EXL_1569941239614</td>\n",
       "      <td>2023-01-14</td>\n",
       "      <td>Silver Large</td>\n",
       "      <td>Silver - Large 4L</td>\n",
       "      <td>1</td>\n",
       "    </tr>\n",
       "    <tr>\n",
       "      <th>3</th>\n",
       "      <td>A</td>\n",
       "      <td>EXL_1569941239614</td>\n",
       "      <td>2023-02-06</td>\n",
       "      <td>Silver Large</td>\n",
       "      <td>Silver - Large 4L</td>\n",
       "      <td>5</td>\n",
       "    </tr>\n",
       "    <tr>\n",
       "      <th>4</th>\n",
       "      <td>A</td>\n",
       "      <td>EXL_1569941239614</td>\n",
       "      <td>2023-02-07</td>\n",
       "      <td>Gold Large</td>\n",
       "      <td>Gold - Large 4L</td>\n",
       "      <td>1</td>\n",
       "    </tr>\n",
       "  </tbody>\n",
       "</table>\n",
       "</div>"
      ],
      "text/plain": [
       "  Distributor             UserId   ScanDate   ProductName  \\\n",
       "0           A  EXL_1569941239614 2023-01-11  Mobil 1 Gold   \n",
       "1           A  EXL_1569941239614 2023-01-11  Silver Large   \n",
       "2           A  EXL_1569941239614 2023-01-14  Silver Large   \n",
       "3           A  EXL_1569941239614 2023-02-06  Silver Large   \n",
       "4           A  EXL_1569941239614 2023-02-07    Gold Large   \n",
       "\n",
       "             ProductSKU  Qty  \n",
       "0  Mobil 1 Gold 4L - 6L    2  \n",
       "1     Silver - Large 4L    2  \n",
       "2     Silver - Large 4L    1  \n",
       "3     Silver - Large 4L    5  \n",
       "4       Gold - Large 4L    1  "
      ]
     },
     "execution_count": 50,
     "metadata": {},
     "output_type": "execute_result"
    }
   ],
   "source": [
    "sheet1_clean = sheet1.groupby(['Distributor', 'UserId', 'ScanDate', 'ProductName', 'ProductSKU']).agg({'ScanDate': 'count'})\\\n",
    "                            .rename(columns={'ScanDate': 'Qty'}).reset_index()\n",
    "sheet1_clean.head()"
   ]
  },
  {
   "cell_type": "code",
   "execution_count": 60,
   "metadata": {},
   "outputs": [
    {
     "data": {
      "text/html": [
       "<div>\n",
       "<style scoped>\n",
       "    .dataframe tbody tr th:only-of-type {\n",
       "        vertical-align: middle;\n",
       "    }\n",
       "\n",
       "    .dataframe tbody tr th {\n",
       "        vertical-align: top;\n",
       "    }\n",
       "\n",
       "    .dataframe thead th {\n",
       "        text-align: right;\n",
       "    }\n",
       "</style>\n",
       "<table border=\"1\" class=\"dataframe\">\n",
       "  <thead>\n",
       "    <tr style=\"text-align: right;\">\n",
       "      <th></th>\n",
       "      <th>Distributor</th>\n",
       "      <th>UserId</th>\n",
       "      <th>ScanDate</th>\n",
       "      <th>ProductName</th>\n",
       "      <th>ProductSKU</th>\n",
       "      <th>Qty</th>\n",
       "    </tr>\n",
       "  </thead>\n",
       "  <tbody>\n",
       "    <tr>\n",
       "      <th>21474</th>\n",
       "      <td>B</td>\n",
       "      <td>EXL_1692444744991</td>\n",
       "      <td>2023-08-19</td>\n",
       "      <td>Mobil Super AIO - Charcoal</td>\n",
       "      <td>Mobil Super AIO - 7L</td>\n",
       "      <td>1</td>\n",
       "    </tr>\n",
       "    <tr>\n",
       "      <th>21475</th>\n",
       "      <td>B</td>\n",
       "      <td>EXL_1692444744991</td>\n",
       "      <td>2023-08-22</td>\n",
       "      <td>Mobil Super AIO - Charcoal</td>\n",
       "      <td>Mobil Super AIO - 7L</td>\n",
       "      <td>1</td>\n",
       "    </tr>\n",
       "    <tr>\n",
       "      <th>21476</th>\n",
       "      <td>B</td>\n",
       "      <td>EXL_1692444744991</td>\n",
       "      <td>2023-08-24</td>\n",
       "      <td>Mobil Super AIO - Charcoal</td>\n",
       "      <td>Mobil Super AIO - 7L</td>\n",
       "      <td>18</td>\n",
       "    </tr>\n",
       "    <tr>\n",
       "      <th>21477</th>\n",
       "      <td>B</td>\n",
       "      <td>EXL_1692444744991</td>\n",
       "      <td>2023-11-29</td>\n",
       "      <td>Mobil Super AIO - Charcoal</td>\n",
       "      <td>Mobil Super AIO - 7L</td>\n",
       "      <td>12</td>\n",
       "    </tr>\n",
       "  </tbody>\n",
       "</table>\n",
       "</div>"
      ],
      "text/plain": [
       "      Distributor             UserId   ScanDate                 ProductName  \\\n",
       "21474           B  EXL_1692444744991 2023-08-19  Mobil Super AIO - Charcoal   \n",
       "21475           B  EXL_1692444744991 2023-08-22  Mobil Super AIO - Charcoal   \n",
       "21476           B  EXL_1692444744991 2023-08-24  Mobil Super AIO - Charcoal   \n",
       "21477           B  EXL_1692444744991 2023-11-29  Mobil Super AIO - Charcoal   \n",
       "\n",
       "                 ProductSKU  Qty  \n",
       "21474  Mobil Super AIO - 7L    1  \n",
       "21475  Mobil Super AIO - 7L    1  \n",
       "21476  Mobil Super AIO - 7L   18  \n",
       "21477  Mobil Super AIO - 7L   12  "
      ]
     },
     "execution_count": 60,
     "metadata": {},
     "output_type": "execute_result"
    }
   ],
   "source": [
    "# validation\n",
    "sheet1_clean[sheet1_clean['UserId'] == 'EXL_1692444744991']"
   ]
  },
  {
   "cell_type": "code",
   "execution_count": 68,
   "metadata": {},
   "outputs": [
    {
     "name": "stdout",
     "output_type": "stream",
     "text": [
      "(10, 3)\n"
     ]
    }
   ],
   "source": [
    "print(sheet2.shape)\n",
    "# sheet2.head()"
   ]
  },
  {
   "cell_type": "code",
   "execution_count": 69,
   "metadata": {},
   "outputs": [
    {
     "name": "stdout",
     "output_type": "stream",
     "text": [
      "(4006, 5)\n"
     ]
    }
   ],
   "source": [
    "print(sheet3.shape)\n",
    "# sheet3.head()"
   ]
  },
  {
   "cell_type": "code",
   "execution_count": 70,
   "metadata": {},
   "outputs": [
    {
     "name": "stdout",
     "output_type": "stream",
     "text": [
      "(4719, 3)\n"
     ]
    }
   ],
   "source": [
    "print(sheet4.shape)\n",
    "# sheet4.head()"
   ]
  },
  {
   "cell_type": "code",
   "execution_count": 118,
   "metadata": {},
   "outputs": [],
   "source": [
    "merge_1 = pd.merge(sheet1_clean, sheet2, on='ProductSKU', how='left')\n",
    "merge_2 = pd.merge(merge_1, sheet3, left_on=['UserId', 'Distributor'], right_on=['OwnerId', 'Distributor'], \n",
    "                   how='left')\n",
    "mrw = pd.merge(merge_2, sheet4, on='UserId', how='left')"
   ]
  },
  {
   "cell_type": "code",
   "execution_count": 119,
   "metadata": {},
   "outputs": [
    {
     "name": "stdout",
     "output_type": "stream",
     "text": [
      "(36015, 14)\n"
     ]
    },
    {
     "data": {
      "text/html": [
       "<div>\n",
       "<style scoped>\n",
       "    .dataframe tbody tr th:only-of-type {\n",
       "        vertical-align: middle;\n",
       "    }\n",
       "\n",
       "    .dataframe tbody tr th {\n",
       "        vertical-align: top;\n",
       "    }\n",
       "\n",
       "    .dataframe thead th {\n",
       "        text-align: right;\n",
       "    }\n",
       "</style>\n",
       "<table border=\"1\" class=\"dataframe\">\n",
       "  <thead>\n",
       "    <tr style=\"text-align: right;\">\n",
       "      <th></th>\n",
       "      <th>Distributor</th>\n",
       "      <th>UserId</th>\n",
       "      <th>ScanDate</th>\n",
       "      <th>ProductName</th>\n",
       "      <th>ProductSKU</th>\n",
       "      <th>Qty</th>\n",
       "      <th>Points</th>\n",
       "      <th>Volume (L)</th>\n",
       "      <th>OwnerId</th>\n",
       "      <th>Postcode</th>\n",
       "      <th>Province</th>\n",
       "      <th>District</th>\n",
       "      <th>GarageId</th>\n",
       "      <th>UserType</th>\n",
       "    </tr>\n",
       "  </thead>\n",
       "  <tbody>\n",
       "    <tr>\n",
       "      <th>0</th>\n",
       "      <td>A</td>\n",
       "      <td>EXL_1569941239614</td>\n",
       "      <td>2023-01-11</td>\n",
       "      <td>Mobil 1 Gold</td>\n",
       "      <td>Mobil 1 Gold 4L - 6L</td>\n",
       "      <td>2</td>\n",
       "      <td>60</td>\n",
       "      <td>6</td>\n",
       "      <td>EXL_1569941239614</td>\n",
       "      <td>10540.0</td>\n",
       "      <td>สมุทรปราการ</td>\n",
       "      <td>เขตบางพลี</td>\n",
       "      <td>XT8304</td>\n",
       "      <td>Owner</td>\n",
       "    </tr>\n",
       "    <tr>\n",
       "      <th>1</th>\n",
       "      <td>A</td>\n",
       "      <td>EXL_1569941239614</td>\n",
       "      <td>2023-01-11</td>\n",
       "      <td>Silver Large</td>\n",
       "      <td>Silver - Large 4L</td>\n",
       "      <td>2</td>\n",
       "      <td>50</td>\n",
       "      <td>4</td>\n",
       "      <td>EXL_1569941239614</td>\n",
       "      <td>10540.0</td>\n",
       "      <td>สมุทรปราการ</td>\n",
       "      <td>เขตบางพลี</td>\n",
       "      <td>XT8304</td>\n",
       "      <td>Owner</td>\n",
       "    </tr>\n",
       "    <tr>\n",
       "      <th>2</th>\n",
       "      <td>A</td>\n",
       "      <td>EXL_1569941239614</td>\n",
       "      <td>2023-01-14</td>\n",
       "      <td>Silver Large</td>\n",
       "      <td>Silver - Large 4L</td>\n",
       "      <td>1</td>\n",
       "      <td>50</td>\n",
       "      <td>4</td>\n",
       "      <td>EXL_1569941239614</td>\n",
       "      <td>10540.0</td>\n",
       "      <td>สมุทรปราการ</td>\n",
       "      <td>เขตบางพลี</td>\n",
       "      <td>XT8304</td>\n",
       "      <td>Owner</td>\n",
       "    </tr>\n",
       "    <tr>\n",
       "      <th>3</th>\n",
       "      <td>A</td>\n",
       "      <td>EXL_1569941239614</td>\n",
       "      <td>2023-02-06</td>\n",
       "      <td>Silver Large</td>\n",
       "      <td>Silver - Large 4L</td>\n",
       "      <td>5</td>\n",
       "      <td>50</td>\n",
       "      <td>4</td>\n",
       "      <td>EXL_1569941239614</td>\n",
       "      <td>10540.0</td>\n",
       "      <td>สมุทรปราการ</td>\n",
       "      <td>เขตบางพลี</td>\n",
       "      <td>XT8304</td>\n",
       "      <td>Owner</td>\n",
       "    </tr>\n",
       "    <tr>\n",
       "      <th>4</th>\n",
       "      <td>A</td>\n",
       "      <td>EXL_1569941239614</td>\n",
       "      <td>2023-02-07</td>\n",
       "      <td>Gold Large</td>\n",
       "      <td>Gold - Large 4L</td>\n",
       "      <td>1</td>\n",
       "      <td>50</td>\n",
       "      <td>4</td>\n",
       "      <td>EXL_1569941239614</td>\n",
       "      <td>10540.0</td>\n",
       "      <td>สมุทรปราการ</td>\n",
       "      <td>เขตบางพลี</td>\n",
       "      <td>XT8304</td>\n",
       "      <td>Owner</td>\n",
       "    </tr>\n",
       "  </tbody>\n",
       "</table>\n",
       "</div>"
      ],
      "text/plain": [
       "  Distributor             UserId   ScanDate   ProductName  \\\n",
       "0           A  EXL_1569941239614 2023-01-11  Mobil 1 Gold   \n",
       "1           A  EXL_1569941239614 2023-01-11  Silver Large   \n",
       "2           A  EXL_1569941239614 2023-01-14  Silver Large   \n",
       "3           A  EXL_1569941239614 2023-02-06  Silver Large   \n",
       "4           A  EXL_1569941239614 2023-02-07    Gold Large   \n",
       "\n",
       "             ProductSKU  Qty  Points  Volume (L)            OwnerId  Postcode  \\\n",
       "0  Mobil 1 Gold 4L - 6L    2      60           6  EXL_1569941239614   10540.0   \n",
       "1     Silver - Large 4L    2      50           4  EXL_1569941239614   10540.0   \n",
       "2     Silver - Large 4L    1      50           4  EXL_1569941239614   10540.0   \n",
       "3     Silver - Large 4L    5      50           4  EXL_1569941239614   10540.0   \n",
       "4       Gold - Large 4L    1      50           4  EXL_1569941239614   10540.0   \n",
       "\n",
       "      Province  District  GarageId UserType  \n",
       "0  สมุทรปราการ  เขตบางพลี   XT8304    Owner  \n",
       "1  สมุทรปราการ  เขตบางพลี   XT8304    Owner  \n",
       "2  สมุทรปราการ  เขตบางพลี   XT8304    Owner  \n",
       "3  สมุทรปราการ  เขตบางพลี   XT8304    Owner  \n",
       "4  สมุทรปราการ  เขตบางพลี   XT8304    Owner  "
      ]
     },
     "execution_count": 119,
     "metadata": {},
     "output_type": "execute_result"
    }
   ],
   "source": [
    "print(mrw.shape)\n",
    "mrw.head()"
   ]
  },
  {
   "cell_type": "markdown",
   "metadata": {},
   "source": [
    "Handle null/ missing values"
   ]
  },
  {
   "cell_type": "code",
   "execution_count": 73,
   "metadata": {},
   "outputs": [
    {
     "data": {
      "text/plain": [
       "Index(['Distributor', 'UserId', 'ScanDate', 'ProductName', 'ProductSKU', 'Qty',\n",
       "       'Points', 'Volume (L)', 'OwnerId', 'Postcode', 'Province', 'District ',\n",
       "       'GarageId', 'UserType'],\n",
       "      dtype='object')"
      ]
     },
     "execution_count": 73,
     "metadata": {},
     "output_type": "execute_result"
    }
   ],
   "source": [
    "mrw.columns"
   ]
  },
  {
   "cell_type": "code",
   "execution_count": 74,
   "metadata": {},
   "outputs": [
    {
     "data": {
      "text/plain": [
       "Distributor            object\n",
       "UserId                 object\n",
       "ScanDate       datetime64[ns]\n",
       "ProductName            object\n",
       "ProductSKU             object\n",
       "Qty                     int64\n",
       "Points                  int64\n",
       "Volume (L)              int64\n",
       "OwnerId                object\n",
       "Postcode              float64\n",
       "Province               object\n",
       "District               object\n",
       "GarageId               object\n",
       "UserType               object\n",
       "dtype: object"
      ]
     },
     "execution_count": 74,
     "metadata": {},
     "output_type": "execute_result"
    }
   ],
   "source": [
    "mrw.dtypes"
   ]
  },
  {
   "cell_type": "code",
   "execution_count": 75,
   "metadata": {},
   "outputs": [
    {
     "data": {
      "text/plain": [
       "Distributor       0\n",
       "UserId            0\n",
       "ScanDate          0\n",
       "ProductName       0\n",
       "ProductSKU        0\n",
       "Qty               0\n",
       "Points            0\n",
       "Volume (L)        0\n",
       "OwnerId        3649\n",
       "Postcode       3757\n",
       "Province       3649\n",
       "District       3649\n",
       "GarageId          0\n",
       "UserType          0\n",
       "dtype: int64"
      ]
     },
     "execution_count": 75,
     "metadata": {},
     "output_type": "execute_result"
    }
   ],
   "source": [
    "mrw.rename(columns={'District ': 'District'}, inplace=True)\n",
    "mrw.isnull().sum()"
   ]
  },
  {
   "cell_type": "code",
   "execution_count": 76,
   "metadata": {},
   "outputs": [],
   "source": [
    "# drop records with no province\n",
    "# null_province = mrw[ mrw['Province'].isnull() ].index\n",
    "# mrw.drop(index=null_province, inplace=True)"
   ]
  },
  {
   "cell_type": "code",
   "execution_count": 114,
   "metadata": {},
   "outputs": [],
   "source": [
    "# fill null Postcode with 0\n",
    "mrw['Postcode'] = mrw['Postcode'].fillna(0).astype('int')\n",
    "mrw['Postcode'] = mrw['Postcode'].astype('str').replace('0', '-')"
   ]
  },
  {
   "cell_type": "code",
   "execution_count": 117,
   "metadata": {},
   "outputs": [
    {
     "data": {
      "text/html": [
       "<div>\n",
       "<style scoped>\n",
       "    .dataframe tbody tr th:only-of-type {\n",
       "        vertical-align: middle;\n",
       "    }\n",
       "\n",
       "    .dataframe tbody tr th {\n",
       "        vertical-align: top;\n",
       "    }\n",
       "\n",
       "    .dataframe thead th {\n",
       "        text-align: right;\n",
       "    }\n",
       "</style>\n",
       "<table border=\"1\" class=\"dataframe\">\n",
       "  <thead>\n",
       "    <tr style=\"text-align: right;\">\n",
       "      <th></th>\n",
       "      <th>Distributor</th>\n",
       "      <th>UserId</th>\n",
       "      <th>ScanDate</th>\n",
       "      <th>ProductName</th>\n",
       "      <th>ProductSKU</th>\n",
       "      <th>Qty</th>\n",
       "      <th>Points</th>\n",
       "      <th>Volume (L)</th>\n",
       "      <th>OwnerId</th>\n",
       "      <th>Postcode</th>\n",
       "      <th>Province</th>\n",
       "      <th>District</th>\n",
       "      <th>GarageId</th>\n",
       "      <th>UserType</th>\n",
       "    </tr>\n",
       "  </thead>\n",
       "  <tbody>\n",
       "    <tr>\n",
       "      <th>13663</th>\n",
       "      <td>A</td>\n",
       "      <td>EXL_1647007533124</td>\n",
       "      <td>2023-01-03</td>\n",
       "      <td>Mobil Super FF</td>\n",
       "      <td>Mobil Super FF 4L - 7L</td>\n",
       "      <td>1</td>\n",
       "      <td>35</td>\n",
       "      <td>6</td>\n",
       "      <td>EXL_1647007533124</td>\n",
       "      <td>-</td>\n",
       "      <td>สระบุรี</td>\n",
       "      <td>เขตหนองแค</td>\n",
       "      <td>IM8971</td>\n",
       "      <td>Owner</td>\n",
       "    </tr>\n",
       "    <tr>\n",
       "      <th>13664</th>\n",
       "      <td>A</td>\n",
       "      <td>EXL_1647007533124</td>\n",
       "      <td>2023-01-16</td>\n",
       "      <td>Mobil Delvac Modern</td>\n",
       "      <td>Mobil Delvac Modern 7L</td>\n",
       "      <td>1</td>\n",
       "      <td>20</td>\n",
       "      <td>7</td>\n",
       "      <td>EXL_1647007533124</td>\n",
       "      <td>-</td>\n",
       "      <td>สระบุรี</td>\n",
       "      <td>เขตหนองแค</td>\n",
       "      <td>IM8971</td>\n",
       "      <td>Owner</td>\n",
       "    </tr>\n",
       "    <tr>\n",
       "      <th>13665</th>\n",
       "      <td>A</td>\n",
       "      <td>EXL_1647007533124</td>\n",
       "      <td>2023-01-28</td>\n",
       "      <td>Mobil Delvac Modern</td>\n",
       "      <td>Mobil Delvac Modern 7L</td>\n",
       "      <td>1</td>\n",
       "      <td>20</td>\n",
       "      <td>7</td>\n",
       "      <td>EXL_1647007533124</td>\n",
       "      <td>-</td>\n",
       "      <td>สระบุรี</td>\n",
       "      <td>เขตหนองแค</td>\n",
       "      <td>IM8971</td>\n",
       "      <td>Owner</td>\n",
       "    </tr>\n",
       "    <tr>\n",
       "      <th>13666</th>\n",
       "      <td>A</td>\n",
       "      <td>EXL_1647007533124</td>\n",
       "      <td>2023-01-31</td>\n",
       "      <td>Mobil Delvac Modern</td>\n",
       "      <td>Mobil Delvac Modern 7L</td>\n",
       "      <td>1</td>\n",
       "      <td>20</td>\n",
       "      <td>7</td>\n",
       "      <td>EXL_1647007533124</td>\n",
       "      <td>-</td>\n",
       "      <td>สระบุรี</td>\n",
       "      <td>เขตหนองแค</td>\n",
       "      <td>IM8971</td>\n",
       "      <td>Owner</td>\n",
       "    </tr>\n",
       "    <tr>\n",
       "      <th>13667</th>\n",
       "      <td>A</td>\n",
       "      <td>EXL_1647007533124</td>\n",
       "      <td>2023-02-03</td>\n",
       "      <td>Mobil Delvac Modern</td>\n",
       "      <td>Mobil Delvac Modern 7L</td>\n",
       "      <td>1</td>\n",
       "      <td>20</td>\n",
       "      <td>7</td>\n",
       "      <td>EXL_1647007533124</td>\n",
       "      <td>-</td>\n",
       "      <td>สระบุรี</td>\n",
       "      <td>เขตหนองแค</td>\n",
       "      <td>IM8971</td>\n",
       "      <td>Owner</td>\n",
       "    </tr>\n",
       "    <tr>\n",
       "      <th>...</th>\n",
       "      <td>...</td>\n",
       "      <td>...</td>\n",
       "      <td>...</td>\n",
       "      <td>...</td>\n",
       "      <td>...</td>\n",
       "      <td>...</td>\n",
       "      <td>...</td>\n",
       "      <td>...</td>\n",
       "      <td>...</td>\n",
       "      <td>...</td>\n",
       "      <td>...</td>\n",
       "      <td>...</td>\n",
       "      <td>...</td>\n",
       "      <td>...</td>\n",
       "    </tr>\n",
       "    <tr>\n",
       "      <th>30872</th>\n",
       "      <td>C</td>\n",
       "      <td>EXL_1694432358157</td>\n",
       "      <td>2023-11-28</td>\n",
       "      <td>Mobil Super FF</td>\n",
       "      <td>Mobil Super FF 4L - 7L</td>\n",
       "      <td>20</td>\n",
       "      <td>35</td>\n",
       "      <td>6</td>\n",
       "      <td>EXL_1694432358157</td>\n",
       "      <td>-</td>\n",
       "      <td>เพชรบูรณ์</td>\n",
       "      <td>เขตหนองไผ่</td>\n",
       "      <td>QW7361</td>\n",
       "      <td>Owner</td>\n",
       "    </tr>\n",
       "    <tr>\n",
       "      <th>30873</th>\n",
       "      <td>C</td>\n",
       "      <td>EXL_1694432358157</td>\n",
       "      <td>2023-12-11</td>\n",
       "      <td>Mobil Super FF</td>\n",
       "      <td>Mobil Super FF 4L - 7L</td>\n",
       "      <td>1</td>\n",
       "      <td>35</td>\n",
       "      <td>6</td>\n",
       "      <td>EXL_1694432358157</td>\n",
       "      <td>-</td>\n",
       "      <td>เพชรบูรณ์</td>\n",
       "      <td>เขตหนองไผ่</td>\n",
       "      <td>QW7361</td>\n",
       "      <td>Owner</td>\n",
       "    </tr>\n",
       "    <tr>\n",
       "      <th>31048</th>\n",
       "      <td>C</td>\n",
       "      <td>EXL_1701941308532</td>\n",
       "      <td>2023-12-07</td>\n",
       "      <td>Mobil Delvac Legend</td>\n",
       "      <td>Mobil_Delvac_Legend_6L_-_7L</td>\n",
       "      <td>3</td>\n",
       "      <td>10</td>\n",
       "      <td>7</td>\n",
       "      <td>EXL_1701941308532</td>\n",
       "      <td>-</td>\n",
       "      <td>กำแพงเพชร</td>\n",
       "      <td>เขตเมืองกำแพงเพชร</td>\n",
       "      <td>LL3399</td>\n",
       "      <td>Owner</td>\n",
       "    </tr>\n",
       "    <tr>\n",
       "      <th>31049</th>\n",
       "      <td>C</td>\n",
       "      <td>EXL_1701941308532</td>\n",
       "      <td>2023-12-07</td>\n",
       "      <td>Mobil Super FF</td>\n",
       "      <td>Mobil Super FF 4L - 7L</td>\n",
       "      <td>4</td>\n",
       "      <td>35</td>\n",
       "      <td>6</td>\n",
       "      <td>EXL_1701941308532</td>\n",
       "      <td>-</td>\n",
       "      <td>กำแพงเพชร</td>\n",
       "      <td>เขตเมืองกำแพงเพชร</td>\n",
       "      <td>LL3399</td>\n",
       "      <td>Owner</td>\n",
       "    </tr>\n",
       "    <tr>\n",
       "      <th>31050</th>\n",
       "      <td>C</td>\n",
       "      <td>EXL_1701941308532</td>\n",
       "      <td>2023-12-09</td>\n",
       "      <td>Mobil Delvac Legend</td>\n",
       "      <td>Mobil_Delvac_Legend_6L_-_7L</td>\n",
       "      <td>1</td>\n",
       "      <td>10</td>\n",
       "      <td>7</td>\n",
       "      <td>EXL_1701941308532</td>\n",
       "      <td>-</td>\n",
       "      <td>กำแพงเพชร</td>\n",
       "      <td>เขตเมืองกำแพงเพชร</td>\n",
       "      <td>LL3399</td>\n",
       "      <td>Owner</td>\n",
       "    </tr>\n",
       "  </tbody>\n",
       "</table>\n",
       "<p>108 rows × 14 columns</p>\n",
       "</div>"
      ],
      "text/plain": [
       "      Distributor             UserId   ScanDate          ProductName  \\\n",
       "13663           A  EXL_1647007533124 2023-01-03       Mobil Super FF   \n",
       "13664           A  EXL_1647007533124 2023-01-16  Mobil Delvac Modern   \n",
       "13665           A  EXL_1647007533124 2023-01-28  Mobil Delvac Modern   \n",
       "13666           A  EXL_1647007533124 2023-01-31  Mobil Delvac Modern   \n",
       "13667           A  EXL_1647007533124 2023-02-03  Mobil Delvac Modern   \n",
       "...           ...                ...        ...                  ...   \n",
       "30872           C  EXL_1694432358157 2023-11-28       Mobil Super FF   \n",
       "30873           C  EXL_1694432358157 2023-12-11       Mobil Super FF   \n",
       "31048           C  EXL_1701941308532 2023-12-07  Mobil Delvac Legend   \n",
       "31049           C  EXL_1701941308532 2023-12-07       Mobil Super FF   \n",
       "31050           C  EXL_1701941308532 2023-12-09  Mobil Delvac Legend   \n",
       "\n",
       "                        ProductSKU  Qty  Points  Volume (L)  \\\n",
       "13663       Mobil Super FF 4L - 7L    1      35           6   \n",
       "13664       Mobil Delvac Modern 7L    1      20           7   \n",
       "13665       Mobil Delvac Modern 7L    1      20           7   \n",
       "13666       Mobil Delvac Modern 7L    1      20           7   \n",
       "13667       Mobil Delvac Modern 7L    1      20           7   \n",
       "...                            ...  ...     ...         ...   \n",
       "30872       Mobil Super FF 4L - 7L   20      35           6   \n",
       "30873       Mobil Super FF 4L - 7L    1      35           6   \n",
       "31048  Mobil_Delvac_Legend_6L_-_7L    3      10           7   \n",
       "31049       Mobil Super FF 4L - 7L    4      35           6   \n",
       "31050  Mobil_Delvac_Legend_6L_-_7L    1      10           7   \n",
       "\n",
       "                 OwnerId Postcode   Province           District GarageId  \\\n",
       "13663  EXL_1647007533124        -    สระบุรี          เขตหนองแค   IM8971   \n",
       "13664  EXL_1647007533124        -    สระบุรี          เขตหนองแค   IM8971   \n",
       "13665  EXL_1647007533124        -    สระบุรี          เขตหนองแค   IM8971   \n",
       "13666  EXL_1647007533124        -    สระบุรี          เขตหนองแค   IM8971   \n",
       "13667  EXL_1647007533124        -    สระบุรี          เขตหนองแค   IM8971   \n",
       "...                  ...      ...        ...                ...      ...   \n",
       "30872  EXL_1694432358157        -  เพชรบูรณ์         เขตหนองไผ่   QW7361   \n",
       "30873  EXL_1694432358157        -  เพชรบูรณ์         เขตหนองไผ่   QW7361   \n",
       "31048  EXL_1701941308532        -  กำแพงเพชร  เขตเมืองกำแพงเพชร   LL3399   \n",
       "31049  EXL_1701941308532        -  กำแพงเพชร  เขตเมืองกำแพงเพชร   LL3399   \n",
       "31050  EXL_1701941308532        -  กำแพงเพชร  เขตเมืองกำแพงเพชร   LL3399   \n",
       "\n",
       "      UserType  \n",
       "13663    Owner  \n",
       "13664    Owner  \n",
       "13665    Owner  \n",
       "13666    Owner  \n",
       "13667    Owner  \n",
       "...        ...  \n",
       "30872    Owner  \n",
       "30873    Owner  \n",
       "31048    Owner  \n",
       "31049    Owner  \n",
       "31050    Owner  \n",
       "\n",
       "[108 rows x 14 columns]"
      ]
     },
     "execution_count": 117,
     "metadata": {},
     "output_type": "execute_result"
    }
   ],
   "source": [
    "mrw[mrw['Postcode'] == '-']"
   ]
  },
  {
   "cell_type": "markdown",
   "metadata": {},
   "source": [
    "### EDA\n",
    "Distribution of Top10 garage order"
   ]
  },
  {
   "cell_type": "code",
   "execution_count": 98,
   "metadata": {},
   "outputs": [
    {
     "data": {
      "text/plain": [
       "(21, 14)"
      ]
     },
     "execution_count": 98,
     "metadata": {},
     "output_type": "execute_result"
    }
   ],
   "source": [
    "mrw[ mrw['GarageId'] == 'DN4920' ].shape"
   ]
  },
  {
   "cell_type": "code",
   "execution_count": 103,
   "metadata": {},
   "outputs": [],
   "source": [
    "garage_order = mrw.groupby(['GarageId', 'ScanDate']).agg({'Qty': 'sum'}).reset_index()\n",
    "top10_garage = garage_order.sort_values('Qty', ascending=False).head(10)\n",
    "top10_garage = top10_garage['GarageId']"
   ]
  },
  {
   "cell_type": "code",
   "execution_count": 105,
   "metadata": {},
   "outputs": [
    {
     "data": {
      "text/plain": [
       "Text(0.5, 1.0, 'Top10 Garage Order Distribution')"
      ]
     },
     "execution_count": 105,
     "metadata": {},
     "output_type": "execute_result"
    },
    {
     "data": {
      "image/png": "[encoded data removed]",
      "text/plain": [
       "<Figure size 640x480 with 1 Axes>"
      ]
     },
     "metadata": {},
     "output_type": "display_data"
    }
   ],
   "source": [
    "top10_garage_order = pd.merge(top10_garage, mrw, on='GarageId', how='left')\n",
    "sns.scatterplot(data=top10_garage_order, x='ScanDate', y='Qty', hue='GarageId')\n",
    "plt.title('Top10 Garage Order Distribution')"
   ]
  },
  {
   "cell_type": "code",
   "execution_count": 162,
   "metadata": {},
   "outputs": [
    {
     "data": {
      "text/html": [
       "<div>\n",
       "<style scoped>\n",
       "    .dataframe tbody tr th:only-of-type {\n",
       "        vertical-align: middle;\n",
       "    }\n",
       "\n",
       "    .dataframe tbody tr th {\n",
       "        vertical-align: top;\n",
       "    }\n",
       "\n",
       "    .dataframe thead th {\n",
       "        text-align: right;\n",
       "    }\n",
       "</style>\n",
       "<table border=\"1\" class=\"dataframe\">\n",
       "  <thead>\n",
       "    <tr style=\"text-align: right;\">\n",
       "      <th></th>\n",
       "      <th></th>\n",
       "      <th>Qty</th>\n",
       "    </tr>\n",
       "    <tr>\n",
       "      <th>GarageId</th>\n",
       "      <th>ProductSKU</th>\n",
       "      <th></th>\n",
       "    </tr>\n",
       "  </thead>\n",
       "  <tbody>\n",
       "    <tr>\n",
       "      <th rowspan=\"6\" valign=\"top\">BF7818</th>\n",
       "      <th>Charcoal - Large 4L - 5L</th>\n",
       "      <td>1</td>\n",
       "    </tr>\n",
       "    <tr>\n",
       "      <th>Mobil 1 Gold 4L - 6L</th>\n",
       "      <td>1</td>\n",
       "    </tr>\n",
       "    <tr>\n",
       "      <th>Mobil Delvac Modern 7L</th>\n",
       "      <td>1</td>\n",
       "    </tr>\n",
       "    <tr>\n",
       "      <th>Mobil Super AIO - 7L</th>\n",
       "      <td>1</td>\n",
       "    </tr>\n",
       "    <tr>\n",
       "      <th>Mobil Super AIO 3L - 6L</th>\n",
       "      <td>3</td>\n",
       "    </tr>\n",
       "    <tr>\n",
       "      <th>Mobil Super FF 4L - 7L</th>\n",
       "      <td>4</td>\n",
       "    </tr>\n",
       "    <tr>\n",
       "      <th rowspan=\"8\" valign=\"top\">DN4920</th>\n",
       "      <th>Charcoal - Large 4L - 5L</th>\n",
       "      <td>4</td>\n",
       "    </tr>\n",
       "    <tr>\n",
       "      <th>Gold - Large 4L</th>\n",
       "      <td>4</td>\n",
       "    </tr>\n",
       "    <tr>\n",
       "      <th>Mobil 1 Gold 4L - 6L</th>\n",
       "      <td>7</td>\n",
       "    </tr>\n",
       "    <tr>\n",
       "      <th>Mobil Delvac Modern 7L</th>\n",
       "      <td>12</td>\n",
       "    </tr>\n",
       "    <tr>\n",
       "      <th>Mobil Super AIO - 7L</th>\n",
       "      <td>13</td>\n",
       "    </tr>\n",
       "    <tr>\n",
       "      <th>Mobil Super FF 4L - 7L</th>\n",
       "      <td>13</td>\n",
       "    </tr>\n",
       "    <tr>\n",
       "      <th>Mobil_Delvac_Legend_6L_-_7L</th>\n",
       "      <td>19</td>\n",
       "    </tr>\n",
       "    <tr>\n",
       "      <th>Silver - Large 4L</th>\n",
       "      <td>24</td>\n",
       "    </tr>\n",
       "    <tr>\n",
       "      <th>HE7765</th>\n",
       "      <th>Mobil Super FF 4L - 7L</th>\n",
       "      <td>31</td>\n",
       "    </tr>\n",
       "    <tr>\n",
       "      <th rowspan=\"4\" valign=\"top\">IT8259</th>\n",
       "      <th>Gold - Large 4L</th>\n",
       "      <td>36</td>\n",
       "    </tr>\n",
       "    <tr>\n",
       "      <th>Mobil 1 Gold 4L - 6L</th>\n",
       "      <td>46</td>\n",
       "    </tr>\n",
       "    <tr>\n",
       "      <th>Mobil Super FF 4L - 7L</th>\n",
       "      <td>51</td>\n",
       "    </tr>\n",
       "    <tr>\n",
       "      <th>Silver - Large 4L</th>\n",
       "      <td>54</td>\n",
       "    </tr>\n",
       "    <tr>\n",
       "      <th rowspan=\"7\" valign=\"top\">JT8450</th>\n",
       "      <th>Charcoal - Large 4L - 5L</th>\n",
       "      <td>60</td>\n",
       "    </tr>\n",
       "    <tr>\n",
       "      <th>Gold - Large 4L</th>\n",
       "      <td>61</td>\n",
       "    </tr>\n",
       "    <tr>\n",
       "      <th>Mobil 1 Gold 4L - 6L</th>\n",
       "      <td>66</td>\n",
       "    </tr>\n",
       "    <tr>\n",
       "      <th>Mobil Delvac Modern 7L</th>\n",
       "      <td>88</td>\n",
       "    </tr>\n",
       "    <tr>\n",
       "      <th>Mobil Super AIO - 7L</th>\n",
       "      <td>90</td>\n",
       "    </tr>\n",
       "    <tr>\n",
       "      <th>Mobil Super FF 4L - 7L</th>\n",
       "      <td>128</td>\n",
       "    </tr>\n",
       "    <tr>\n",
       "      <th>Mobil_Delvac_Legend_6L_-_7L</th>\n",
       "      <td>144</td>\n",
       "    </tr>\n",
       "    <tr>\n",
       "      <th rowspan=\"3\" valign=\"top\">UB2208</th>\n",
       "      <th>Mobil Super AIO - 7L</th>\n",
       "      <td>200</td>\n",
       "    </tr>\n",
       "    <tr>\n",
       "      <th>Mobil Super FF 4L - 7L</th>\n",
       "      <td>225</td>\n",
       "    </tr>\n",
       "    <tr>\n",
       "      <th>Mobil_Delvac_Legend_6L_-_7L</th>\n",
       "      <td>268</td>\n",
       "    </tr>\n",
       "    <tr>\n",
       "      <th rowspan=\"3\" valign=\"top\">UK6051</th>\n",
       "      <th>Mobil Delvac Modern 7L</th>\n",
       "      <td>280</td>\n",
       "    </tr>\n",
       "    <tr>\n",
       "      <th>Mobil Super AIO - 7L</th>\n",
       "      <td>281</td>\n",
       "    </tr>\n",
       "    <tr>\n",
       "      <th>Mobil Super FF 4L - 7L</th>\n",
       "      <td>336</td>\n",
       "    </tr>\n",
       "    <tr>\n",
       "      <th rowspan=\"3\" valign=\"top\">VH9028</th>\n",
       "      <th>Charcoal - Large 4L - 5L</th>\n",
       "      <td>403</td>\n",
       "    </tr>\n",
       "    <tr>\n",
       "      <th>Mobil Super AIO - 7L</th>\n",
       "      <td>559</td>\n",
       "    </tr>\n",
       "    <tr>\n",
       "      <th>Mobil Super FF 4L - 7L</th>\n",
       "      <td>1327</td>\n",
       "    </tr>\n",
       "    <tr>\n",
       "      <th rowspan=\"2\" valign=\"top\">WY2502</th>\n",
       "      <th>Mobil Delvac Modern 7L</th>\n",
       "      <td>2022</td>\n",
       "    </tr>\n",
       "    <tr>\n",
       "      <th>Mobil Super FF 4L - 7L</th>\n",
       "      <td>2228</td>\n",
       "    </tr>\n",
       "  </tbody>\n",
       "</table>\n",
       "</div>"
      ],
      "text/plain": [
       "                                       Qty\n",
       "GarageId ProductSKU                       \n",
       "BF7818   Charcoal - Large 4L - 5L        1\n",
       "         Mobil 1 Gold 4L - 6L            1\n",
       "         Mobil Delvac Modern 7L          1\n",
       "         Mobil Super AIO - 7L            1\n",
       "         Mobil Super AIO 3L - 6L         3\n",
       "         Mobil Super FF 4L - 7L          4\n",
       "DN4920   Charcoal - Large 4L - 5L        4\n",
       "         Gold - Large 4L                 4\n",
       "         Mobil 1 Gold 4L - 6L            7\n",
       "         Mobil Delvac Modern 7L         12\n",
       "         Mobil Super AIO - 7L           13\n",
       "         Mobil Super FF 4L - 7L         13\n",
       "         Mobil_Delvac_Legend_6L_-_7L    19\n",
       "         Silver - Large 4L              24\n",
       "HE7765   Mobil Super FF 4L - 7L         31\n",
       "IT8259   Gold - Large 4L                36\n",
       "         Mobil 1 Gold 4L - 6L           46\n",
       "         Mobil Super FF 4L - 7L         51\n",
       "         Silver - Large 4L              54\n",
       "JT8450   Charcoal - Large 4L - 5L       60\n",
       "         Gold - Large 4L                61\n",
       "         Mobil 1 Gold 4L - 6L           66\n",
       "         Mobil Delvac Modern 7L         88\n",
       "         Mobil Super AIO - 7L           90\n",
       "         Mobil Super FF 4L - 7L        128\n",
       "         Mobil_Delvac_Legend_6L_-_7L   144\n",
       "UB2208   Mobil Super AIO - 7L          200\n",
       "         Mobil Super FF 4L - 7L        225\n",
       "         Mobil_Delvac_Legend_6L_-_7L   268\n",
       "UK6051   Mobil Delvac Modern 7L        280\n",
       "         Mobil Super AIO - 7L          281\n",
       "         Mobil Super FF 4L - 7L        336\n",
       "VH9028   Charcoal - Large 4L - 5L      403\n",
       "         Mobil Super AIO - 7L          559\n",
       "         Mobil Super FF 4L - 7L       1327\n",
       "WY2502   Mobil Delvac Modern 7L       2022\n",
       "         Mobil Super FF 4L - 7L       2228"
      ]
     },
     "execution_count": 162,
     "metadata": {},
     "output_type": "execute_result"
    }
   ],
   "source": [
    "product_per_garage = top10_garage_order[['GarageId', 'ProductSKU', 'Qty', 'Province']]\\\n",
    "                        .groupby(['GarageId', 'ProductSKU'])\\\n",
    "                        .agg({'Qty': 'sum'}).apply(lambda x: np.sort(x))\n",
    "\n",
    "product_per_garage"
   ]
  },
  {
   "cell_type": "markdown",
   "metadata": {},
   "source": [
    "Proportional product SKU"
   ]
  },
  {
   "cell_type": "code",
   "execution_count": 123,
   "metadata": {},
   "outputs": [
    {
     "data": {
      "text/html": [
       "<div>\n",
       "<style scoped>\n",
       "    .dataframe tbody tr th:only-of-type {\n",
       "        vertical-align: middle;\n",
       "    }\n",
       "\n",
       "    .dataframe tbody tr th {\n",
       "        vertical-align: top;\n",
       "    }\n",
       "\n",
       "    .dataframe thead th {\n",
       "        text-align: right;\n",
       "    }\n",
       "</style>\n",
       "<table border=\"1\" class=\"dataframe\">\n",
       "  <thead>\n",
       "    <tr style=\"text-align: right;\">\n",
       "      <th></th>\n",
       "      <th>ProductSKU</th>\n",
       "      <th>Qty</th>\n",
       "    </tr>\n",
       "  </thead>\n",
       "  <tbody>\n",
       "    <tr>\n",
       "      <th>0</th>\n",
       "      <td>Mobil Super FF 4L - 7L</td>\n",
       "      <td>137394</td>\n",
       "    </tr>\n",
       "    <tr>\n",
       "      <th>1</th>\n",
       "      <td>Mobil Delvac Modern 7L</td>\n",
       "      <td>24739</td>\n",
       "    </tr>\n",
       "    <tr>\n",
       "      <th>2</th>\n",
       "      <td>Silver - Large 4L</td>\n",
       "      <td>12689</td>\n",
       "    </tr>\n",
       "    <tr>\n",
       "      <th>3</th>\n",
       "      <td>Mobil Super AIO - 7L</td>\n",
       "      <td>12618</td>\n",
       "    </tr>\n",
       "    <tr>\n",
       "      <th>4</th>\n",
       "      <td>Charcoal - Large 4L - 5L</td>\n",
       "      <td>11730</td>\n",
       "    </tr>\n",
       "    <tr>\n",
       "      <th>5</th>\n",
       "      <td>Mobil_Delvac_Legend_6L_-_7L</td>\n",
       "      <td>6685</td>\n",
       "    </tr>\n",
       "    <tr>\n",
       "      <th>6</th>\n",
       "      <td>Gold - Large 4L</td>\n",
       "      <td>5336</td>\n",
       "    </tr>\n",
       "    <tr>\n",
       "      <th>7</th>\n",
       "      <td>Mobil 1 Gold 4L - 6L</td>\n",
       "      <td>3589</td>\n",
       "    </tr>\n",
       "    <tr>\n",
       "      <th>8</th>\n",
       "      <td>Blue - Large 4L - 5L</td>\n",
       "      <td>500</td>\n",
       "    </tr>\n",
       "    <tr>\n",
       "      <th>9</th>\n",
       "      <td>Mobil Super AIO 3L - 6L</td>\n",
       "      <td>376</td>\n",
       "    </tr>\n",
       "  </tbody>\n",
       "</table>\n",
       "</div>"
      ],
      "text/plain": [
       "                    ProductSKU     Qty\n",
       "0       Mobil Super FF 4L - 7L  137394\n",
       "1       Mobil Delvac Modern 7L   24739\n",
       "2            Silver - Large 4L   12689\n",
       "3         Mobil Super AIO - 7L   12618\n",
       "4     Charcoal - Large 4L - 5L   11730\n",
       "5  Mobil_Delvac_Legend_6L_-_7L    6685\n",
       "6              Gold - Large 4L    5336\n",
       "7         Mobil 1 Gold 4L - 6L    3589\n",
       "8         Blue - Large 4L - 5L     500\n",
       "9      Mobil Super AIO 3L - 6L     376"
      ]
     },
     "execution_count": 123,
     "metadata": {},
     "output_type": "execute_result"
    }
   ],
   "source": [
    "sku_qty_totals = mrw.groupby('ProductSKU').agg({'Qty': 'sum'}).reset_index()\n",
    "sku_qty_totals = sku_qty_totals.sort_values(by='Qty', ascending=False).reset_index(drop=True)\n",
    "\n",
    "sku_qty_totals"
   ]
  },
  {
   "cell_type": "code",
   "execution_count": 145,
   "metadata": {},
   "outputs": [
    {
     "data": {
      "text/plain": [
       "Text(0.5, 1.0, 'Quantity Percentage of ProductSKU')"
      ]
     },
     "execution_count": 145,
     "metadata": {},
     "output_type": "execute_result"
    },
    {
     "data": {
      "image/png": "[encoded data removed]",
      "text/plain": [
       "<Figure size 640x480 with 1 Axes>"
      ]
     },
     "metadata": {},
     "output_type": "display_data"
    }
   ],
   "source": [
    "color = ['#96b3c2', '#57838d', '#b4c9c7', '#a7d9c9', '#beede5',\n",
    "         '#e0f8f5', '#50b4d8', '#9eddef', '#b7eaf7', '#d7e2ea']\n",
    "explode = (0.02, )*10\n",
    "\n",
    "# Pie Chart\n",
    "plt.pie(sku_qty_totals['Qty'], labels=sku_qty_totals['ProductSKU'],\n",
    "        autopct='%1.1f%%', pctdistance=0.85, colors=color, explode=explode)\n",
    "\n",
    "# draw circle\n",
    "centre_circle = plt.Circle((0, 0), 0.70, fc='white')\n",
    "fig = plt.gcf()\n",
    "\n",
    "# Adding Circle in Pie chart\n",
    "fig.gca().add_artist(centre_circle)\n",
    "\n",
    "# Adding Title of chart\n",
    "plt.title('Quantity Percentage of ProductSKU')"
   ]
  },
  {
   "cell_type": "markdown",
   "metadata": {},
   "source": [
    "### 2. MER file"
   ]
  },
  {
   "cell_type": "code",
   "execution_count": null,
   "metadata": {},
   "outputs": [],
   "source": [
    "mer = pd.ExcelFile('dataset/2. MER PointTransaction 2023_RetailsResellers_Final.xlsx')\n",
    "mer_sheet1 = pd.read_excel(mer, 'MER Transaction')\n",
    "mer_sheet2 = pd.read_excel(mer, 'Point Per Litre')"
   ]
  },
  {
   "cell_type": "code",
   "execution_count": null,
   "metadata": {},
   "outputs": [
    {
     "name": "stdout",
     "output_type": "stream",
     "text": [
      "(9429, 8)\n"
     ]
    },
    {
     "data": {
      "text/html": [
       "<div>\n",
       "<style scoped>\n",
       "    .dataframe tbody tr th:only-of-type {\n",
       "        vertical-align: middle;\n",
       "    }\n",
       "\n",
       "    .dataframe tbody tr th {\n",
       "        vertical-align: top;\n",
       "    }\n",
       "\n",
       "    .dataframe thead th {\n",
       "        text-align: right;\n",
       "    }\n",
       "</style>\n",
       "<table border=\"1\" class=\"dataframe\">\n",
       "  <thead>\n",
       "    <tr style=\"text-align: right;\">\n",
       "      <th></th>\n",
       "      <th>Invoicedate</th>\n",
       "      <th>Distributor</th>\n",
       "      <th>GroupId</th>\n",
       "      <th>Type</th>\n",
       "      <th>Provincename</th>\n",
       "      <th>MatNo</th>\n",
       "      <th>Material Name</th>\n",
       "      <th>New_Volume(L)</th>\n",
       "    </tr>\n",
       "  </thead>\n",
       "  <tbody>\n",
       "    <tr>\n",
       "      <th>0</th>\n",
       "      <td>2023-02-14</td>\n",
       "      <td>A</td>\n",
       "      <td>ERW_AI8N2021070006</td>\n",
       "      <td>Retails</td>\n",
       "      <td>Pathum Thani</td>\n",
       "      <td>123150</td>\n",
       "      <td>MOBIL MULTIPURPOSE ATF, 208LT DR</td>\n",
       "      <td>7168</td>\n",
       "    </tr>\n",
       "    <tr>\n",
       "      <th>1</th>\n",
       "      <td>2023-04-20</td>\n",
       "      <td>D</td>\n",
       "      <td>ERW_DBG72020110082</td>\n",
       "      <td>Reseller</td>\n",
       "      <td>Songkhla</td>\n",
       "      <td>124213</td>\n",
       "      <td>MOBIL ATF 220  D 208LT</td>\n",
       "      <td>912</td>\n",
       "    </tr>\n",
       "    <tr>\n",
       "      <th>2</th>\n",
       "      <td>2023-10-19</td>\n",
       "      <td>D</td>\n",
       "      <td>ERW_DBG72020110082</td>\n",
       "      <td>Reseller</td>\n",
       "      <td>Songkhla</td>\n",
       "      <td>124216</td>\n",
       "      <td>MOBIL ATF 220 P1/20LT</td>\n",
       "      <td>7340</td>\n",
       "    </tr>\n",
       "    <tr>\n",
       "      <th>3</th>\n",
       "      <td>2023-07-25</td>\n",
       "      <td>D</td>\n",
       "      <td>ERW_DBG72020110082</td>\n",
       "      <td>Reseller</td>\n",
       "      <td>Songkhla</td>\n",
       "      <td>124216</td>\n",
       "      <td>MOBIL ATF 220 P1/20LT</td>\n",
       "      <td>1640</td>\n",
       "    </tr>\n",
       "    <tr>\n",
       "      <th>4</th>\n",
       "      <td>2023-10-12</td>\n",
       "      <td>D</td>\n",
       "      <td>ERW_DBG72020110082</td>\n",
       "      <td>Reseller</td>\n",
       "      <td>Songkhla</td>\n",
       "      <td>124216</td>\n",
       "      <td>MOBIL ATF 220 P1/20LT</td>\n",
       "      <td>7080</td>\n",
       "    </tr>\n",
       "  </tbody>\n",
       "</table>\n",
       "</div>"
      ],
      "text/plain": [
       "  Invoicedate Distributor             GroupId      Type  Provincename   MatNo  \\\n",
       "0  2023-02-14           A  ERW_AI8N2021070006   Retails  Pathum Thani  123150   \n",
       "1  2023-04-20           D  ERW_DBG72020110082  Reseller      Songkhla  124213   \n",
       "2  2023-10-19           D  ERW_DBG72020110082  Reseller      Songkhla  124216   \n",
       "3  2023-07-25           D  ERW_DBG72020110082  Reseller      Songkhla  124216   \n",
       "4  2023-10-12           D  ERW_DBG72020110082  Reseller      Songkhla  124216   \n",
       "\n",
       "                      Material Name  New_Volume(L)  \n",
       "0  MOBIL MULTIPURPOSE ATF, 208LT DR           7168  \n",
       "1            MOBIL ATF 220  D 208LT            912  \n",
       "2             MOBIL ATF 220 P1/20LT           7340  \n",
       "3             MOBIL ATF 220 P1/20LT           1640  \n",
       "4             MOBIL ATF 220 P1/20LT           7080  "
      ]
     },
     "execution_count": 99,
     "metadata": {},
     "output_type": "execute_result"
    }
   ],
   "source": [
    "print(mer_sheet1.shape)\n",
    "mer_sheet1.head()"
   ]
  },
  {
   "cell_type": "code",
   "execution_count": null,
   "metadata": {},
   "outputs": [
    {
     "name": "stdout",
     "output_type": "stream",
     "text": [
      "(145, 2)\n"
     ]
    },
    {
     "data": {
      "text/html": [
       "<div>\n",
       "<style scoped>\n",
       "    .dataframe tbody tr th:only-of-type {\n",
       "        vertical-align: middle;\n",
       "    }\n",
       "\n",
       "    .dataframe tbody tr th {\n",
       "        vertical-align: top;\n",
       "    }\n",
       "\n",
       "    .dataframe thead th {\n",
       "        text-align: right;\n",
       "    }\n",
       "</style>\n",
       "<table border=\"1\" class=\"dataframe\">\n",
       "  <thead>\n",
       "    <tr style=\"text-align: right;\">\n",
       "      <th></th>\n",
       "      <th>MatNo</th>\n",
       "      <th>Points</th>\n",
       "    </tr>\n",
       "  </thead>\n",
       "  <tbody>\n",
       "    <tr>\n",
       "      <th>0</th>\n",
       "      <td>144673</td>\n",
       "      <td>10</td>\n",
       "    </tr>\n",
       "    <tr>\n",
       "      <th>1</th>\n",
       "      <td>140521</td>\n",
       "      <td>10</td>\n",
       "    </tr>\n",
       "    <tr>\n",
       "      <th>2</th>\n",
       "      <td>144473</td>\n",
       "      <td>10</td>\n",
       "    </tr>\n",
       "    <tr>\n",
       "      <th>3</th>\n",
       "      <td>145832</td>\n",
       "      <td>10</td>\n",
       "    </tr>\n",
       "    <tr>\n",
       "      <th>4</th>\n",
       "      <td>140418</td>\n",
       "      <td>10</td>\n",
       "    </tr>\n",
       "  </tbody>\n",
       "</table>\n",
       "</div>"
      ],
      "text/plain": [
       "    MatNo  Points\n",
       "0  144673      10\n",
       "1  140521      10\n",
       "2  144473      10\n",
       "3  145832      10\n",
       "4  140418      10"
      ]
     },
     "execution_count": 100,
     "metadata": {},
     "output_type": "execute_result"
    }
   ],
   "source": [
    "print(mer_sheet2.shape)\n",
    "mer_sheet2.head()"
   ]
  },
  {
   "cell_type": "code",
   "execution_count": null,
   "metadata": {},
   "outputs": [
    {
     "name": "stdout",
     "output_type": "stream",
     "text": [
      "(9429, 9)\n"
     ]
    },
    {
     "data": {
      "text/html": [
       "<div>\n",
       "<style scoped>\n",
       "    .dataframe tbody tr th:only-of-type {\n",
       "        vertical-align: middle;\n",
       "    }\n",
       "\n",
       "    .dataframe tbody tr th {\n",
       "        vertical-align: top;\n",
       "    }\n",
       "\n",
       "    .dataframe thead th {\n",
       "        text-align: right;\n",
       "    }\n",
       "</style>\n",
       "<table border=\"1\" class=\"dataframe\">\n",
       "  <thead>\n",
       "    <tr style=\"text-align: right;\">\n",
       "      <th></th>\n",
       "      <th>Invoicedate</th>\n",
       "      <th>Distributor</th>\n",
       "      <th>GroupId</th>\n",
       "      <th>Type</th>\n",
       "      <th>Provincename</th>\n",
       "      <th>MatNo</th>\n",
       "      <th>Material Name</th>\n",
       "      <th>New_Volume(L)</th>\n",
       "      <th>Points</th>\n",
       "    </tr>\n",
       "  </thead>\n",
       "  <tbody>\n",
       "    <tr>\n",
       "      <th>0</th>\n",
       "      <td>2023-02-14</td>\n",
       "      <td>A</td>\n",
       "      <td>ERW_AI8N2021070006</td>\n",
       "      <td>Retails</td>\n",
       "      <td>Pathum Thani</td>\n",
       "      <td>123150</td>\n",
       "      <td>MOBIL MULTIPURPOSE ATF, 208LT DR</td>\n",
       "      <td>7168</td>\n",
       "      <td>1</td>\n",
       "    </tr>\n",
       "    <tr>\n",
       "      <th>1</th>\n",
       "      <td>2023-04-20</td>\n",
       "      <td>D</td>\n",
       "      <td>ERW_DBG72020110082</td>\n",
       "      <td>Reseller</td>\n",
       "      <td>Songkhla</td>\n",
       "      <td>124213</td>\n",
       "      <td>MOBIL ATF 220  D 208LT</td>\n",
       "      <td>912</td>\n",
       "      <td>1</td>\n",
       "    </tr>\n",
       "    <tr>\n",
       "      <th>2</th>\n",
       "      <td>2023-10-19</td>\n",
       "      <td>D</td>\n",
       "      <td>ERW_DBG72020110082</td>\n",
       "      <td>Reseller</td>\n",
       "      <td>Songkhla</td>\n",
       "      <td>124216</td>\n",
       "      <td>MOBIL ATF 220 P1/20LT</td>\n",
       "      <td>7340</td>\n",
       "      <td>1</td>\n",
       "    </tr>\n",
       "    <tr>\n",
       "      <th>3</th>\n",
       "      <td>2023-07-25</td>\n",
       "      <td>D</td>\n",
       "      <td>ERW_DBG72020110082</td>\n",
       "      <td>Reseller</td>\n",
       "      <td>Songkhla</td>\n",
       "      <td>124216</td>\n",
       "      <td>MOBIL ATF 220 P1/20LT</td>\n",
       "      <td>1640</td>\n",
       "      <td>1</td>\n",
       "    </tr>\n",
       "    <tr>\n",
       "      <th>4</th>\n",
       "      <td>2023-10-12</td>\n",
       "      <td>D</td>\n",
       "      <td>ERW_DBG72020110082</td>\n",
       "      <td>Reseller</td>\n",
       "      <td>Songkhla</td>\n",
       "      <td>124216</td>\n",
       "      <td>MOBIL ATF 220 P1/20LT</td>\n",
       "      <td>7080</td>\n",
       "      <td>1</td>\n",
       "    </tr>\n",
       "  </tbody>\n",
       "</table>\n",
       "</div>"
      ],
      "text/plain": [
       "  Invoicedate Distributor             GroupId      Type  Provincename   MatNo  \\\n",
       "0  2023-02-14           A  ERW_AI8N2021070006   Retails  Pathum Thani  123150   \n",
       "1  2023-04-20           D  ERW_DBG72020110082  Reseller      Songkhla  124213   \n",
       "2  2023-10-19           D  ERW_DBG72020110082  Reseller      Songkhla  124216   \n",
       "3  2023-07-25           D  ERW_DBG72020110082  Reseller      Songkhla  124216   \n",
       "4  2023-10-12           D  ERW_DBG72020110082  Reseller      Songkhla  124216   \n",
       "\n",
       "                      Material Name  New_Volume(L)  Points  \n",
       "0  MOBIL MULTIPURPOSE ATF, 208LT DR           7168       1  \n",
       "1            MOBIL ATF 220  D 208LT            912       1  \n",
       "2             MOBIL ATF 220 P1/20LT           7340       1  \n",
       "3             MOBIL ATF 220 P1/20LT           1640       1  \n",
       "4             MOBIL ATF 220 P1/20LT           7080       1  "
      ]
     },
     "execution_count": 101,
     "metadata": {},
     "output_type": "execute_result"
    }
   ],
   "source": [
    "mer = pd.merge(mer_sheet1, mer_sheet2, on='MatNo', how='left')\n",
    "print(mer.shape)\n",
    "mer.head()"
   ]
  },
  {
   "cell_type": "markdown",
   "metadata": {},
   "source": [
    "Null/ missing values"
   ]
  },
  {
   "cell_type": "code",
   "execution_count": null,
   "metadata": {},
   "outputs": [
    {
     "data": {
      "text/plain": [
       "Index(['Invoicedate', 'Distributor', 'GroupId', 'Type', 'Provincename',\n",
       "       'MatNo', 'Material Name', 'New_Volume(L)', 'Points'],\n",
       "      dtype='object')"
      ]
     },
     "execution_count": 79,
     "metadata": {},
     "output_type": "execute_result"
    }
   ],
   "source": [
    "mer.columns"
   ]
  },
  {
   "cell_type": "code",
   "execution_count": null,
   "metadata": {},
   "outputs": [
    {
     "data": {
      "text/plain": [
       "Invoicedate      0\n",
       "Distributor      0\n",
       "GroupId          0\n",
       "Type             0\n",
       "Provincename     0\n",
       "MatNo            0\n",
       "Material Name    0\n",
       "New_Volume(L)    0\n",
       "Points           0\n",
       "dtype: int64"
      ]
     },
     "execution_count": 82,
     "metadata": {},
     "output_type": "execute_result"
    }
   ],
   "source": [
    "mer.isnull().sum()"
   ]
  },
  {
   "cell_type": "markdown",
   "metadata": {},
   "source": [
    "Fix Typos of Material Name"
   ]
  },
  {
   "cell_type": "code",
   "execution_count": null,
   "metadata": {},
   "outputs": [
    {
     "data": {
      "text/plain": [
       "(145, 1)"
      ]
     },
     "execution_count": 93,
     "metadata": {},
     "output_type": "execute_result"
    }
   ],
   "source": [
    "mat_default = mer_sheet1.sort_values(['MatNo', 'Material Name']).groupby('MatNo').head(1)\\\n",
    "                        .loc[:, ['MatNo', 'Material Name']].set_index('MatNo')\n",
    "mat_default['Material Name'] = mat_default['Material Name'].str.replace('โมบิล', 'MOBIL')\n",
    "mat_default['Material Name'] = mat_default['Material Name'].str.replace('เดลแวค', 'DELVAC')\n",
    "mat_default['Material Name'] = mat_default['Material Name'].str.replace('สเปเชียล', 'SPECIAL')\n",
    "mat_default.loc[ mat_default.index == 140563, 'Material Name'] = 'MOBIL DELVAC 1 GEAR OIL 75W90, 1/35LB'\n",
    "\n",
    "mat_default.shape\n",
    "# with pd.option_context('display.max_rows', None):\n",
    "#     display(mat_default)"
   ]
  },
  {
   "cell_type": "code",
   "execution_count": null,
   "metadata": {},
   "outputs": [
    {
     "data": {
      "text/plain": [
       "(145, 2)"
      ]
     },
     "execution_count": 95,
     "metadata": {},
     "output_type": "execute_result"
    }
   ],
   "source": [
    "for i in mer['MatNo'].unique():\n",
    "    mer.loc[mer['MatNo'] == i, 'Material Name'] = mat_default.loc[i, 'Material Name']\n",
    "            \n",
    "mer[ ['MatNo', 'Material Name']].drop_duplicates().shape"
   ]
  },
  {
   "cell_type": "code",
   "execution_count": null,
   "metadata": {},
   "outputs": [
    {
     "data": {
      "text/plain": [
       "Invoicedate      False\n",
       "Distributor      False\n",
       "GroupId          False\n",
       "Type             False\n",
       "Provincename     False\n",
       "MatNo            False\n",
       "Material Name    False\n",
       "New_Volume(L)    False\n",
       "Points           False\n",
       "dtype: bool"
      ]
     },
     "execution_count": 96,
     "metadata": {},
     "output_type": "execute_result"
    }
   ],
   "source": [
    "mer.dropna(inplace=True)\n",
    "mer.isnull().any()"
   ]
  },
  {
   "cell_type": "markdown",
   "metadata": {},
   "source": [
    "#### EDA\n",
    "Points per อู่"
   ]
  },
  {
   "cell_type": "code",
   "execution_count": null,
   "metadata": {},
   "outputs": [
    {
     "data": {
      "text/html": [
       "<div>\n",
       "<style scoped>\n",
       "    .dataframe tbody tr th:only-of-type {\n",
       "        vertical-align: middle;\n",
       "    }\n",
       "\n",
       "    .dataframe tbody tr th {\n",
       "        vertical-align: top;\n",
       "    }\n",
       "\n",
       "    .dataframe thead th {\n",
       "        text-align: right;\n",
       "    }\n",
       "</style>\n",
       "<table border=\"1\" class=\"dataframe\">\n",
       "  <thead>\n",
       "    <tr style=\"text-align: right;\">\n",
       "      <th></th>\n",
       "      <th>Invoicedate</th>\n",
       "      <th>Distributor</th>\n",
       "      <th>GroupId</th>\n",
       "      <th>Type</th>\n",
       "      <th>Provincename</th>\n",
       "      <th>MatNo</th>\n",
       "      <th>Material Name</th>\n",
       "      <th>New_Volume(L)</th>\n",
       "      <th>Points</th>\n",
       "    </tr>\n",
       "  </thead>\n",
       "  <tbody>\n",
       "    <tr>\n",
       "      <th>1705</th>\n",
       "      <td>2023-11-03</td>\n",
       "      <td>A</td>\n",
       "      <td>ERW_A7QF2022060002</td>\n",
       "      <td>Retails</td>\n",
       "      <td>NaN</td>\n",
       "      <td>140043</td>\n",
       "      <td>MOBIL ATF 3309 12x1L/CAR</td>\n",
       "      <td>5392</td>\n",
       "      <td>1</td>\n",
       "    </tr>\n",
       "    <tr>\n",
       "      <th>1845</th>\n",
       "      <td>2023-02-13</td>\n",
       "      <td>A</td>\n",
       "      <td>ERW_A7QF2022060003</td>\n",
       "      <td>Retails</td>\n",
       "      <td>NaN</td>\n",
       "      <td>140418</td>\n",
       "      <td>MOBIL 1 TBD 5W-40 CTN 4X6L:TH</td>\n",
       "      <td>5088</td>\n",
       "      <td>10</td>\n",
       "    </tr>\n",
       "    <tr>\n",
       "      <th>1910</th>\n",
       "      <td>2023-02-13</td>\n",
       "      <td>A</td>\n",
       "      <td>ERW_A7QF2022060003</td>\n",
       "      <td>Retails</td>\n",
       "      <td>NaN</td>\n",
       "      <td>140521</td>\n",
       "      <td>MOBIL 1 0W-40 CTN 4X4L:SG</td>\n",
       "      <td>608</td>\n",
       "      <td>10</td>\n",
       "    </tr>\n",
       "    <tr>\n",
       "      <th>2260</th>\n",
       "      <td>2023-02-13</td>\n",
       "      <td>A</td>\n",
       "      <td>ERW_A7QF2022060003</td>\n",
       "      <td>Retails</td>\n",
       "      <td>NaN</td>\n",
       "      <td>142923</td>\n",
       "      <td>MOBIL SPECIAL 20W-50 CTN 4X4L:TH</td>\n",
       "      <td>6544</td>\n",
       "      <td>1</td>\n",
       "    </tr>\n",
       "    <tr>\n",
       "      <th>2275</th>\n",
       "      <td>2023-10-26</td>\n",
       "      <td>A</td>\n",
       "      <td>ERW_A7QF2022060003</td>\n",
       "      <td>Retails</td>\n",
       "      <td>NaN</td>\n",
       "      <td>142923</td>\n",
       "      <td>MOBIL SPECIAL 20W-50 4X4L/CAR</td>\n",
       "      <td>1104</td>\n",
       "      <td>1</td>\n",
       "    </tr>\n",
       "  </tbody>\n",
       "</table>\n",
       "</div>"
      ],
      "text/plain": [
       "     Invoicedate Distributor             GroupId     Type Provincename  \\\n",
       "1705  2023-11-03           A  ERW_A7QF2022060002  Retails          NaN   \n",
       "1845  2023-02-13           A  ERW_A7QF2022060003  Retails          NaN   \n",
       "1910  2023-02-13           A  ERW_A7QF2022060003  Retails          NaN   \n",
       "2260  2023-02-13           A  ERW_A7QF2022060003  Retails          NaN   \n",
       "2275  2023-10-26           A  ERW_A7QF2022060003  Retails          NaN   \n",
       "\n",
       "       MatNo                     Material Name  New_Volume(L)  Points  \n",
       "1705  140043          MOBIL ATF 3309 12x1L/CAR           5392       1  \n",
       "1845  140418     MOBIL 1 TBD 5W-40 CTN 4X6L:TH           5088      10  \n",
       "1910  140521         MOBIL 1 0W-40 CTN 4X4L:SG            608      10  \n",
       "2260  142923  MOBIL SPECIAL 20W-50 CTN 4X4L:TH           6544       1  \n",
       "2275  142923     MOBIL SPECIAL 20W-50 4X4L/CAR           1104       1  "
      ]
     },
     "execution_count": 140,
     "metadata": {},
     "output_type": "execute_result"
    }
   ],
   "source": [
    "mer['Provincename'] = mer['Provincename'].replace('N\\A', np.nan)\n",
    "mer[mer['Provincename'].isnull()].head()"
   ]
  },
  {
   "cell_type": "code",
   "execution_count": null,
   "metadata": {},
   "outputs": [
    {
     "data": {
      "text/html": [
       "<div>\n",
       "<style scoped>\n",
       "    .dataframe tbody tr th:only-of-type {\n",
       "        vertical-align: middle;\n",
       "    }\n",
       "\n",
       "    .dataframe tbody tr th {\n",
       "        vertical-align: top;\n",
       "    }\n",
       "\n",
       "    .dataframe thead th {\n",
       "        text-align: right;\n",
       "    }\n",
       "</style>\n",
       "<table border=\"1\" class=\"dataframe\">\n",
       "  <thead>\n",
       "    <tr style=\"text-align: right;\">\n",
       "      <th></th>\n",
       "      <th>Distributor</th>\n",
       "      <th>Unique Provinces</th>\n",
       "    </tr>\n",
       "  </thead>\n",
       "  <tbody>\n",
       "    <tr>\n",
       "      <th>0</th>\n",
       "      <td>A</td>\n",
       "      <td>[Pathum Thani, Chon Buri, Chachoengsao, Rayong...</td>\n",
       "    </tr>\n",
       "    <tr>\n",
       "      <th>1</th>\n",
       "      <td>B</td>\n",
       "      <td>[Kanchanaburi, Nakhon Pathom, Samut Sakhon, Ba...</td>\n",
       "    </tr>\n",
       "    <tr>\n",
       "      <th>2</th>\n",
       "      <td>C</td>\n",
       "      <td>[Sukhothai, Kamphaeng Phet, Chon Buri, Phrae, ...</td>\n",
       "    </tr>\n",
       "    <tr>\n",
       "      <th>3</th>\n",
       "      <td>D</td>\n",
       "      <td>[Songkhla, Surat Thani, Pattani, Phangnga, Phu...</td>\n",
       "    </tr>\n",
       "  </tbody>\n",
       "</table>\n",
       "</div>"
      ],
      "text/plain": [
       "  Distributor                                   Unique Provinces\n",
       "0           A  [Pathum Thani, Chon Buri, Chachoengsao, Rayong...\n",
       "1           B  [Kanchanaburi, Nakhon Pathom, Samut Sakhon, Ba...\n",
       "2           C  [Sukhothai, Kamphaeng Phet, Chon Buri, Phrae, ...\n",
       "3           D  [Songkhla, Surat Thani, Pattani, Phangnga, Phu..."
      ]
     },
     "execution_count": 141,
     "metadata": {},
     "output_type": "execute_result"
    }
   ],
   "source": [
    "result = mer.groupby('Distributor')['Provincename'].apply(lambda x: list(x.unique())).reset_index()\n",
    "result.columns = ['Distributor', 'Unique Provinces']\n",
    "result"
   ]
  },
  {
   "cell_type": "code",
   "execution_count": null,
   "metadata": {},
   "outputs": [
    {
     "data": {
      "image/png": "[encoded data removed]",
      "text/plain": [
       "<Figure size 640x480 with 1 Axes>"
      ]
     },
     "metadata": {},
     "output_type": "display_data"
    }
   ],
   "source": [
    "# Trending of sales in mer\n",
    "sns.lineplot(data=mer, x='Invoicedate', y='New_Volume(L)')\n",
    "plt.show()"
   ]
  },
  {
   "cell_type": "code",
   "execution_count": null,
   "metadata": {},
   "outputs": [
    {
     "data": {
      "image/png": "[encoded data removed]",
      "text/plain": [
       "<Figure size 640x480 with 1 Axes>"
      ]
     },
     "metadata": {},
     "output_type": "display_data"
    }
   ],
   "source": [
    "# count of mrw\n",
    "# sns.lineplot(data=mrw, x='ScanDate', y='count')\n",
    "\n",
    "# order per day\n",
    "sns.histplot(data=mrw, x='Qty')\n",
    "plt.show()"
   ]
  },
  {
   "cell_type": "code",
   "execution_count": null,
   "metadata": {},
   "outputs": [
    {
     "data": {
      "text/plain": [
       "Text(0.5, 1.0, 'User by quarter')"
      ]
     },
     "execution_count": 153,
     "metadata": {},
     "output_type": "execute_result"
    },
    {
     "data": {
      "image/png": "[encoded data removed]",
      "text/plain": [
       "<Figure size 1200x500 with 2 Axes>"
      ]
     },
     "metadata": {},
     "output_type": "display_data"
    }
   ],
   "source": [
    "time_series = mrw.copy()\n",
    "time_series['Month'] = mrw['ScanDate'].dt.month\n",
    "time_series['Year'] = mrw['ScanDate'].dt.year\n",
    "time_series['Quarter'] = mrw['ScanDate'].dt.quarter\n",
    "\n",
    "sales_per_month = time_series.groupby(['Year', 'Month']).agg({'UserId': 'count'}).\\\n",
    "                                rename(columns={'UserId': 'quantity'}).reset_index()\n",
    "sales_per_quarter = time_series.groupby(['Year', 'Quarter']).agg({'UserId': 'count'})\\\n",
    "                                .rename(columns={'UserId': 'quantity'}).reset_index()\n",
    "\n",
    "fig, ax = plt.subplots(1, 2, figsize=(12, 5))\n",
    "ax[0].plot(sales_per_month['Month'], sales_per_month['quantity'])\n",
    "ax[0].set_title('User by month')\n",
    "\n",
    "ax[1].plot(sales_per_quarter['Quarter'], sales_per_quarter['quantity'])\n",
    "ax[1].set_title('User by quarter')"
   ]
  },
  {
   "cell_type": "code",
   "execution_count": null,
   "metadata": {},
   "outputs": [],
   "source": []
  },
  {
   "cell_type": "code",
   "execution_count": null,
   "metadata": {},
   "outputs": [],
   "source": []
  }
 ],
 "metadata": {
  "kernelspec": {
   "display_name": "Python 3",
   "language": "python",
   "name": "python3"
  },
  "language_info": {
   "codemirror_mode": {
    "name": "ipython",
    "version": 3
   },
   "file_extension": ".py",
   "mimetype": "text/x-python",
   "name": "python",
   "nbconvert_exporter": "python",
   "pygments_lexer": "ipython3",
   "version": "3.11.5"
  }
 },
 "nbformat": 4,
 "nbformat_minor": 2
}
