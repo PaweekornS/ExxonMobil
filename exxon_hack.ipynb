{
 "cells": [
  {
   "cell_type": "code",
   "execution_count": 127,
   "metadata": {},
   "outputs": [],
   "source": [
    "import pandas as pd\n",
    "import numpy as np\n",
    "import matplotlib.pyplot as plt\n",
    "import seaborn as sns"
   ]
  },
  {
   "cell_type": "markdown",
   "metadata": {},
   "source": [
    "## Overview\n",
    "### 1. MRW file"
   ]
  },
  {
   "cell_type": "code",
   "execution_count": 72,
   "metadata": {},
   "outputs": [],
   "source": [
    "xls = pd.ExcelFile('dataset/MRW_v2.xlsx')\n",
    "sheet1 = pd.read_excel(xls, 'Transaction')\n",
    "sheet2 = pd.read_excel(xls, 'SKU_point_Ltr')\n",
    "sheet3 = pd.read_excel(xls, 'Garange Profile')\n",
    "sheet4 = pd.read_excel(xls, 'User')"
   ]
  },
  {
   "cell_type": "code",
   "execution_count": 77,
   "metadata": {},
   "outputs": [
    {
     "name": "stdout",
     "output_type": "stream",
     "text": [
      "(215656, 5)\n"
     ]
    },
    {
     "data": {
      "text/html": [
       "<div>\n",
       "<style scoped>\n",
       "    .dataframe tbody tr th:only-of-type {\n",
       "        vertical-align: middle;\n",
       "    }\n",
       "\n",
       "    .dataframe tbody tr th {\n",
       "        vertical-align: top;\n",
       "    }\n",
       "\n",
       "    .dataframe thead th {\n",
       "        text-align: right;\n",
       "    }\n",
       "</style>\n",
       "<table border=\"1\" class=\"dataframe\">\n",
       "  <thead>\n",
       "    <tr style=\"text-align: right;\">\n",
       "      <th></th>\n",
       "      <th>Distributor</th>\n",
       "      <th>ProductName</th>\n",
       "      <th>ProductSKU</th>\n",
       "      <th>ScanDate</th>\n",
       "      <th>UserId</th>\n",
       "    </tr>\n",
       "  </thead>\n",
       "  <tbody>\n",
       "    <tr>\n",
       "      <th>165036</th>\n",
       "      <td>D</td>\n",
       "      <td>Mobil Super FF</td>\n",
       "      <td>Mobil Super FF 4L - 7L</td>\n",
       "      <td>2023-09-07</td>\n",
       "      <td>EXL_1623509340705</td>\n",
       "    </tr>\n",
       "    <tr>\n",
       "      <th>153178</th>\n",
       "      <td>A</td>\n",
       "      <td>Mobil Super AIO</td>\n",
       "      <td>Charcoal - Large 4L - 5L</td>\n",
       "      <td>2023-08-27</td>\n",
       "      <td>EXL_1629968899040</td>\n",
       "    </tr>\n",
       "    <tr>\n",
       "      <th>190481</th>\n",
       "      <td>A</td>\n",
       "      <td>Mobil Super FF</td>\n",
       "      <td>Mobil Super FF 4L - 7L</td>\n",
       "      <td>2023-11-02</td>\n",
       "      <td>EXL_1576758423213</td>\n",
       "    </tr>\n",
       "    <tr>\n",
       "      <th>194508</th>\n",
       "      <td>A</td>\n",
       "      <td>Silver Large</td>\n",
       "      <td>Silver - Large 4L</td>\n",
       "      <td>2023-08-16</td>\n",
       "      <td>EXL_1588852428447</td>\n",
       "    </tr>\n",
       "    <tr>\n",
       "      <th>83949</th>\n",
       "      <td>A</td>\n",
       "      <td>Silver Large</td>\n",
       "      <td>Silver - Large 4L</td>\n",
       "      <td>2023-05-06</td>\n",
       "      <td>EXL_1641897640593</td>\n",
       "    </tr>\n",
       "  </tbody>\n",
       "</table>\n",
       "</div>"
      ],
      "text/plain": [
       "       Distributor      ProductName                ProductSKU   ScanDate  \\\n",
       "165036           D   Mobil Super FF    Mobil Super FF 4L - 7L 2023-09-07   \n",
       "153178           A  Mobil Super AIO  Charcoal - Large 4L - 5L 2023-08-27   \n",
       "190481           A   Mobil Super FF    Mobil Super FF 4L - 7L 2023-11-02   \n",
       "194508           A     Silver Large         Silver - Large 4L 2023-08-16   \n",
       "83949            A     Silver Large         Silver - Large 4L 2023-05-06   \n",
       "\n",
       "                   UserId  \n",
       "165036  EXL_1623509340705  \n",
       "153178  EXL_1629968899040  \n",
       "190481  EXL_1576758423213  \n",
       "194508  EXL_1588852428447  \n",
       "83949   EXL_1641897640593  "
      ]
     },
     "execution_count": 77,
     "metadata": {},
     "output_type": "execute_result"
    }
   ],
   "source": [
    "print(sheet1.shape)\n",
    "# sheet1.sample(5)"
   ]
  },
  {
   "cell_type": "code",
   "execution_count": 78,
   "metadata": {},
   "outputs": [
    {
     "data": {
      "text/html": [
       "<div>\n",
       "<style scoped>\n",
       "    .dataframe tbody tr th:only-of-type {\n",
       "        vertical-align: middle;\n",
       "    }\n",
       "\n",
       "    .dataframe tbody tr th {\n",
       "        vertical-align: top;\n",
       "    }\n",
       "\n",
       "    .dataframe thead th {\n",
       "        text-align: right;\n",
       "    }\n",
       "</style>\n",
       "<table border=\"1\" class=\"dataframe\">\n",
       "  <thead>\n",
       "    <tr style=\"text-align: right;\">\n",
       "      <th></th>\n",
       "      <th>Distributor</th>\n",
       "      <th>ProductName</th>\n",
       "      <th>ProductSKU</th>\n",
       "      <th>ScanDate</th>\n",
       "      <th>UserId</th>\n",
       "      <th>Qty</th>\n",
       "    </tr>\n",
       "  </thead>\n",
       "  <tbody>\n",
       "    <tr>\n",
       "      <th>0</th>\n",
       "      <td>B</td>\n",
       "      <td>Mobil Super AIO - Charcoal</td>\n",
       "      <td>Mobil Super AIO - 7L</td>\n",
       "      <td>2023-11-29</td>\n",
       "      <td>EXL_1692444744991</td>\n",
       "      <td>32</td>\n",
       "    </tr>\n",
       "    <tr>\n",
       "      <th>1</th>\n",
       "      <td>B</td>\n",
       "      <td>Mobil Super AIO - Charcoal</td>\n",
       "      <td>Mobil Super AIO - 7L</td>\n",
       "      <td>2023-08-24</td>\n",
       "      <td>EXL_1692444744991</td>\n",
       "      <td>32</td>\n",
       "    </tr>\n",
       "    <tr>\n",
       "      <th>2</th>\n",
       "      <td>B</td>\n",
       "      <td>Mobil Super AIO - Charcoal</td>\n",
       "      <td>Mobil Super AIO - 7L</td>\n",
       "      <td>2023-08-22</td>\n",
       "      <td>EXL_1692444744991</td>\n",
       "      <td>32</td>\n",
       "    </tr>\n",
       "    <tr>\n",
       "      <th>3</th>\n",
       "      <td>B</td>\n",
       "      <td>Mobil Super AIO - Charcoal</td>\n",
       "      <td>Mobil Super AIO - 7L</td>\n",
       "      <td>2023-08-19</td>\n",
       "      <td>EXL_1692444744991</td>\n",
       "      <td>32</td>\n",
       "    </tr>\n",
       "    <tr>\n",
       "      <th>4</th>\n",
       "      <td>A</td>\n",
       "      <td>Mobil Super FF</td>\n",
       "      <td>Mobil Super FF 4L - 7L</td>\n",
       "      <td>2023-11-24</td>\n",
       "      <td>EXL_1652546700176</td>\n",
       "      <td>39</td>\n",
       "    </tr>\n",
       "  </tbody>\n",
       "</table>\n",
       "</div>"
      ],
      "text/plain": [
       "  Distributor                 ProductName              ProductSKU   ScanDate  \\\n",
       "0           B  Mobil Super AIO - Charcoal    Mobil Super AIO - 7L 2023-11-29   \n",
       "1           B  Mobil Super AIO - Charcoal    Mobil Super AIO - 7L 2023-08-24   \n",
       "2           B  Mobil Super AIO - Charcoal    Mobil Super AIO - 7L 2023-08-22   \n",
       "3           B  Mobil Super AIO - Charcoal    Mobil Super AIO - 7L 2023-08-19   \n",
       "4           A              Mobil Super FF  Mobil Super FF 4L - 7L 2023-11-24   \n",
       "\n",
       "              UserId  Qty  \n",
       "0  EXL_1692444744991   32  \n",
       "1  EXL_1692444744991   32  \n",
       "2  EXL_1692444744991   32  \n",
       "3  EXL_1692444744991   32  \n",
       "4  EXL_1652546700176   39  "
      ]
     },
     "execution_count": 78,
     "metadata": {},
     "output_type": "execute_result"
    }
   ],
   "source": [
    "count_per_garange = sheet1.groupby('UserId').agg({'ScanDate': 'count'}).rename(columns={'ScanDate': 'Qty'})\n",
    "sheet1_clean = pd.merge(sheet1.drop_duplicates(), count_per_garange, on='UserId', how='left')\n",
    "sheet1_clean.head()"
   ]
  },
  {
   "cell_type": "code",
   "execution_count": 80,
   "metadata": {},
   "outputs": [
    {
     "name": "stdout",
     "output_type": "stream",
     "text": [
      "(10, 3)\n"
     ]
    },
    {
     "data": {
      "text/html": [
       "<div>\n",
       "<style scoped>\n",
       "    .dataframe tbody tr th:only-of-type {\n",
       "        vertical-align: middle;\n",
       "    }\n",
       "\n",
       "    .dataframe tbody tr th {\n",
       "        vertical-align: top;\n",
       "    }\n",
       "\n",
       "    .dataframe thead th {\n",
       "        text-align: right;\n",
       "    }\n",
       "</style>\n",
       "<table border=\"1\" class=\"dataframe\">\n",
       "  <thead>\n",
       "    <tr style=\"text-align: right;\">\n",
       "      <th></th>\n",
       "      <th>ProductSKU</th>\n",
       "      <th>Points</th>\n",
       "      <th>Volume (L)</th>\n",
       "    </tr>\n",
       "  </thead>\n",
       "  <tbody>\n",
       "    <tr>\n",
       "      <th>0</th>\n",
       "      <td>Mobil 1 Gold 4L - 6L</td>\n",
       "      <td>60</td>\n",
       "      <td>6</td>\n",
       "    </tr>\n",
       "    <tr>\n",
       "      <th>1</th>\n",
       "      <td>Silver - Large 4L</td>\n",
       "      <td>50</td>\n",
       "      <td>4</td>\n",
       "    </tr>\n",
       "    <tr>\n",
       "      <th>2</th>\n",
       "      <td>Gold - Large 4L</td>\n",
       "      <td>50</td>\n",
       "      <td>4</td>\n",
       "    </tr>\n",
       "    <tr>\n",
       "      <th>3</th>\n",
       "      <td>Mobil Super AIO - 7L</td>\n",
       "      <td>45</td>\n",
       "      <td>7</td>\n",
       "    </tr>\n",
       "    <tr>\n",
       "      <th>4</th>\n",
       "      <td>Mobil Super AIO 3L - 6L</td>\n",
       "      <td>40</td>\n",
       "      <td>5</td>\n",
       "    </tr>\n",
       "  </tbody>\n",
       "</table>\n",
       "</div>"
      ],
      "text/plain": [
       "                ProductSKU  Points  Volume (L)\n",
       "0     Mobil 1 Gold 4L - 6L      60           6\n",
       "1        Silver - Large 4L      50           4\n",
       "2          Gold - Large 4L      50           4\n",
       "3     Mobil Super AIO - 7L      45           7\n",
       "4  Mobil Super AIO 3L - 6L      40           5"
      ]
     },
     "execution_count": 80,
     "metadata": {},
     "output_type": "execute_result"
    }
   ],
   "source": [
    "print(sheet2.shape)\n",
    "# sheet2.head()"
   ]
  },
  {
   "cell_type": "code",
   "execution_count": 81,
   "metadata": {},
   "outputs": [
    {
     "name": "stdout",
     "output_type": "stream",
     "text": [
      "(4006, 5)\n"
     ]
    },
    {
     "data": {
      "text/html": [
       "<div>\n",
       "<style scoped>\n",
       "    .dataframe tbody tr th:only-of-type {\n",
       "        vertical-align: middle;\n",
       "    }\n",
       "\n",
       "    .dataframe tbody tr th {\n",
       "        vertical-align: top;\n",
       "    }\n",
       "\n",
       "    .dataframe thead th {\n",
       "        text-align: right;\n",
       "    }\n",
       "</style>\n",
       "<table border=\"1\" class=\"dataframe\">\n",
       "  <thead>\n",
       "    <tr style=\"text-align: right;\">\n",
       "      <th></th>\n",
       "      <th>OwnerId</th>\n",
       "      <th>Postcode</th>\n",
       "      <th>Province</th>\n",
       "      <th>District</th>\n",
       "      <th>Distributor</th>\n",
       "    </tr>\n",
       "  </thead>\n",
       "  <tbody>\n",
       "    <tr>\n",
       "      <th>0</th>\n",
       "      <td>EXL_1569434212261</td>\n",
       "      <td>10310.0</td>\n",
       "      <td>กรุงเทพมหานคร</td>\n",
       "      <td>เขตห้วยขวาง</td>\n",
       "      <td>A</td>\n",
       "    </tr>\n",
       "    <tr>\n",
       "      <th>1</th>\n",
       "      <td>EXL_1569438736165</td>\n",
       "      <td>10250.0</td>\n",
       "      <td>กรุงเทพมหานคร</td>\n",
       "      <td>เขตประเวศ</td>\n",
       "      <td>A</td>\n",
       "    </tr>\n",
       "    <tr>\n",
       "      <th>2</th>\n",
       "      <td>EXL_1569513392397</td>\n",
       "      <td>10120.0</td>\n",
       "      <td>กรุงเทพมหานคร</td>\n",
       "      <td>เขตสาทร</td>\n",
       "      <td>A</td>\n",
       "    </tr>\n",
       "    <tr>\n",
       "      <th>3</th>\n",
       "      <td>EXL_1569861369270</td>\n",
       "      <td>50130.0</td>\n",
       "      <td>เชียงใหม่</td>\n",
       "      <td>เขตสันกำแพง</td>\n",
       "      <td>C</td>\n",
       "    </tr>\n",
       "    <tr>\n",
       "      <th>4</th>\n",
       "      <td>EXL_1569867483497</td>\n",
       "      <td>73160.0</td>\n",
       "      <td>นครปฐม</td>\n",
       "      <td>เขตสามพราน</td>\n",
       "      <td>B</td>\n",
       "    </tr>\n",
       "  </tbody>\n",
       "</table>\n",
       "</div>"
      ],
      "text/plain": [
       "             OwnerId  Postcode       Province    District  Distributor\n",
       "0  EXL_1569434212261   10310.0  กรุงเทพมหานคร  เขตห้วยขวาง           A\n",
       "1  EXL_1569438736165   10250.0  กรุงเทพมหานคร    เขตประเวศ           A\n",
       "2  EXL_1569513392397   10120.0  กรุงเทพมหานคร      เขตสาทร           A\n",
       "3  EXL_1569861369270   50130.0      เชียงใหม่  เขตสันกำแพง           C\n",
       "4  EXL_1569867483497   73160.0         นครปฐม   เขตสามพราน           B"
      ]
     },
     "execution_count": 81,
     "metadata": {},
     "output_type": "execute_result"
    }
   ],
   "source": [
    "print(sheet3.shape)\n",
    "# sheet3.head()"
   ]
  },
  {
   "cell_type": "code",
   "execution_count": 83,
   "metadata": {},
   "outputs": [
    {
     "name": "stdout",
     "output_type": "stream",
     "text": [
      "(4719, 3)\n"
     ]
    },
    {
     "data": {
      "text/html": [
       "<div>\n",
       "<style scoped>\n",
       "    .dataframe tbody tr th:only-of-type {\n",
       "        vertical-align: middle;\n",
       "    }\n",
       "\n",
       "    .dataframe tbody tr th {\n",
       "        vertical-align: top;\n",
       "    }\n",
       "\n",
       "    .dataframe thead th {\n",
       "        text-align: right;\n",
       "    }\n",
       "</style>\n",
       "<table border=\"1\" class=\"dataframe\">\n",
       "  <thead>\n",
       "    <tr style=\"text-align: right;\">\n",
       "      <th></th>\n",
       "      <th>UserId</th>\n",
       "      <th>GarageId</th>\n",
       "      <th>UserType</th>\n",
       "    </tr>\n",
       "  </thead>\n",
       "  <tbody>\n",
       "    <tr>\n",
       "      <th>0</th>\n",
       "      <td>EXL_1569429819465</td>\n",
       "      <td>TX4276</td>\n",
       "      <td>Owner</td>\n",
       "    </tr>\n",
       "    <tr>\n",
       "      <th>1</th>\n",
       "      <td>EXL_1569431062769</td>\n",
       "      <td>IP0146</td>\n",
       "      <td>Owner</td>\n",
       "    </tr>\n",
       "    <tr>\n",
       "      <th>2</th>\n",
       "      <td>EXL_1569431134633</td>\n",
       "      <td>AF0708</td>\n",
       "      <td>Employee</td>\n",
       "    </tr>\n",
       "    <tr>\n",
       "      <th>3</th>\n",
       "      <td>EXL_1569431146924</td>\n",
       "      <td>TX4276</td>\n",
       "      <td>Employee</td>\n",
       "    </tr>\n",
       "    <tr>\n",
       "      <th>4</th>\n",
       "      <td>EXL_1569432034271</td>\n",
       "      <td>TX4276</td>\n",
       "      <td>Employee</td>\n",
       "    </tr>\n",
       "  </tbody>\n",
       "</table>\n",
       "</div>"
      ],
      "text/plain": [
       "              UserId GarageId  UserType\n",
       "0  EXL_1569429819465   TX4276     Owner\n",
       "1  EXL_1569431062769   IP0146     Owner\n",
       "2  EXL_1569431134633   AF0708  Employee\n",
       "3  EXL_1569431146924   TX4276  Employee\n",
       "4  EXL_1569432034271   TX4276  Employee"
      ]
     },
     "execution_count": 83,
     "metadata": {},
     "output_type": "execute_result"
    }
   ],
   "source": [
    "print(sheet4.shape)\n",
    "# sheet4.head()"
   ]
  },
  {
   "cell_type": "code",
   "execution_count": 84,
   "metadata": {},
   "outputs": [],
   "source": [
    "merge_1 = pd.merge(sheet1_clean, sheet2, on='ProductSKU', how='left')\n",
    "merge_2 = pd.merge(merge_1, sheet3, left_on=['UserId', 'Distributor'], right_on=['OwnerId', 'Distributor'], \n",
    "                   how='left')\n",
    "mrw = pd.merge(merge_2, sheet4, on='UserId', how='left')"
   ]
  },
  {
   "cell_type": "code",
   "execution_count": 85,
   "metadata": {},
   "outputs": [
    {
     "name": "stdout",
     "output_type": "stream",
     "text": [
      "(36015, 14)\n"
     ]
    },
    {
     "data": {
      "text/html": [
       "<div>\n",
       "<style scoped>\n",
       "    .dataframe tbody tr th:only-of-type {\n",
       "        vertical-align: middle;\n",
       "    }\n",
       "\n",
       "    .dataframe tbody tr th {\n",
       "        vertical-align: top;\n",
       "    }\n",
       "\n",
       "    .dataframe thead th {\n",
       "        text-align: right;\n",
       "    }\n",
       "</style>\n",
       "<table border=\"1\" class=\"dataframe\">\n",
       "  <thead>\n",
       "    <tr style=\"text-align: right;\">\n",
       "      <th></th>\n",
       "      <th>Distributor</th>\n",
       "      <th>ProductName</th>\n",
       "      <th>ProductSKU</th>\n",
       "      <th>ScanDate</th>\n",
       "      <th>UserId</th>\n",
       "      <th>Qty</th>\n",
       "      <th>Points</th>\n",
       "      <th>Volume (L)</th>\n",
       "      <th>OwnerId</th>\n",
       "      <th>Postcode</th>\n",
       "      <th>Province</th>\n",
       "      <th>District</th>\n",
       "      <th>GarageId</th>\n",
       "      <th>UserType</th>\n",
       "    </tr>\n",
       "  </thead>\n",
       "  <tbody>\n",
       "    <tr>\n",
       "      <th>0</th>\n",
       "      <td>B</td>\n",
       "      <td>Mobil Super AIO - Charcoal</td>\n",
       "      <td>Mobil Super AIO - 7L</td>\n",
       "      <td>2023-11-29</td>\n",
       "      <td>EXL_1692444744991</td>\n",
       "      <td>32</td>\n",
       "      <td>45</td>\n",
       "      <td>7</td>\n",
       "      <td>EXL_1692444744991</td>\n",
       "      <td>72000.0</td>\n",
       "      <td>สุพรรณบุรี</td>\n",
       "      <td>เขตศรีประจันต์</td>\n",
       "      <td>AA3539</td>\n",
       "      <td>Owner</td>\n",
       "    </tr>\n",
       "    <tr>\n",
       "      <th>1</th>\n",
       "      <td>B</td>\n",
       "      <td>Mobil Super AIO - Charcoal</td>\n",
       "      <td>Mobil Super AIO - 7L</td>\n",
       "      <td>2023-08-24</td>\n",
       "      <td>EXL_1692444744991</td>\n",
       "      <td>32</td>\n",
       "      <td>45</td>\n",
       "      <td>7</td>\n",
       "      <td>EXL_1692444744991</td>\n",
       "      <td>72000.0</td>\n",
       "      <td>สุพรรณบุรี</td>\n",
       "      <td>เขตศรีประจันต์</td>\n",
       "      <td>AA3539</td>\n",
       "      <td>Owner</td>\n",
       "    </tr>\n",
       "    <tr>\n",
       "      <th>2</th>\n",
       "      <td>B</td>\n",
       "      <td>Mobil Super AIO - Charcoal</td>\n",
       "      <td>Mobil Super AIO - 7L</td>\n",
       "      <td>2023-08-22</td>\n",
       "      <td>EXL_1692444744991</td>\n",
       "      <td>32</td>\n",
       "      <td>45</td>\n",
       "      <td>7</td>\n",
       "      <td>EXL_1692444744991</td>\n",
       "      <td>72000.0</td>\n",
       "      <td>สุพรรณบุรี</td>\n",
       "      <td>เขตศรีประจันต์</td>\n",
       "      <td>AA3539</td>\n",
       "      <td>Owner</td>\n",
       "    </tr>\n",
       "    <tr>\n",
       "      <th>3</th>\n",
       "      <td>B</td>\n",
       "      <td>Mobil Super AIO - Charcoal</td>\n",
       "      <td>Mobil Super AIO - 7L</td>\n",
       "      <td>2023-08-19</td>\n",
       "      <td>EXL_1692444744991</td>\n",
       "      <td>32</td>\n",
       "      <td>45</td>\n",
       "      <td>7</td>\n",
       "      <td>EXL_1692444744991</td>\n",
       "      <td>72000.0</td>\n",
       "      <td>สุพรรณบุรี</td>\n",
       "      <td>เขตศรีประจันต์</td>\n",
       "      <td>AA3539</td>\n",
       "      <td>Owner</td>\n",
       "    </tr>\n",
       "    <tr>\n",
       "      <th>4</th>\n",
       "      <td>A</td>\n",
       "      <td>Mobil Super FF</td>\n",
       "      <td>Mobil Super FF 4L - 7L</td>\n",
       "      <td>2023-11-24</td>\n",
       "      <td>EXL_1652546700176</td>\n",
       "      <td>39</td>\n",
       "      <td>35</td>\n",
       "      <td>6</td>\n",
       "      <td>NaN</td>\n",
       "      <td>NaN</td>\n",
       "      <td>NaN</td>\n",
       "      <td>NaN</td>\n",
       "      <td>AC9774</td>\n",
       "      <td>Employee</td>\n",
       "    </tr>\n",
       "  </tbody>\n",
       "</table>\n",
       "</div>"
      ],
      "text/plain": [
       "  Distributor                 ProductName              ProductSKU   ScanDate  \\\n",
       "0           B  Mobil Super AIO - Charcoal    Mobil Super AIO - 7L 2023-11-29   \n",
       "1           B  Mobil Super AIO - Charcoal    Mobil Super AIO - 7L 2023-08-24   \n",
       "2           B  Mobil Super AIO - Charcoal    Mobil Super AIO - 7L 2023-08-22   \n",
       "3           B  Mobil Super AIO - Charcoal    Mobil Super AIO - 7L 2023-08-19   \n",
       "4           A              Mobil Super FF  Mobil Super FF 4L - 7L 2023-11-24   \n",
       "\n",
       "              UserId  Qty  Points  Volume (L)            OwnerId  Postcode  \\\n",
       "0  EXL_1692444744991   32      45           7  EXL_1692444744991   72000.0   \n",
       "1  EXL_1692444744991   32      45           7  EXL_1692444744991   72000.0   \n",
       "2  EXL_1692444744991   32      45           7  EXL_1692444744991   72000.0   \n",
       "3  EXL_1692444744991   32      45           7  EXL_1692444744991   72000.0   \n",
       "4  EXL_1652546700176   39      35           6                NaN       NaN   \n",
       "\n",
       "     Province       District  GarageId  UserType  \n",
       "0  สุพรรณบุรี  เขตศรีประจันต์   AA3539     Owner  \n",
       "1  สุพรรณบุรี  เขตศรีประจันต์   AA3539     Owner  \n",
       "2  สุพรรณบุรี  เขตศรีประจันต์   AA3539     Owner  \n",
       "3  สุพรรณบุรี  เขตศรีประจันต์   AA3539     Owner  \n",
       "4         NaN             NaN   AC9774  Employee  "
      ]
     },
     "execution_count": 85,
     "metadata": {},
     "output_type": "execute_result"
    }
   ],
   "source": [
    "print(mrw.shape)\n",
    "mrw.head()"
   ]
  },
  {
   "cell_type": "markdown",
   "metadata": {},
   "source": [
    "Handle null/ missing values"
   ]
  },
  {
   "cell_type": "code",
   "execution_count": 86,
   "metadata": {},
   "outputs": [
    {
     "data": {
      "text/plain": [
       "Index(['Distributor', 'ProductName', 'ProductSKU', 'ScanDate', 'UserId', 'Qty',\n",
       "       'Points', 'Volume (L)', 'OwnerId', 'Postcode', 'Province', 'District ',\n",
       "       'GarageId', 'UserType'],\n",
       "      dtype='object')"
      ]
     },
     "execution_count": 86,
     "metadata": {},
     "output_type": "execute_result"
    }
   ],
   "source": [
    "mrw.columns"
   ]
  },
  {
   "cell_type": "code",
   "execution_count": 132,
   "metadata": {},
   "outputs": [
    {
     "data": {
      "text/plain": [
       "Distributor            object\n",
       "ProductName            object\n",
       "ProductSKU             object\n",
       "ScanDate       datetime64[ns]\n",
       "UserId                 object\n",
       "Qty                     int64\n",
       "Points                  int64\n",
       "Volume (L)              int64\n",
       "OwnerId                object\n",
       "Postcode                int32\n",
       "Province               object\n",
       "District               object\n",
       "GarageId               object\n",
       "UserType               object\n",
       "dtype: object"
      ]
     },
     "execution_count": 132,
     "metadata": {},
     "output_type": "execute_result"
    }
   ],
   "source": [
    "mrw.dtypes"
   ]
  },
  {
   "cell_type": "code",
   "execution_count": 87,
   "metadata": {},
   "outputs": [
    {
     "data": {
      "text/plain": [
       "Distributor       0\n",
       "ProductName       0\n",
       "ProductSKU        0\n",
       "ScanDate          0\n",
       "UserId            0\n",
       "Qty               0\n",
       "Points            0\n",
       "Volume (L)        0\n",
       "OwnerId        3649\n",
       "Postcode       3757\n",
       "Province       3649\n",
       "District       3649\n",
       "GarageId          0\n",
       "UserType          0\n",
       "dtype: int64"
      ]
     },
     "execution_count": 87,
     "metadata": {},
     "output_type": "execute_result"
    }
   ],
   "source": [
    "mrw.rename(columns={'District ': 'District'}, inplace=True)\n",
    "mrw.isnull().sum()"
   ]
  },
  {
   "cell_type": "code",
   "execution_count": 88,
   "metadata": {},
   "outputs": [
    {
     "data": {
      "text/plain": [
       "(32366, 14)"
      ]
     },
     "execution_count": 88,
     "metadata": {},
     "output_type": "execute_result"
    }
   ],
   "source": [
    "null_province = mrw[ mrw['Province'].isnull() ].index\n",
    "# drop unreliability records -> don't have province, district\n",
    "mrw.drop(index=null_province, inplace=True)\n",
    "\n",
    "mrw.spe"
   ]
  },
  {
   "cell_type": "code",
   "execution_count": 89,
   "metadata": {},
   "outputs": [],
   "source": [
    "# fill null Postcode with 0\n",
    "mrw['Postcode'] = mrw['Postcode'].fillna(0).astype('int')"
   ]
  },
  {
   "cell_type": "markdown",
   "metadata": {},
   "source": [
    "Distributor per Province"
   ]
  },
  {
   "cell_type": "code",
   "execution_count": 124,
   "metadata": {},
   "outputs": [
    {
     "data": {
      "text/html": [
       "<div>\n",
       "<style scoped>\n",
       "    .dataframe tbody tr th:only-of-type {\n",
       "        vertical-align: middle;\n",
       "    }\n",
       "\n",
       "    .dataframe tbody tr th {\n",
       "        vertical-align: top;\n",
       "    }\n",
       "\n",
       "    .dataframe thead th {\n",
       "        text-align: right;\n",
       "    }\n",
       "</style>\n",
       "<table border=\"1\" class=\"dataframe\">\n",
       "  <thead>\n",
       "    <tr style=\"text-align: right;\">\n",
       "      <th></th>\n",
       "      <th>Distributor</th>\n",
       "      <th>Province</th>\n",
       "      <th>UserId</th>\n",
       "    </tr>\n",
       "  </thead>\n",
       "  <tbody>\n",
       "    <tr>\n",
       "      <th>22</th>\n",
       "      <td>A</td>\n",
       "      <td>ร้อยเอ็ด</td>\n",
       "      <td>43</td>\n",
       "    </tr>\n",
       "    <tr>\n",
       "      <th>58</th>\n",
       "      <td>C</td>\n",
       "      <td>อุตรดิตถ์</td>\n",
       "      <td>815</td>\n",
       "    </tr>\n",
       "    <tr>\n",
       "      <th>26</th>\n",
       "      <td>A</td>\n",
       "      <td>สมุทรปราการ</td>\n",
       "      <td>739</td>\n",
       "    </tr>\n",
       "    <tr>\n",
       "      <th>65</th>\n",
       "      <td>D</td>\n",
       "      <td>ชุมพร</td>\n",
       "      <td>472</td>\n",
       "    </tr>\n",
       "    <tr>\n",
       "      <th>15</th>\n",
       "      <td>A</td>\n",
       "      <td>ปทุมธานี</td>\n",
       "      <td>635</td>\n",
       "    </tr>\n",
       "    <tr>\n",
       "      <th>45</th>\n",
       "      <td>B</td>\n",
       "      <td>สุพรรณบุรี</td>\n",
       "      <td>338</td>\n",
       "    </tr>\n",
       "    <tr>\n",
       "      <th>52</th>\n",
       "      <td>C</td>\n",
       "      <td>พะเยา</td>\n",
       "      <td>30</td>\n",
       "    </tr>\n",
       "    <tr>\n",
       "      <th>40</th>\n",
       "      <td>B</td>\n",
       "      <td>นครปฐม</td>\n",
       "      <td>985</td>\n",
       "    </tr>\n",
       "    <tr>\n",
       "      <th>32</th>\n",
       "      <td>A</td>\n",
       "      <td>หนองบัวลำภู</td>\n",
       "      <td>32</td>\n",
       "    </tr>\n",
       "    <tr>\n",
       "      <th>23</th>\n",
       "      <td>A</td>\n",
       "      <td>ลพบุรี</td>\n",
       "      <td>264</td>\n",
       "    </tr>\n",
       "  </tbody>\n",
       "</table>\n",
       "</div>"
      ],
      "text/plain": [
       "   Distributor     Province  UserId\n",
       "22           A     ร้อยเอ็ด      43\n",
       "58           C    อุตรดิตถ์     815\n",
       "26           A  สมุทรปราการ     739\n",
       "65           D        ชุมพร     472\n",
       "15           A     ปทุมธานี     635\n",
       "45           B   สุพรรณบุรี     338\n",
       "52           C        พะเยา      30\n",
       "40           B       นครปฐม     985\n",
       "32           A  หนองบัวลำภู      32\n",
       "23           A       ลพบุรี     264"
      ]
     },
     "execution_count": 124,
     "metadata": {},
     "output_type": "execute_result"
    }
   ],
   "source": [
    "dis_per_province = mrw.groupby(['Distributor', 'Province']).agg({'UserId': 'count'}).reset_index()\n",
    "dis_per_province.sample(10)"
   ]
  },
  {
   "cell_type": "markdown",
   "metadata": {},
   "source": [
    "#### EDA"
   ]
  },
  {
   "cell_type": "code",
   "execution_count": 121,
   "metadata": {},
   "outputs": [
    {
     "data": {
      "text/plain": [
       "1272"
      ]
     },
     "execution_count": 121,
     "metadata": {},
     "output_type": "execute_result"
    }
   ],
   "source": [
    "len(mrw['GarageId'].unique())"
   ]
  },
  {
   "cell_type": "code",
   "execution_count": 111,
   "metadata": {},
   "outputs": [
    {
     "data": {
      "text/plain": [
       "Index(['Distributor', 'ProductName', 'ProductSKU', 'ScanDate', 'UserId', 'Qty',\n",
       "       'Points', 'Volume (L)', 'OwnerId', 'Postcode', 'Province', 'District',\n",
       "       'GarageId', 'UserType'],\n",
       "      dtype='object')"
      ]
     },
     "execution_count": 111,
     "metadata": {},
     "output_type": "execute_result"
    }
   ],
   "source": [
    "mrw.columns"
   ]
  },
  {
   "cell_type": "code",
   "execution_count": 133,
   "metadata": {},
   "outputs": [
    {
     "data": {
      "text/plain": [
       "Distributor            object\n",
       "ProductName            object\n",
       "ProductSKU             object\n",
       "ScanDate       datetime64[ns]\n",
       "UserId                 object\n",
       "Qty                     int64\n",
       "Points                  int64\n",
       "Volume (L)              int64\n",
       "OwnerId                object\n",
       "Postcode                int32\n",
       "Province               object\n",
       "District               object\n",
       "GarageId               object\n",
       "UserType               object\n",
       "dtype: object"
      ]
     },
     "execution_count": 133,
     "metadata": {},
     "output_type": "execute_result"
    }
   ],
   "source": [
    "mrw.dtypes"
   ]
  },
  {
   "cell_type": "code",
   "execution_count": 134,
   "metadata": {},
   "outputs": [],
   "source": [
    "mrw['Postcode'] = mrw['Postcode'].astype(str)"
   ]
  },
  {
   "cell_type": "code",
   "execution_count": 135,
   "metadata": {},
   "outputs": [
    {
     "data": {
      "text/plain": [
       "Distributor            object\n",
       "ProductName            object\n",
       "ProductSKU             object\n",
       "ScanDate       datetime64[ns]\n",
       "UserId                 object\n",
       "Qty                     int64\n",
       "Points                  int64\n",
       "Volume (L)              int64\n",
       "OwnerId                object\n",
       "Postcode               object\n",
       "Province               object\n",
       "District               object\n",
       "GarageId               object\n",
       "UserType               object\n",
       "dtype: object"
      ]
     },
     "execution_count": 135,
     "metadata": {},
     "output_type": "execute_result"
    }
   ],
   "source": [
    "mrw.dtypes"
   ]
  },
  {
   "cell_type": "code",
   "execution_count": 122,
   "metadata": {},
   "outputs": [
    {
     "data": {
      "text/html": [
       "<div>\n",
       "<style scoped>\n",
       "    .dataframe tbody tr th:only-of-type {\n",
       "        vertical-align: middle;\n",
       "    }\n",
       "\n",
       "    .dataframe tbody tr th {\n",
       "        vertical-align: top;\n",
       "    }\n",
       "\n",
       "    .dataframe thead th {\n",
       "        text-align: right;\n",
       "    }\n",
       "</style>\n",
       "<table border=\"1\" class=\"dataframe\">\n",
       "  <thead>\n",
       "    <tr style=\"text-align: right;\">\n",
       "      <th></th>\n",
       "      <th>ProductSKU</th>\n",
       "      <th>TotalQty</th>\n",
       "    </tr>\n",
       "  </thead>\n",
       "  <tbody>\n",
       "    <tr>\n",
       "      <th>0</th>\n",
       "      <td>Mobil Super FF 4L - 7L</td>\n",
       "      <td>5562932</td>\n",
       "    </tr>\n",
       "    <tr>\n",
       "      <th>1</th>\n",
       "      <td>Mobil Delvac Modern 7L</td>\n",
       "      <td>1768325</td>\n",
       "    </tr>\n",
       "    <tr>\n",
       "      <th>2</th>\n",
       "      <td>Charcoal - Large 4L - 5L</td>\n",
       "      <td>1389121</td>\n",
       "    </tr>\n",
       "    <tr>\n",
       "      <th>3</th>\n",
       "      <td>Mobil Super AIO - 7L</td>\n",
       "      <td>1255133</td>\n",
       "    </tr>\n",
       "    <tr>\n",
       "      <th>4</th>\n",
       "      <td>Silver - Large 4L</td>\n",
       "      <td>805995</td>\n",
       "    </tr>\n",
       "    <tr>\n",
       "      <th>5</th>\n",
       "      <td>Gold - Large 4L</td>\n",
       "      <td>702098</td>\n",
       "    </tr>\n",
       "    <tr>\n",
       "      <th>6</th>\n",
       "      <td>Mobil 1 Gold 4L - 6L</td>\n",
       "      <td>633652</td>\n",
       "    </tr>\n",
       "    <tr>\n",
       "      <th>7</th>\n",
       "      <td>Mobil_Delvac_Legend_6L_-_7L</td>\n",
       "      <td>299792</td>\n",
       "    </tr>\n",
       "    <tr>\n",
       "      <th>8</th>\n",
       "      <td>Blue - Large 4L - 5L</td>\n",
       "      <td>284729</td>\n",
       "    </tr>\n",
       "    <tr>\n",
       "      <th>9</th>\n",
       "      <td>Mobil Super AIO 3L - 6L</td>\n",
       "      <td>56092</td>\n",
       "    </tr>\n",
       "  </tbody>\n",
       "</table>\n",
       "</div>"
      ],
      "text/plain": [
       "                    ProductSKU  TotalQty\n",
       "0       Mobil Super FF 4L - 7L   5562932\n",
       "1       Mobil Delvac Modern 7L   1768325\n",
       "2     Charcoal - Large 4L - 5L   1389121\n",
       "3         Mobil Super AIO - 7L   1255133\n",
       "4            Silver - Large 4L    805995\n",
       "5              Gold - Large 4L    702098\n",
       "6         Mobil 1 Gold 4L - 6L    633652\n",
       "7  Mobil_Delvac_Legend_6L_-_7L    299792\n",
       "8         Blue - Large 4L - 5L    284729\n",
       "9      Mobil Super AIO 3L - 6L     56092"
      ]
     },
     "execution_count": 122,
     "metadata": {},
     "output_type": "execute_result"
    }
   ],
   "source": [
    "# Group by 'ProductSKU' and sum the 'Qty'\n",
    "sku_qty_totals = mrw.groupby('ProductSKU')['Qty'].sum().reset_index()\n",
    "\n",
    "# Rename the columns for better understanding\n",
    "sku_qty_totals.columns = ['ProductSKU', 'TotalQty']\n",
    "sku_qty_totals = sku_qty_totals.sort_values(by='TotalQty', ascending=False)\n",
    "sku_qty_totals = sku_qty_totals.reset_index(drop=True)\n",
    "\n",
    "# Display the result\n",
    "sku_qty_totals"
   ]
  },
  {
   "cell_type": "code",
   "execution_count": 138,
   "metadata": {},
   "outputs": [
    {
     "data": {
      "image/png": "[encoded data removed]",
      "text/plain": [
       "<Figure size 640x480 with 1 Axes>"
      ]
     },
     "metadata": {},
     "output_type": "display_data"
    }
   ],
   "source": [
    "plt.pie(sku_qty_totals['TotalQty'], labels=sku_qty_totals['ProductSKU'])\n",
    "plt.Circle(xy=5)\n",
    "\n",
    "plt.show()"
   ]
  },
  {
   "cell_type": "markdown",
   "metadata": {},
   "source": [
    "### 2. MER file"
   ]
  },
  {
   "cell_type": "code",
   "execution_count": 98,
   "metadata": {},
   "outputs": [],
   "source": [
    "mer = pd.ExcelFile('dataset/2. MER PointTransaction 2023_RetailsResellers_Final.xlsx')\n",
    "mer_sheet1 = pd.read_excel(mer, 'MER Transaction')\n",
    "mer_sheet2 = pd.read_excel(mer, 'Point Per Litre')"
   ]
  },
  {
   "cell_type": "code",
   "execution_count": 99,
   "metadata": {},
   "outputs": [
    {
     "name": "stdout",
     "output_type": "stream",
     "text": [
      "(9429, 8)\n"
     ]
    },
    {
     "data": {
      "text/html": [
       "<div>\n",
       "<style scoped>\n",
       "    .dataframe tbody tr th:only-of-type {\n",
       "        vertical-align: middle;\n",
       "    }\n",
       "\n",
       "    .dataframe tbody tr th {\n",
       "        vertical-align: top;\n",
       "    }\n",
       "\n",
       "    .dataframe thead th {\n",
       "        text-align: right;\n",
       "    }\n",
       "</style>\n",
       "<table border=\"1\" class=\"dataframe\">\n",
       "  <thead>\n",
       "    <tr style=\"text-align: right;\">\n",
       "      <th></th>\n",
       "      <th>Invoicedate</th>\n",
       "      <th>Distributor</th>\n",
       "      <th>GroupId</th>\n",
       "      <th>Type</th>\n",
       "      <th>Provincename</th>\n",
       "      <th>MatNo</th>\n",
       "      <th>Material Name</th>\n",
       "      <th>New_Volume(L)</th>\n",
       "    </tr>\n",
       "  </thead>\n",
       "  <tbody>\n",
       "    <tr>\n",
       "      <th>0</th>\n",
       "      <td>2023-02-14</td>\n",
       "      <td>A</td>\n",
       "      <td>ERW_AI8N2021070006</td>\n",
       "      <td>Retails</td>\n",
       "      <td>Pathum Thani</td>\n",
       "      <td>123150</td>\n",
       "      <td>MOBIL MULTIPURPOSE ATF, 208LT DR</td>\n",
       "      <td>7168</td>\n",
       "    </tr>\n",
       "    <tr>\n",
       "      <th>1</th>\n",
       "      <td>2023-04-20</td>\n",
       "      <td>D</td>\n",
       "      <td>ERW_DBG72020110082</td>\n",
       "      <td>Reseller</td>\n",
       "      <td>Songkhla</td>\n",
       "      <td>124213</td>\n",
       "      <td>MOBIL ATF 220  D 208LT</td>\n",
       "      <td>912</td>\n",
       "    </tr>\n",
       "    <tr>\n",
       "      <th>2</th>\n",
       "      <td>2023-10-19</td>\n",
       "      <td>D</td>\n",
       "      <td>ERW_DBG72020110082</td>\n",
       "      <td>Reseller</td>\n",
       "      <td>Songkhla</td>\n",
       "      <td>124216</td>\n",
       "      <td>MOBIL ATF 220 P1/20LT</td>\n",
       "      <td>7340</td>\n",
       "    </tr>\n",
       "    <tr>\n",
       "      <th>3</th>\n",
       "      <td>2023-07-25</td>\n",
       "      <td>D</td>\n",
       "      <td>ERW_DBG72020110082</td>\n",
       "      <td>Reseller</td>\n",
       "      <td>Songkhla</td>\n",
       "      <td>124216</td>\n",
       "      <td>MOBIL ATF 220 P1/20LT</td>\n",
       "      <td>1640</td>\n",
       "    </tr>\n",
       "    <tr>\n",
       "      <th>4</th>\n",
       "      <td>2023-10-12</td>\n",
       "      <td>D</td>\n",
       "      <td>ERW_DBG72020110082</td>\n",
       "      <td>Reseller</td>\n",
       "      <td>Songkhla</td>\n",
       "      <td>124216</td>\n",
       "      <td>MOBIL ATF 220 P1/20LT</td>\n",
       "      <td>7080</td>\n",
       "    </tr>\n",
       "  </tbody>\n",
       "</table>\n",
       "</div>"
      ],
      "text/plain": [
       "  Invoicedate Distributor             GroupId      Type  Provincename   MatNo  \\\n",
       "0  2023-02-14           A  ERW_AI8N2021070006   Retails  Pathum Thani  123150   \n",
       "1  2023-04-20           D  ERW_DBG72020110082  Reseller      Songkhla  124213   \n",
       "2  2023-10-19           D  ERW_DBG72020110082  Reseller      Songkhla  124216   \n",
       "3  2023-07-25           D  ERW_DBG72020110082  Reseller      Songkhla  124216   \n",
       "4  2023-10-12           D  ERW_DBG72020110082  Reseller      Songkhla  124216   \n",
       "\n",
       "                      Material Name  New_Volume(L)  \n",
       "0  MOBIL MULTIPURPOSE ATF, 208LT DR           7168  \n",
       "1            MOBIL ATF 220  D 208LT            912  \n",
       "2             MOBIL ATF 220 P1/20LT           7340  \n",
       "3             MOBIL ATF 220 P1/20LT           1640  \n",
       "4             MOBIL ATF 220 P1/20LT           7080  "
      ]
     },
     "execution_count": 99,
     "metadata": {},
     "output_type": "execute_result"
    }
   ],
   "source": [
    "print(mer_sheet1.shape)\n",
    "mer_sheet1.head()"
   ]
  },
  {
   "cell_type": "code",
   "execution_count": 100,
   "metadata": {},
   "outputs": [
    {
     "name": "stdout",
     "output_type": "stream",
     "text": [
      "(145, 2)\n"
     ]
    },
    {
     "data": {
      "text/html": [
       "<div>\n",
       "<style scoped>\n",
       "    .dataframe tbody tr th:only-of-type {\n",
       "        vertical-align: middle;\n",
       "    }\n",
       "\n",
       "    .dataframe tbody tr th {\n",
       "        vertical-align: top;\n",
       "    }\n",
       "\n",
       "    .dataframe thead th {\n",
       "        text-align: right;\n",
       "    }\n",
       "</style>\n",
       "<table border=\"1\" class=\"dataframe\">\n",
       "  <thead>\n",
       "    <tr style=\"text-align: right;\">\n",
       "      <th></th>\n",
       "      <th>MatNo</th>\n",
       "      <th>Points</th>\n",
       "    </tr>\n",
       "  </thead>\n",
       "  <tbody>\n",
       "    <tr>\n",
       "      <th>0</th>\n",
       "      <td>144673</td>\n",
       "      <td>10</td>\n",
       "    </tr>\n",
       "    <tr>\n",
       "      <th>1</th>\n",
       "      <td>140521</td>\n",
       "      <td>10</td>\n",
       "    </tr>\n",
       "    <tr>\n",
       "      <th>2</th>\n",
       "      <td>144473</td>\n",
       "      <td>10</td>\n",
       "    </tr>\n",
       "    <tr>\n",
       "      <th>3</th>\n",
       "      <td>145832</td>\n",
       "      <td>10</td>\n",
       "    </tr>\n",
       "    <tr>\n",
       "      <th>4</th>\n",
       "      <td>140418</td>\n",
       "      <td>10</td>\n",
       "    </tr>\n",
       "  </tbody>\n",
       "</table>\n",
       "</div>"
      ],
      "text/plain": [
       "    MatNo  Points\n",
       "0  144673      10\n",
       "1  140521      10\n",
       "2  144473      10\n",
       "3  145832      10\n",
       "4  140418      10"
      ]
     },
     "execution_count": 100,
     "metadata": {},
     "output_type": "execute_result"
    }
   ],
   "source": [
    "print(mer_sheet2.shape)\n",
    "mer_sheet2.head()"
   ]
  },
  {
   "cell_type": "code",
   "execution_count": 101,
   "metadata": {},
   "outputs": [
    {
     "name": "stdout",
     "output_type": "stream",
     "text": [
      "(9429, 9)\n"
     ]
    },
    {
     "data": {
      "text/html": [
       "<div>\n",
       "<style scoped>\n",
       "    .dataframe tbody tr th:only-of-type {\n",
       "        vertical-align: middle;\n",
       "    }\n",
       "\n",
       "    .dataframe tbody tr th {\n",
       "        vertical-align: top;\n",
       "    }\n",
       "\n",
       "    .dataframe thead th {\n",
       "        text-align: right;\n",
       "    }\n",
       "</style>\n",
       "<table border=\"1\" class=\"dataframe\">\n",
       "  <thead>\n",
       "    <tr style=\"text-align: right;\">\n",
       "      <th></th>\n",
       "      <th>Invoicedate</th>\n",
       "      <th>Distributor</th>\n",
       "      <th>GroupId</th>\n",
       "      <th>Type</th>\n",
       "      <th>Provincename</th>\n",
       "      <th>MatNo</th>\n",
       "      <th>Material Name</th>\n",
       "      <th>New_Volume(L)</th>\n",
       "      <th>Points</th>\n",
       "    </tr>\n",
       "  </thead>\n",
       "  <tbody>\n",
       "    <tr>\n",
       "      <th>0</th>\n",
       "      <td>2023-02-14</td>\n",
       "      <td>A</td>\n",
       "      <td>ERW_AI8N2021070006</td>\n",
       "      <td>Retails</td>\n",
       "      <td>Pathum Thani</td>\n",
       "      <td>123150</td>\n",
       "      <td>MOBIL MULTIPURPOSE ATF, 208LT DR</td>\n",
       "      <td>7168</td>\n",
       "      <td>1</td>\n",
       "    </tr>\n",
       "    <tr>\n",
       "      <th>1</th>\n",
       "      <td>2023-04-20</td>\n",
       "      <td>D</td>\n",
       "      <td>ERW_DBG72020110082</td>\n",
       "      <td>Reseller</td>\n",
       "      <td>Songkhla</td>\n",
       "      <td>124213</td>\n",
       "      <td>MOBIL ATF 220  D 208LT</td>\n",
       "      <td>912</td>\n",
       "      <td>1</td>\n",
       "    </tr>\n",
       "    <tr>\n",
       "      <th>2</th>\n",
       "      <td>2023-10-19</td>\n",
       "      <td>D</td>\n",
       "      <td>ERW_DBG72020110082</td>\n",
       "      <td>Reseller</td>\n",
       "      <td>Songkhla</td>\n",
       "      <td>124216</td>\n",
       "      <td>MOBIL ATF 220 P1/20LT</td>\n",
       "      <td>7340</td>\n",
       "      <td>1</td>\n",
       "    </tr>\n",
       "    <tr>\n",
       "      <th>3</th>\n",
       "      <td>2023-07-25</td>\n",
       "      <td>D</td>\n",
       "      <td>ERW_DBG72020110082</td>\n",
       "      <td>Reseller</td>\n",
       "      <td>Songkhla</td>\n",
       "      <td>124216</td>\n",
       "      <td>MOBIL ATF 220 P1/20LT</td>\n",
       "      <td>1640</td>\n",
       "      <td>1</td>\n",
       "    </tr>\n",
       "    <tr>\n",
       "      <th>4</th>\n",
       "      <td>2023-10-12</td>\n",
       "      <td>D</td>\n",
       "      <td>ERW_DBG72020110082</td>\n",
       "      <td>Reseller</td>\n",
       "      <td>Songkhla</td>\n",
       "      <td>124216</td>\n",
       "      <td>MOBIL ATF 220 P1/20LT</td>\n",
       "      <td>7080</td>\n",
       "      <td>1</td>\n",
       "    </tr>\n",
       "  </tbody>\n",
       "</table>\n",
       "</div>"
      ],
      "text/plain": [
       "  Invoicedate Distributor             GroupId      Type  Provincename   MatNo  \\\n",
       "0  2023-02-14           A  ERW_AI8N2021070006   Retails  Pathum Thani  123150   \n",
       "1  2023-04-20           D  ERW_DBG72020110082  Reseller      Songkhla  124213   \n",
       "2  2023-10-19           D  ERW_DBG72020110082  Reseller      Songkhla  124216   \n",
       "3  2023-07-25           D  ERW_DBG72020110082  Reseller      Songkhla  124216   \n",
       "4  2023-10-12           D  ERW_DBG72020110082  Reseller      Songkhla  124216   \n",
       "\n",
       "                      Material Name  New_Volume(L)  Points  \n",
       "0  MOBIL MULTIPURPOSE ATF, 208LT DR           7168       1  \n",
       "1            MOBIL ATF 220  D 208LT            912       1  \n",
       "2             MOBIL ATF 220 P1/20LT           7340       1  \n",
       "3             MOBIL ATF 220 P1/20LT           1640       1  \n",
       "4             MOBIL ATF 220 P1/20LT           7080       1  "
      ]
     },
     "execution_count": 101,
     "metadata": {},
     "output_type": "execute_result"
    }
   ],
   "source": [
    "mer = pd.merge(mer_sheet1, mer_sheet2, on='MatNo', how='left')\n",
    "print(mer.shape)\n",
    "mer.head()"
   ]
  },
  {
   "cell_type": "markdown",
   "metadata": {},
   "source": [
    "Null/ missing values"
   ]
  },
  {
   "cell_type": "code",
   "execution_count": 79,
   "metadata": {},
   "outputs": [
    {
     "data": {
      "text/plain": [
       "Index(['Invoicedate', 'Distributor', 'GroupId', 'Type', 'Provincename',\n",
       "       'MatNo', 'Material Name', 'New_Volume(L)', 'Points'],\n",
       "      dtype='object')"
      ]
     },
     "execution_count": 79,
     "metadata": {},
     "output_type": "execute_result"
    }
   ],
   "source": [
    "mer.columns"
   ]
  },
  {
   "cell_type": "code",
   "execution_count": 82,
   "metadata": {},
   "outputs": [
    {
     "data": {
      "text/plain": [
       "Invoicedate      0\n",
       "Distributor      0\n",
       "GroupId          0\n",
       "Type             0\n",
       "Provincename     0\n",
       "MatNo            0\n",
       "Material Name    0\n",
       "New_Volume(L)    0\n",
       "Points           0\n",
       "dtype: int64"
      ]
     },
     "execution_count": 82,
     "metadata": {},
     "output_type": "execute_result"
    }
   ],
   "source": [
    "mer.isnull().sum()"
   ]
  },
  {
   "cell_type": "markdown",
   "metadata": {},
   "source": [
    "Fix Typos of Material Name"
   ]
  },
  {
   "cell_type": "code",
   "execution_count": 93,
   "metadata": {},
   "outputs": [
    {
     "data": {
      "text/plain": [
       "(145, 1)"
      ]
     },
     "execution_count": 93,
     "metadata": {},
     "output_type": "execute_result"
    }
   ],
   "source": [
    "mat_default = mer_sheet1.sort_values(['MatNo', 'Material Name']).groupby('MatNo').head(1)\\\n",
    "                        .loc[:, ['MatNo', 'Material Name']].set_index('MatNo')\n",
    "mat_default['Material Name'] = mat_default['Material Name'].str.replace('โมบิล', 'MOBIL')\n",
    "mat_default['Material Name'] = mat_default['Material Name'].str.replace('เดลแวค', 'DELVAC')\n",
    "mat_default['Material Name'] = mat_default['Material Name'].str.replace('สเปเชียล', 'SPECIAL')\n",
    "mat_default.loc[ mat_default.index == 140563, 'Material Name'] = 'MOBIL DELVAC 1 GEAR OIL 75W90, 1/35LB'\n",
    "\n",
    "mat_default.shape\n",
    "# with pd.option_context('display.max_rows', None):\n",
    "#     display(mat_default)"
   ]
  },
  {
   "cell_type": "code",
   "execution_count": 95,
   "metadata": {},
   "outputs": [
    {
     "data": {
      "text/plain": [
       "(145, 2)"
      ]
     },
     "execution_count": 95,
     "metadata": {},
     "output_type": "execute_result"
    }
   ],
   "source": [
    "for i in mer['MatNo'].unique():\n",
    "    mer.loc[mer['MatNo'] == i, 'Material Name'] = mat_default.loc[i, 'Material Name']\n",
    "            \n",
    "mer[ ['MatNo', 'Material Name']].drop_duplicates().shape"
   ]
  },
  {
   "cell_type": "code",
   "execution_count": 96,
   "metadata": {},
   "outputs": [
    {
     "data": {
      "text/plain": [
       "Invoicedate      False\n",
       "Distributor      False\n",
       "GroupId          False\n",
       "Type             False\n",
       "Provincename     False\n",
       "MatNo            False\n",
       "Material Name    False\n",
       "New_Volume(L)    False\n",
       "Points           False\n",
       "dtype: bool"
      ]
     },
     "execution_count": 96,
     "metadata": {},
     "output_type": "execute_result"
    }
   ],
   "source": [
    "mer.dropna(inplace=True)\n",
    "mer.isnull().any()"
   ]
  },
  {
   "cell_type": "markdown",
   "metadata": {},
   "source": [
    "#### EDA\n",
    "Points per อู่"
   ]
  },
  {
   "cell_type": "code",
   "execution_count": 140,
   "metadata": {},
   "outputs": [
    {
     "data": {
      "text/html": [
       "<div>\n",
       "<style scoped>\n",
       "    .dataframe tbody tr th:only-of-type {\n",
       "        vertical-align: middle;\n",
       "    }\n",
       "\n",
       "    .dataframe tbody tr th {\n",
       "        vertical-align: top;\n",
       "    }\n",
       "\n",
       "    .dataframe thead th {\n",
       "        text-align: right;\n",
       "    }\n",
       "</style>\n",
       "<table border=\"1\" class=\"dataframe\">\n",
       "  <thead>\n",
       "    <tr style=\"text-align: right;\">\n",
       "      <th></th>\n",
       "      <th>Invoicedate</th>\n",
       "      <th>Distributor</th>\n",
       "      <th>GroupId</th>\n",
       "      <th>Type</th>\n",
       "      <th>Provincename</th>\n",
       "      <th>MatNo</th>\n",
       "      <th>Material Name</th>\n",
       "      <th>New_Volume(L)</th>\n",
       "      <th>Points</th>\n",
       "    </tr>\n",
       "  </thead>\n",
       "  <tbody>\n",
       "    <tr>\n",
       "      <th>1705</th>\n",
       "      <td>2023-11-03</td>\n",
       "      <td>A</td>\n",
       "      <td>ERW_A7QF2022060002</td>\n",
       "      <td>Retails</td>\n",
       "      <td>NaN</td>\n",
       "      <td>140043</td>\n",
       "      <td>MOBIL ATF 3309 12x1L/CAR</td>\n",
       "      <td>5392</td>\n",
       "      <td>1</td>\n",
       "    </tr>\n",
       "    <tr>\n",
       "      <th>1845</th>\n",
       "      <td>2023-02-13</td>\n",
       "      <td>A</td>\n",
       "      <td>ERW_A7QF2022060003</td>\n",
       "      <td>Retails</td>\n",
       "      <td>NaN</td>\n",
       "      <td>140418</td>\n",
       "      <td>MOBIL 1 TBD 5W-40 CTN 4X6L:TH</td>\n",
       "      <td>5088</td>\n",
       "      <td>10</td>\n",
       "    </tr>\n",
       "    <tr>\n",
       "      <th>1910</th>\n",
       "      <td>2023-02-13</td>\n",
       "      <td>A</td>\n",
       "      <td>ERW_A7QF2022060003</td>\n",
       "      <td>Retails</td>\n",
       "      <td>NaN</td>\n",
       "      <td>140521</td>\n",
       "      <td>MOBIL 1 0W-40 CTN 4X4L:SG</td>\n",
       "      <td>608</td>\n",
       "      <td>10</td>\n",
       "    </tr>\n",
       "    <tr>\n",
       "      <th>2260</th>\n",
       "      <td>2023-02-13</td>\n",
       "      <td>A</td>\n",
       "      <td>ERW_A7QF2022060003</td>\n",
       "      <td>Retails</td>\n",
       "      <td>NaN</td>\n",
       "      <td>142923</td>\n",
       "      <td>MOBIL SPECIAL 20W-50 CTN 4X4L:TH</td>\n",
       "      <td>6544</td>\n",
       "      <td>1</td>\n",
       "    </tr>\n",
       "    <tr>\n",
       "      <th>2275</th>\n",
       "      <td>2023-10-26</td>\n",
       "      <td>A</td>\n",
       "      <td>ERW_A7QF2022060003</td>\n",
       "      <td>Retails</td>\n",
       "      <td>NaN</td>\n",
       "      <td>142923</td>\n",
       "      <td>MOBIL SPECIAL 20W-50 4X4L/CAR</td>\n",
       "      <td>1104</td>\n",
       "      <td>1</td>\n",
       "    </tr>\n",
       "  </tbody>\n",
       "</table>\n",
       "</div>"
      ],
      "text/plain": [
       "     Invoicedate Distributor             GroupId     Type Provincename  \\\n",
       "1705  2023-11-03           A  ERW_A7QF2022060002  Retails          NaN   \n",
       "1845  2023-02-13           A  ERW_A7QF2022060003  Retails          NaN   \n",
       "1910  2023-02-13           A  ERW_A7QF2022060003  Retails          NaN   \n",
       "2260  2023-02-13           A  ERW_A7QF2022060003  Retails          NaN   \n",
       "2275  2023-10-26           A  ERW_A7QF2022060003  Retails          NaN   \n",
       "\n",
       "       MatNo                     Material Name  New_Volume(L)  Points  \n",
       "1705  140043          MOBIL ATF 3309 12x1L/CAR           5392       1  \n",
       "1845  140418     MOBIL 1 TBD 5W-40 CTN 4X6L:TH           5088      10  \n",
       "1910  140521         MOBIL 1 0W-40 CTN 4X4L:SG            608      10  \n",
       "2260  142923  MOBIL SPECIAL 20W-50 CTN 4X4L:TH           6544       1  \n",
       "2275  142923     MOBIL SPECIAL 20W-50 4X4L/CAR           1104       1  "
      ]
     },
     "execution_count": 140,
     "metadata": {},
     "output_type": "execute_result"
    }
   ],
   "source": [
    "mer['Provincename'] = mer['Provincename'].replace('N\\A', np.nan)\n",
    "mer[mer['Provincename'].isnull()].head()"
   ]
  },
  {
   "cell_type": "code",
   "execution_count": 141,
   "metadata": {},
   "outputs": [
    {
     "data": {
      "text/html": [
       "<div>\n",
       "<style scoped>\n",
       "    .dataframe tbody tr th:only-of-type {\n",
       "        vertical-align: middle;\n",
       "    }\n",
       "\n",
       "    .dataframe tbody tr th {\n",
       "        vertical-align: top;\n",
       "    }\n",
       "\n",
       "    .dataframe thead th {\n",
       "        text-align: right;\n",
       "    }\n",
       "</style>\n",
       "<table border=\"1\" class=\"dataframe\">\n",
       "  <thead>\n",
       "    <tr style=\"text-align: right;\">\n",
       "      <th></th>\n",
       "      <th>Distributor</th>\n",
       "      <th>Unique Provinces</th>\n",
       "    </tr>\n",
       "  </thead>\n",
       "  <tbody>\n",
       "    <tr>\n",
       "      <th>0</th>\n",
       "      <td>A</td>\n",
       "      <td>[Pathum Thani, Chon Buri, Chachoengsao, Rayong...</td>\n",
       "    </tr>\n",
       "    <tr>\n",
       "      <th>1</th>\n",
       "      <td>B</td>\n",
       "      <td>[Kanchanaburi, Nakhon Pathom, Samut Sakhon, Ba...</td>\n",
       "    </tr>\n",
       "    <tr>\n",
       "      <th>2</th>\n",
       "      <td>C</td>\n",
       "      <td>[Sukhothai, Kamphaeng Phet, Chon Buri, Phrae, ...</td>\n",
       "    </tr>\n",
       "    <tr>\n",
       "      <th>3</th>\n",
       "      <td>D</td>\n",
       "      <td>[Songkhla, Surat Thani, Pattani, Phangnga, Phu...</td>\n",
       "    </tr>\n",
       "  </tbody>\n",
       "</table>\n",
       "</div>"
      ],
      "text/plain": [
       "  Distributor                                   Unique Provinces\n",
       "0           A  [Pathum Thani, Chon Buri, Chachoengsao, Rayong...\n",
       "1           B  [Kanchanaburi, Nakhon Pathom, Samut Sakhon, Ba...\n",
       "2           C  [Sukhothai, Kamphaeng Phet, Chon Buri, Phrae, ...\n",
       "3           D  [Songkhla, Surat Thani, Pattani, Phangnga, Phu..."
      ]
     },
     "execution_count": 141,
     "metadata": {},
     "output_type": "execute_result"
    }
   ],
   "source": [
    "result = mer.groupby('Distributor')['Provincename'].apply(lambda x: list(x.unique())).reset_index()\n",
    "result.columns = ['Distributor', 'Unique Provinces']\n",
    "result"
   ]
  },
  {
   "cell_type": "code",
   "execution_count": 142,
   "metadata": {},
   "outputs": [
    {
     "data": {
      "image/png": "[encoded data removed]",
      "text/plain": [
       "<Figure size 640x480 with 1 Axes>"
      ]
     },
     "metadata": {},
     "output_type": "display_data"
    }
   ],
   "source": [
    "# Trending of sales in mer\n",
    "sns.lineplot(data=mer, x='Invoicedate', y='New_Volume(L)')\n",
    "plt.show()"
   ]
  },
  {
   "cell_type": "code",
   "execution_count": 149,
   "metadata": {},
   "outputs": [
    {
     "data": {
      "image/png": "[encoded data removed]",
      "text/plain": [
       "<Figure size 640x480 with 1 Axes>"
      ]
     },
     "metadata": {},
     "output_type": "display_data"
    }
   ],
   "source": [
    "# count of mrw\n",
    "# sns.lineplot(data=mrw, x='ScanDate', y='count')\n",
    "\n",
    "# order per day\n",
    "sns.histplot(data=mrw, x='Qty')\n",
    "plt.show()"
   ]
  },
  {
   "cell_type": "code",
   "execution_count": 152,
   "metadata": {},
   "outputs": [
    {
     "data": {
      "text/plain": [
       "Text(0.5, 1.0, 'Sales over quarter')"
      ]
     },
     "execution_count": 152,
     "metadata": {},
     "output_type": "execute_result"
    },
    {
     "data": {
      "image/png": "[encoded data removed]",
      "text/plain": [
       "<Figure size 1200x500 with 2 Axes>"
      ]
     },
     "metadata": {},
     "output_type": "display_data"
    }
   ],
   "source": [
    "time_series = mrw.copy()\n",
    "time_series['Month'] = mrw['ScanDate'].dt.month\n",
    "time_series['Year'] = mrw['ScanDate'].dt.year\n",
    "time_series['Quarter'] = mrw['ScanDate'].dt.quarter\n",
    "\n",
    "sales_per_month = time_series.groupby(['Year', 'Month']).agg({'UserId': 'count'}).\\\n",
    "                                rename(columns={'UserId': 'quantity'}).reset_index()\n",
    "sales_per_quarter = time_series.groupby(['Year', 'Quarter']).agg({'UserId': 'count'})\\\n",
    "                                .rename(columns={'UserId': 'quantity'}).reset_index()\n",
    "\n",
    "fig, ax = plt.subplots(1, 2, figsize=(12, 5))\n",
    "ax[0].plot(sales_per_month['Month'], sales_per_month['quantity'])\n",
    "ax[0].set_title('Sales per month')\n",
    "\n",
    "ax[1].plot(sales_per_quarter['Quarter'], sales_per_quarter['quantity'])\n",
    "ax[1].set_title('Sales over quarter')"
   ]
  },
  {
   "cell_type": "code",
   "execution_count": null,
   "metadata": {},
   "outputs": [],
   "source": []
  },
  {
   "cell_type": "code",
   "execution_count": null,
   "metadata": {},
   "outputs": [],
   "source": []
  }
 ],
 "metadata": {
  "kernelspec": {
   "display_name": "Python 3",
   "language": "python",
   "name": "python3"
  },
  "language_info": {
   "codemirror_mode": {
    "name": "ipython",
    "version": 3
   },
   "file_extension": ".py",
   "mimetype": "text/x-python",
   "name": "python",
   "nbconvert_exporter": "python",
   "pygments_lexer": "ipython3",
   "version": "3.11.5"
  }
 },
 "nbformat": 4,
 "nbformat_minor": 2
}
