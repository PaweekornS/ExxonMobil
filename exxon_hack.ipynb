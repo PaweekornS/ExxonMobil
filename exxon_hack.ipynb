{
 "cells": [
  {
   "cell_type": "code",
   "execution_count": 2,
   "metadata": {},
   "outputs": [],
   "source": [
    "import pandas as pd\n",
    "import numpy as np\n",
    "import matplotlib.pyplot as plt\n",
    "import seaborn as sns\n",
    "import os"
   ]
  },
  {
   "cell_type": "markdown",
   "metadata": {},
   "source": [
    "## Overview\n",
    "### 1. MRW file"
   ]
  },
  {
   "cell_type": "code",
   "execution_count": 3,
   "metadata": {},
   "outputs": [],
   "source": [
    "xls = pd.ExcelFile('dataset/MRW_v2.xlsx')\n",
    "sheet1 = pd.read_excel(xls, 'Transaction')\n",
    "sheet2 = pd.read_excel(xls, 'SKU_point_Ltr')\n",
    "sheet3 = pd.read_excel(xls, 'Garange Profile')\n",
    "sheet4 = pd.read_excel(xls, 'User')"
   ]
  },
  {
   "cell_type": "code",
   "execution_count": 4,
   "metadata": {},
   "outputs": [
    {
     "name": "stdout",
     "output_type": "stream",
     "text": [
      "(215656, 5)\n"
     ]
    }
   ],
   "source": [
    "print(sheet1.shape)\n",
    "# sheet1.sample(5)"
   ]
  },
  {
   "cell_type": "code",
   "execution_count": 5,
   "metadata": {},
   "outputs": [
    {
     "data": {
      "text/html": [
       "<div>\n",
       "<style scoped>\n",
       "    .dataframe tbody tr th:only-of-type {\n",
       "        vertical-align: middle;\n",
       "    }\n",
       "\n",
       "    .dataframe tbody tr th {\n",
       "        vertical-align: top;\n",
       "    }\n",
       "\n",
       "    .dataframe thead th {\n",
       "        text-align: right;\n",
       "    }\n",
       "</style>\n",
       "<table border=\"1\" class=\"dataframe\">\n",
       "  <thead>\n",
       "    <tr style=\"text-align: right;\">\n",
       "      <th></th>\n",
       "      <th>Distributor</th>\n",
       "      <th>UserId</th>\n",
       "      <th>ScanDate</th>\n",
       "      <th>ProductName</th>\n",
       "      <th>ProductSKU</th>\n",
       "      <th>Qty</th>\n",
       "    </tr>\n",
       "  </thead>\n",
       "  <tbody>\n",
       "    <tr>\n",
       "      <th>0</th>\n",
       "      <td>A</td>\n",
       "      <td>EXL_1569941239614</td>\n",
       "      <td>2023-01-11</td>\n",
       "      <td>Mobil 1 Gold</td>\n",
       "      <td>Mobil 1 Gold 4L - 6L</td>\n",
       "      <td>2</td>\n",
       "    </tr>\n",
       "    <tr>\n",
       "      <th>1</th>\n",
       "      <td>A</td>\n",
       "      <td>EXL_1569941239614</td>\n",
       "      <td>2023-01-11</td>\n",
       "      <td>Silver Large</td>\n",
       "      <td>Silver - Large 4L</td>\n",
       "      <td>2</td>\n",
       "    </tr>\n",
       "    <tr>\n",
       "      <th>2</th>\n",
       "      <td>A</td>\n",
       "      <td>EXL_1569941239614</td>\n",
       "      <td>2023-01-14</td>\n",
       "      <td>Silver Large</td>\n",
       "      <td>Silver - Large 4L</td>\n",
       "      <td>1</td>\n",
       "    </tr>\n",
       "    <tr>\n",
       "      <th>3</th>\n",
       "      <td>A</td>\n",
       "      <td>EXL_1569941239614</td>\n",
       "      <td>2023-02-06</td>\n",
       "      <td>Silver Large</td>\n",
       "      <td>Silver - Large 4L</td>\n",
       "      <td>5</td>\n",
       "    </tr>\n",
       "    <tr>\n",
       "      <th>4</th>\n",
       "      <td>A</td>\n",
       "      <td>EXL_1569941239614</td>\n",
       "      <td>2023-02-07</td>\n",
       "      <td>Gold Large</td>\n",
       "      <td>Gold - Large 4L</td>\n",
       "      <td>1</td>\n",
       "    </tr>\n",
       "  </tbody>\n",
       "</table>\n",
       "</div>"
      ],
      "text/plain": [
       "  Distributor             UserId   ScanDate   ProductName  \\\n",
       "0           A  EXL_1569941239614 2023-01-11  Mobil 1 Gold   \n",
       "1           A  EXL_1569941239614 2023-01-11  Silver Large   \n",
       "2           A  EXL_1569941239614 2023-01-14  Silver Large   \n",
       "3           A  EXL_1569941239614 2023-02-06  Silver Large   \n",
       "4           A  EXL_1569941239614 2023-02-07    Gold Large   \n",
       "\n",
       "             ProductSKU  Qty  \n",
       "0  Mobil 1 Gold 4L - 6L    2  \n",
       "1     Silver - Large 4L    2  \n",
       "2     Silver - Large 4L    1  \n",
       "3     Silver - Large 4L    5  \n",
       "4       Gold - Large 4L    1  "
      ]
     },
     "execution_count": 5,
     "metadata": {},
     "output_type": "execute_result"
    }
   ],
   "source": [
    "sheet1_clean = sheet1.groupby(['Distributor', 'UserId', 'ScanDate', 'ProductName', 'ProductSKU']).agg({'ScanDate': 'count'})\\\n",
    "                            .rename(columns={'ScanDate': 'Qty'}).reset_index()\n",
    "sheet1_clean.head()"
   ]
  },
  {
   "cell_type": "code",
   "execution_count": 6,
   "metadata": {},
   "outputs": [
    {
     "data": {
      "text/html": [
       "<div>\n",
       "<style scoped>\n",
       "    .dataframe tbody tr th:only-of-type {\n",
       "        vertical-align: middle;\n",
       "    }\n",
       "\n",
       "    .dataframe tbody tr th {\n",
       "        vertical-align: top;\n",
       "    }\n",
       "\n",
       "    .dataframe thead th {\n",
       "        text-align: right;\n",
       "    }\n",
       "</style>\n",
       "<table border=\"1\" class=\"dataframe\">\n",
       "  <thead>\n",
       "    <tr style=\"text-align: right;\">\n",
       "      <th></th>\n",
       "      <th>Distributor</th>\n",
       "      <th>UserId</th>\n",
       "      <th>ScanDate</th>\n",
       "      <th>ProductName</th>\n",
       "      <th>ProductSKU</th>\n",
       "      <th>Qty</th>\n",
       "    </tr>\n",
       "  </thead>\n",
       "  <tbody>\n",
       "    <tr>\n",
       "      <th>21474</th>\n",
       "      <td>B</td>\n",
       "      <td>EXL_1692444744991</td>\n",
       "      <td>2023-08-19</td>\n",
       "      <td>Mobil Super AIO - Charcoal</td>\n",
       "      <td>Mobil Super AIO - 7L</td>\n",
       "      <td>1</td>\n",
       "    </tr>\n",
       "    <tr>\n",
       "      <th>21475</th>\n",
       "      <td>B</td>\n",
       "      <td>EXL_1692444744991</td>\n",
       "      <td>2023-08-22</td>\n",
       "      <td>Mobil Super AIO - Charcoal</td>\n",
       "      <td>Mobil Super AIO - 7L</td>\n",
       "      <td>1</td>\n",
       "    </tr>\n",
       "    <tr>\n",
       "      <th>21476</th>\n",
       "      <td>B</td>\n",
       "      <td>EXL_1692444744991</td>\n",
       "      <td>2023-08-24</td>\n",
       "      <td>Mobil Super AIO - Charcoal</td>\n",
       "      <td>Mobil Super AIO - 7L</td>\n",
       "      <td>18</td>\n",
       "    </tr>\n",
       "    <tr>\n",
       "      <th>21477</th>\n",
       "      <td>B</td>\n",
       "      <td>EXL_1692444744991</td>\n",
       "      <td>2023-11-29</td>\n",
       "      <td>Mobil Super AIO - Charcoal</td>\n",
       "      <td>Mobil Super AIO - 7L</td>\n",
       "      <td>12</td>\n",
       "    </tr>\n",
       "  </tbody>\n",
       "</table>\n",
       "</div>"
      ],
      "text/plain": [
       "      Distributor             UserId   ScanDate                 ProductName  \\\n",
       "21474           B  EXL_1692444744991 2023-08-19  Mobil Super AIO - Charcoal   \n",
       "21475           B  EXL_1692444744991 2023-08-22  Mobil Super AIO - Charcoal   \n",
       "21476           B  EXL_1692444744991 2023-08-24  Mobil Super AIO - Charcoal   \n",
       "21477           B  EXL_1692444744991 2023-11-29  Mobil Super AIO - Charcoal   \n",
       "\n",
       "                 ProductSKU  Qty  \n",
       "21474  Mobil Super AIO - 7L    1  \n",
       "21475  Mobil Super AIO - 7L    1  \n",
       "21476  Mobil Super AIO - 7L   18  \n",
       "21477  Mobil Super AIO - 7L   12  "
      ]
     },
     "execution_count": 6,
     "metadata": {},
     "output_type": "execute_result"
    }
   ],
   "source": [
    "# validation\n",
    "sheet1_clean[sheet1_clean['UserId'] == 'EXL_1692444744991']"
   ]
  },
  {
   "cell_type": "code",
   "execution_count": 7,
   "metadata": {},
   "outputs": [
    {
     "name": "stdout",
     "output_type": "stream",
     "text": [
      "(10, 3)\n"
     ]
    }
   ],
   "source": [
    "print(sheet2.shape)\n",
    "# sheet2.head()"
   ]
  },
  {
   "cell_type": "code",
   "execution_count": 8,
   "metadata": {},
   "outputs": [
    {
     "name": "stdout",
     "output_type": "stream",
     "text": [
      "(4006, 5)\n"
     ]
    }
   ],
   "source": [
    "print(sheet3.shape)\n",
    "# sheet3.head()"
   ]
  },
  {
   "cell_type": "code",
   "execution_count": 9,
   "metadata": {},
   "outputs": [
    {
     "name": "stdout",
     "output_type": "stream",
     "text": [
      "(4719, 3)\n"
     ]
    }
   ],
   "source": [
    "print(sheet4.shape)\n",
    "# sheet4.head()"
   ]
  },
  {
   "cell_type": "code",
   "execution_count": 10,
   "metadata": {},
   "outputs": [],
   "source": [
    "merge_1 = pd.merge(sheet1_clean, sheet2, on='ProductSKU', how='left')\n",
    "merge_2 = pd.merge(merge_1, sheet3, left_on=['UserId', 'Distributor'], right_on=['OwnerId', 'Distributor'], \n",
    "                   how='left')\n",
    "mrw = pd.merge(merge_2, sheet4, on='UserId', how='left')"
   ]
  },
  {
   "cell_type": "code",
   "execution_count": 11,
   "metadata": {},
   "outputs": [
    {
     "name": "stdout",
     "output_type": "stream",
     "text": [
      "(36015, 14)\n"
     ]
    },
    {
     "data": {
      "text/html": [
       "<div>\n",
       "<style scoped>\n",
       "    .dataframe tbody tr th:only-of-type {\n",
       "        vertical-align: middle;\n",
       "    }\n",
       "\n",
       "    .dataframe tbody tr th {\n",
       "        vertical-align: top;\n",
       "    }\n",
       "\n",
       "    .dataframe thead th {\n",
       "        text-align: right;\n",
       "    }\n",
       "</style>\n",
       "<table border=\"1\" class=\"dataframe\">\n",
       "  <thead>\n",
       "    <tr style=\"text-align: right;\">\n",
       "      <th></th>\n",
       "      <th>Distributor</th>\n",
       "      <th>UserId</th>\n",
       "      <th>ScanDate</th>\n",
       "      <th>ProductName</th>\n",
       "      <th>ProductSKU</th>\n",
       "      <th>Qty</th>\n",
       "      <th>Points</th>\n",
       "      <th>Volume (L)</th>\n",
       "      <th>OwnerId</th>\n",
       "      <th>Postcode</th>\n",
       "      <th>Province</th>\n",
       "      <th>District</th>\n",
       "      <th>GarageId</th>\n",
       "      <th>UserType</th>\n",
       "    </tr>\n",
       "  </thead>\n",
       "  <tbody>\n",
       "    <tr>\n",
       "      <th>0</th>\n",
       "      <td>A</td>\n",
       "      <td>EXL_1569941239614</td>\n",
       "      <td>2023-01-11</td>\n",
       "      <td>Mobil 1 Gold</td>\n",
       "      <td>Mobil 1 Gold 4L - 6L</td>\n",
       "      <td>2</td>\n",
       "      <td>60</td>\n",
       "      <td>6</td>\n",
       "      <td>EXL_1569941239614</td>\n",
       "      <td>10540.0</td>\n",
       "      <td>สมุทรปราการ</td>\n",
       "      <td>เขตบางพลี</td>\n",
       "      <td>XT8304</td>\n",
       "      <td>Owner</td>\n",
       "    </tr>\n",
       "    <tr>\n",
       "      <th>1</th>\n",
       "      <td>A</td>\n",
       "      <td>EXL_1569941239614</td>\n",
       "      <td>2023-01-11</td>\n",
       "      <td>Silver Large</td>\n",
       "      <td>Silver - Large 4L</td>\n",
       "      <td>2</td>\n",
       "      <td>50</td>\n",
       "      <td>4</td>\n",
       "      <td>EXL_1569941239614</td>\n",
       "      <td>10540.0</td>\n",
       "      <td>สมุทรปราการ</td>\n",
       "      <td>เขตบางพลี</td>\n",
       "      <td>XT8304</td>\n",
       "      <td>Owner</td>\n",
       "    </tr>\n",
       "    <tr>\n",
       "      <th>2</th>\n",
       "      <td>A</td>\n",
       "      <td>EXL_1569941239614</td>\n",
       "      <td>2023-01-14</td>\n",
       "      <td>Silver Large</td>\n",
       "      <td>Silver - Large 4L</td>\n",
       "      <td>1</td>\n",
       "      <td>50</td>\n",
       "      <td>4</td>\n",
       "      <td>EXL_1569941239614</td>\n",
       "      <td>10540.0</td>\n",
       "      <td>สมุทรปราการ</td>\n",
       "      <td>เขตบางพลี</td>\n",
       "      <td>XT8304</td>\n",
       "      <td>Owner</td>\n",
       "    </tr>\n",
       "    <tr>\n",
       "      <th>3</th>\n",
       "      <td>A</td>\n",
       "      <td>EXL_1569941239614</td>\n",
       "      <td>2023-02-06</td>\n",
       "      <td>Silver Large</td>\n",
       "      <td>Silver - Large 4L</td>\n",
       "      <td>5</td>\n",
       "      <td>50</td>\n",
       "      <td>4</td>\n",
       "      <td>EXL_1569941239614</td>\n",
       "      <td>10540.0</td>\n",
       "      <td>สมุทรปราการ</td>\n",
       "      <td>เขตบางพลี</td>\n",
       "      <td>XT8304</td>\n",
       "      <td>Owner</td>\n",
       "    </tr>\n",
       "    <tr>\n",
       "      <th>4</th>\n",
       "      <td>A</td>\n",
       "      <td>EXL_1569941239614</td>\n",
       "      <td>2023-02-07</td>\n",
       "      <td>Gold Large</td>\n",
       "      <td>Gold - Large 4L</td>\n",
       "      <td>1</td>\n",
       "      <td>50</td>\n",
       "      <td>4</td>\n",
       "      <td>EXL_1569941239614</td>\n",
       "      <td>10540.0</td>\n",
       "      <td>สมุทรปราการ</td>\n",
       "      <td>เขตบางพลี</td>\n",
       "      <td>XT8304</td>\n",
       "      <td>Owner</td>\n",
       "    </tr>\n",
       "  </tbody>\n",
       "</table>\n",
       "</div>"
      ],
      "text/plain": [
       "  Distributor             UserId   ScanDate   ProductName  \\\n",
       "0           A  EXL_1569941239614 2023-01-11  Mobil 1 Gold   \n",
       "1           A  EXL_1569941239614 2023-01-11  Silver Large   \n",
       "2           A  EXL_1569941239614 2023-01-14  Silver Large   \n",
       "3           A  EXL_1569941239614 2023-02-06  Silver Large   \n",
       "4           A  EXL_1569941239614 2023-02-07    Gold Large   \n",
       "\n",
       "             ProductSKU  Qty  Points  Volume (L)            OwnerId  Postcode  \\\n",
       "0  Mobil 1 Gold 4L - 6L    2      60           6  EXL_1569941239614   10540.0   \n",
       "1     Silver - Large 4L    2      50           4  EXL_1569941239614   10540.0   \n",
       "2     Silver - Large 4L    1      50           4  EXL_1569941239614   10540.0   \n",
       "3     Silver - Large 4L    5      50           4  EXL_1569941239614   10540.0   \n",
       "4       Gold - Large 4L    1      50           4  EXL_1569941239614   10540.0   \n",
       "\n",
       "      Province  District  GarageId UserType  \n",
       "0  สมุทรปราการ  เขตบางพลี   XT8304    Owner  \n",
       "1  สมุทรปราการ  เขตบางพลี   XT8304    Owner  \n",
       "2  สมุทรปราการ  เขตบางพลี   XT8304    Owner  \n",
       "3  สมุทรปราการ  เขตบางพลี   XT8304    Owner  \n",
       "4  สมุทรปราการ  เขตบางพลี   XT8304    Owner  "
      ]
     },
     "execution_count": 11,
     "metadata": {},
     "output_type": "execute_result"
    }
   ],
   "source": [
    "print(mrw.shape)\n",
    "mrw.head()"
   ]
  },
  {
   "cell_type": "markdown",
   "metadata": {},
   "source": [
    "Handle null/ missing values"
   ]
  },
  {
   "cell_type": "code",
   "execution_count": 12,
   "metadata": {},
   "outputs": [
    {
     "data": {
      "text/plain": [
       "Index(['Distributor', 'UserId', 'ScanDate', 'ProductName', 'ProductSKU', 'Qty',\n",
       "       'Points', 'Volume (L)', 'OwnerId', 'Postcode', 'Province', 'District ',\n",
       "       'GarageId', 'UserType'],\n",
       "      dtype='object')"
      ]
     },
     "execution_count": 12,
     "metadata": {},
     "output_type": "execute_result"
    }
   ],
   "source": [
    "mrw.columns"
   ]
  },
  {
   "cell_type": "code",
   "execution_count": 13,
   "metadata": {},
   "outputs": [
    {
     "data": {
      "text/plain": [
       "Distributor            object\n",
       "UserId                 object\n",
       "ScanDate       datetime64[ns]\n",
       "ProductName            object\n",
       "ProductSKU             object\n",
       "Qty                     int64\n",
       "Points                  int64\n",
       "Volume (L)              int64\n",
       "OwnerId                object\n",
       "Postcode              float64\n",
       "Province               object\n",
       "District               object\n",
       "GarageId               object\n",
       "UserType               object\n",
       "dtype: object"
      ]
     },
     "execution_count": 13,
     "metadata": {},
     "output_type": "execute_result"
    }
   ],
   "source": [
    "mrw.dtypes"
   ]
  },
  {
   "cell_type": "code",
   "execution_count": 14,
   "metadata": {},
   "outputs": [
    {
     "data": {
      "text/plain": [
       "Distributor       0\n",
       "UserId            0\n",
       "ScanDate          0\n",
       "ProductName       0\n",
       "ProductSKU        0\n",
       "Qty               0\n",
       "Points            0\n",
       "Volume (L)        0\n",
       "OwnerId        3649\n",
       "Postcode       3757\n",
       "Province       3649\n",
       "District       3649\n",
       "GarageId          0\n",
       "UserType          0\n",
       "dtype: int64"
      ]
     },
     "execution_count": 14,
     "metadata": {},
     "output_type": "execute_result"
    }
   ],
   "source": [
    "mrw.rename(columns={'District ': 'District'}, inplace=True)\n",
    "mrw.isnull().sum()"
   ]
  },
  {
   "cell_type": "code",
   "execution_count": 15,
   "metadata": {},
   "outputs": [],
   "source": [
    "# drop records with no province\n",
    "null_province = mrw[ mrw['Province'].isnull() ].index\n",
    "mrw.drop(index=null_province, inplace=True)"
   ]
  },
  {
   "cell_type": "code",
   "execution_count": 16,
   "metadata": {},
   "outputs": [],
   "source": [
    "# fill null Postcode with 0\n",
    "mrw['Postcode'] = mrw['Postcode'].fillna(0).astype('int')\n",
    "mrw['Postcode'] = mrw['Postcode'].astype('str').replace('0', '-')"
   ]
  },
  {
   "cell_type": "markdown",
   "metadata": {},
   "source": [
    "### EDA\n",
    "Distribution of Top10 garage using (scan)"
   ]
  },
  {
   "cell_type": "code",
   "execution_count": 17,
   "metadata": {},
   "outputs": [
    {
     "data": {
      "text/plain": [
       "Index(['Distributor', 'UserId', 'ScanDate', 'ProductName', 'ProductSKU', 'Qty',\n",
       "       'Points', 'Volume (L)', 'OwnerId', 'Postcode', 'Province', 'District',\n",
       "       'GarageId', 'UserType'],\n",
       "      dtype='object')"
      ]
     },
     "execution_count": 17,
     "metadata": {},
     "output_type": "execute_result"
    }
   ],
   "source": [
    "mrw.columns"
   ]
  },
  {
   "cell_type": "code",
   "execution_count": 18,
   "metadata": {},
   "outputs": [
    {
     "data": {
      "text/plain": [
       "<Axes: xlabel='ScanDate', ylabel='Qty'>"
      ]
     },
     "execution_count": 18,
     "metadata": {},
     "output_type": "execute_result"
    },
    {
     "data": {
      "image/png": "[encoded data removed]",
      "text/plain": [
       "<Figure size 640x480 with 1 Axes>"
      ]
     },
     "metadata": {},
     "output_type": "display_data"
    }
   ],
   "source": [
    "garage_used_per_day = mrw.groupby(['GarageId', 'ScanDate']).agg({'Qty': 'sum'}).reset_index()\n",
    "top10_garage = garage_used_per_day.sort_values('Qty', ascending=False).head(10)\n",
    "\n",
    "top10_garage_used = pd.merge(top10_garage['GarageId'], mrw, on='GarageId', how='left')\n",
    "sns.scatterplot(data=top10_garage_used, x='ScanDate', y='Qty', hue='GarageId')"
   ]
  },
  {
   "cell_type": "code",
   "execution_count": 19,
   "metadata": {},
   "outputs": [
    {
     "data": {
      "text/html": [
       "<div>\n",
       "<style scoped>\n",
       "    .dataframe tbody tr th:only-of-type {\n",
       "        vertical-align: middle;\n",
       "    }\n",
       "\n",
       "    .dataframe tbody tr th {\n",
       "        vertical-align: top;\n",
       "    }\n",
       "\n",
       "    .dataframe thead th {\n",
       "        text-align: right;\n",
       "    }\n",
       "</style>\n",
       "<table border=\"1\" class=\"dataframe\">\n",
       "  <thead>\n",
       "    <tr style=\"text-align: right;\">\n",
       "      <th></th>\n",
       "      <th>GarageId</th>\n",
       "      <th>Qty</th>\n",
       "    </tr>\n",
       "  </thead>\n",
       "  <tbody>\n",
       "    <tr>\n",
       "      <th>434</th>\n",
       "      <td>IT8259</td>\n",
       "      <td>2519</td>\n",
       "    </tr>\n",
       "    <tr>\n",
       "      <th>403</th>\n",
       "      <td>IB0726</td>\n",
       "      <td>2329</td>\n",
       "    </tr>\n",
       "    <tr>\n",
       "      <th>307</th>\n",
       "      <td>GD8373</td>\n",
       "      <td>2113</td>\n",
       "    </tr>\n",
       "    <tr>\n",
       "      <th>381</th>\n",
       "      <td>HR9453</td>\n",
       "      <td>2062</td>\n",
       "    </tr>\n",
       "    <tr>\n",
       "      <th>1235</th>\n",
       "      <td>ZB1266</td>\n",
       "      <td>1900</td>\n",
       "    </tr>\n",
       "    <tr>\n",
       "      <th>858</th>\n",
       "      <td>RH6974</td>\n",
       "      <td>1720</td>\n",
       "    </tr>\n",
       "    <tr>\n",
       "      <th>1081</th>\n",
       "      <td>VY9051</td>\n",
       "      <td>1420</td>\n",
       "    </tr>\n",
       "    <tr>\n",
       "      <th>678</th>\n",
       "      <td>NW8593</td>\n",
       "      <td>1357</td>\n",
       "    </tr>\n",
       "    <tr>\n",
       "      <th>691</th>\n",
       "      <td>OC2412</td>\n",
       "      <td>1349</td>\n",
       "    </tr>\n",
       "    <tr>\n",
       "      <th>362</th>\n",
       "      <td>HE7765</td>\n",
       "      <td>1327</td>\n",
       "    </tr>\n",
       "  </tbody>\n",
       "</table>\n",
       "</div>"
      ],
      "text/plain": [
       "     GarageId   Qty\n",
       "434    IT8259  2519\n",
       "403    IB0726  2329\n",
       "307    GD8373  2113\n",
       "381    HR9453  2062\n",
       "1235   ZB1266  1900\n",
       "858    RH6974  1720\n",
       "1081   VY9051  1420\n",
       "678    NW8593  1357\n",
       "691    OC2412  1349\n",
       "362    HE7765  1327"
      ]
     },
     "execution_count": 19,
     "metadata": {},
     "output_type": "execute_result"
    }
   ],
   "source": [
    "used_by_garage = mrw.groupby(['GarageId']).agg({'Qty': 'sum'}).reset_index()\n",
    "top10_used = used_by_garage.sort_values('Qty', ascending=False).head(10)\n",
    "top10_used"
   ]
  },
  {
   "cell_type": "code",
   "execution_count": 20,
   "metadata": {},
   "outputs": [],
   "source": [
    "# mrw[ mrw['GarageId'] == 'IT8259' ]"
   ]
  },
  {
   "cell_type": "code",
   "execution_count": 21,
   "metadata": {},
   "outputs": [
    {
     "name": "stdout",
     "output_type": "stream",
     "text": [
      "IT8259 province: ['กรุงเทพมหานคร']\n",
      "IB0726 province: []\n",
      "GD8373 province: []\n",
      "HR9453 province: []\n",
      "ZB1266 province: []\n",
      "RH6974 province: []\n",
      "VY9051 province: []\n",
      "NW8593 province: []\n",
      "OC2412 province: []\n",
      "HE7765 province: ['พระนครศรีอยุธยา']\n"
     ]
    }
   ],
   "source": [
    "for garageID in top10_used['GarageId']:\n",
    "    province = top10_garage_used.loc[ top10_garage_used['GarageId'] == garageID, 'Province'].dropna().unique()\n",
    "    print(f\"{garageID} province: {province}\")"
   ]
  },
  {
   "cell_type": "code",
   "execution_count": 22,
   "metadata": {},
   "outputs": [],
   "source": [
    "# กลาง 4 เหนือ 2 ใต้ 2 ตะวันออก 2\n",
    "region_count = {}\n",
    "\n",
    "for garageID in top10_garage:\n",
    "    provinces = top10_garage_used.loc[top10_garage_used['GarageId'] == garageID, 'Province'].dropna().unique()\n",
    "    \n",
    "    for province in provinces:\n",
    "            print(f\"{garageID} province: {province}\")\n"
   ]
  },
  {
   "cell_type": "code",
   "execution_count": 23,
   "metadata": {},
   "outputs": [
    {
     "name": "stdout",
     "output_type": "stream",
     "text": [
      "                                       Qty\n",
      "GarageId ProductSKU                       \n",
      "BF7818   Charcoal - Large 4L - 5L        1\n",
      "         Mobil 1 Gold 4L - 6L            1\n",
      "         Mobil Delvac Modern 7L          1\n",
      "         Mobil Super AIO - 7L            1\n",
      "         Mobil Super AIO 3L - 6L         3\n",
      "         Mobil Super FF 4L - 7L          4\n",
      "DN4920   Charcoal - Large 4L - 5L        4\n",
      "         Gold - Large 4L                 4\n",
      "         Mobil 1 Gold 4L - 6L            7\n",
      "         Mobil Delvac Modern 7L         12\n",
      "         Mobil Super AIO - 7L           13\n",
      "         Mobil Super FF 4L - 7L         13\n",
      "         Mobil_Delvac_Legend_6L_-_7L    19\n",
      "         Silver - Large 4L              24\n",
      "HE7765   Mobil Super FF 4L - 7L         31\n",
      "IT8259   Gold - Large 4L                36\n",
      "         Mobil 1 Gold 4L - 6L           46\n",
      "         Mobil Super FF 4L - 7L         51\n",
      "         Silver - Large 4L              54\n",
      "JT8450   Charcoal - Large 4L - 5L       60\n",
      "         Gold - Large 4L                61\n",
      "         Mobil 1 Gold 4L - 6L           66\n",
      "         Mobil Delvac Modern 7L         88\n",
      "         Mobil Super AIO - 7L           90\n",
      "         Mobil Super FF 4L - 7L        128\n",
      "         Mobil_Delvac_Legend_6L_-_7L   144\n",
      "UB2208   Mobil Super AIO - 7L          200\n",
      "         Mobil Super FF 4L - 7L        225\n",
      "         Mobil_Delvac_Legend_6L_-_7L   268\n",
      "UK6051   Mobil Delvac Modern 7L        280\n",
      "         Mobil Super AIO - 7L          281\n",
      "         Mobil Super FF 4L - 7L        336\n",
      "VH9028   Charcoal - Large 4L - 5L      403\n",
      "         Mobil Super AIO - 7L          559\n",
      "         Mobil Super FF 4L - 7L       1327\n",
      "WY2502   Mobil Delvac Modern 7L       2022\n",
      "         Mobil Super FF 4L - 7L       2228\n"
     ]
    }
   ],
   "source": [
    "product_per_garage = top10_garage_used[['GarageId', 'ProductSKU', 'Qty', 'Province']]\\\n",
    "                        .groupby(['GarageId', 'ProductSKU'])\\\n",
    "                        .agg({'Qty': 'sum'}).apply(lambda x: np.sort(x))\n",
    "\n",
    "with pd.option_context('display.max_rows', None): \n",
    "    print(product_per_garage)\n",
    "    \n",
    "# delvac = product_per_garage[ product_per_garage['ProductSKU'].str.contains('Delvac Modern') ]['GarageId']\n",
    "# product_per_garage[ product_per_garage['GarageId'].isin(delvac) ].reset_index(drop=True)"
   ]
  },
  {
   "cell_type": "markdown",
   "metadata": {},
   "source": [
    "Proportional product SKU"
   ]
  },
  {
   "cell_type": "code",
   "execution_count": 24,
   "metadata": {},
   "outputs": [
    {
     "data": {
      "text/html": [
       "<div>\n",
       "<style scoped>\n",
       "    .dataframe tbody tr th:only-of-type {\n",
       "        vertical-align: middle;\n",
       "    }\n",
       "\n",
       "    .dataframe tbody tr th {\n",
       "        vertical-align: top;\n",
       "    }\n",
       "\n",
       "    .dataframe thead th {\n",
       "        text-align: right;\n",
       "    }\n",
       "</style>\n",
       "<table border=\"1\" class=\"dataframe\">\n",
       "  <thead>\n",
       "    <tr style=\"text-align: right;\">\n",
       "      <th></th>\n",
       "      <th>ProductSKU</th>\n",
       "      <th>Qty</th>\n",
       "      <th>percent</th>\n",
       "    </tr>\n",
       "  </thead>\n",
       "  <tbody>\n",
       "    <tr>\n",
       "      <th>0</th>\n",
       "      <td>Mobil Super FF 4L - 7L</td>\n",
       "      <td>111493</td>\n",
       "      <td>0.619364</td>\n",
       "    </tr>\n",
       "    <tr>\n",
       "      <th>1</th>\n",
       "      <td>Mobil Delvac Modern 7L</td>\n",
       "      <td>21862</td>\n",
       "      <td>0.121447</td>\n",
       "    </tr>\n",
       "    <tr>\n",
       "      <th>2</th>\n",
       "      <td>Silver - Large 4L</td>\n",
       "      <td>12257</td>\n",
       "      <td>0.068090</td>\n",
       "    </tr>\n",
       "    <tr>\n",
       "      <th>3</th>\n",
       "      <td>Mobil Super AIO - 7L</td>\n",
       "      <td>10536</td>\n",
       "      <td>0.058529</td>\n",
       "    </tr>\n",
       "    <tr>\n",
       "      <th>4</th>\n",
       "      <td>Charcoal - Large 4L - 5L</td>\n",
       "      <td>9723</td>\n",
       "      <td>0.054013</td>\n",
       "    </tr>\n",
       "    <tr>\n",
       "      <th>5</th>\n",
       "      <td>Mobil_Delvac_Legend_6L_-_7L</td>\n",
       "      <td>5827</td>\n",
       "      <td>0.032370</td>\n",
       "    </tr>\n",
       "    <tr>\n",
       "      <th>6</th>\n",
       "      <td>Gold - Large 4L</td>\n",
       "      <td>4476</td>\n",
       "      <td>0.024865</td>\n",
       "    </tr>\n",
       "    <tr>\n",
       "      <th>7</th>\n",
       "      <td>Mobil 1 Gold 4L - 6L</td>\n",
       "      <td>3013</td>\n",
       "      <td>0.016738</td>\n",
       "    </tr>\n",
       "    <tr>\n",
       "      <th>8</th>\n",
       "      <td>Blue - Large 4L - 5L</td>\n",
       "      <td>478</td>\n",
       "      <td>0.002655</td>\n",
       "    </tr>\n",
       "    <tr>\n",
       "      <th>9</th>\n",
       "      <td>Mobil Super AIO 3L - 6L</td>\n",
       "      <td>347</td>\n",
       "      <td>0.001928</td>\n",
       "    </tr>\n",
       "  </tbody>\n",
       "</table>\n",
       "</div>"
      ],
      "text/plain": [
       "                    ProductSKU     Qty   percent\n",
       "0       Mobil Super FF 4L - 7L  111493  0.619364\n",
       "1       Mobil Delvac Modern 7L   21862  0.121447\n",
       "2            Silver - Large 4L   12257  0.068090\n",
       "3         Mobil Super AIO - 7L   10536  0.058529\n",
       "4     Charcoal - Large 4L - 5L    9723  0.054013\n",
       "5  Mobil_Delvac_Legend_6L_-_7L    5827  0.032370\n",
       "6              Gold - Large 4L    4476  0.024865\n",
       "7         Mobil 1 Gold 4L - 6L    3013  0.016738\n",
       "8         Blue - Large 4L - 5L     478  0.002655\n",
       "9      Mobil Super AIO 3L - 6L     347  0.001928"
      ]
     },
     "execution_count": 24,
     "metadata": {},
     "output_type": "execute_result"
    }
   ],
   "source": [
    "sku_qty_totals = mrw.groupby('ProductSKU').agg({'Qty': 'sum'}).reset_index()\n",
    "sku_qty_totals = sku_qty_totals.sort_values(by='Qty', ascending=False).reset_index(drop=True)\n",
    "sku_qty_totals['percent'] = sku_qty_totals['Qty'] / sku_qty_totals['Qty'].sum()\n",
    "\n",
    "sku_qty_totals"
   ]
  },
  {
   "cell_type": "code",
   "execution_count": 25,
   "metadata": {},
   "outputs": [
    {
     "data": {
      "image/png": "[encoded data removed]",
      "text/plain": [
       "<Figure size 640x480 with 1 Axes>"
      ]
     },
     "metadata": {},
     "output_type": "display_data"
    }
   ],
   "source": [
    "color = ['#96b3c2', '#57838d', '#b4c9c7', '#a7d9c9', '#beede5',\n",
    "         '#e0f8f5', '#50b4d8', '#9eddef', '#b7eaf7', '#d7e2ea']\n",
    "explode = (0.02, )*10\n",
    "threshold = 0.03  # 3%\n",
    "total_qty = sku_qty_totals['Qty'].sum()\n",
    "small_slices = sku_qty_totals[sku_qty_totals['Qty'] / total_qty < threshold]\n",
    "large_slices = sku_qty_totals[sku_qty_totals['Qty'] / total_qty >= threshold]\n",
    "\n",
    "other = pd.DataFrame({'ProductSKU': ['Other'], 'Qty': [small_slices['Qty'].sum()]})\n",
    "new_data = pd.concat([large_slices, other])\n",
    "\n",
    "fig, ax = plt.subplots()\n",
    "wedges, texts, autotexts = ax.pie(new_data['Qty'], labels=new_data['ProductSKU'], autopct='%1.1f%%', \n",
    "                                  pctdistance=0.85, colors=color[:len(new_data)], explode=[0.02]*len(new_data))\n",
    "\n",
    "centre_circle = plt.Circle((0, 0), 0.70, fc='white')\n",
    "fig.gca().add_artist(centre_circle)\n",
    "\n",
    "plt.title('Quantity Percentage of ProductSKU')\n",
    "\n",
    "small_slices = small_slices.copy()\n",
    "small_slices['Percentage'] = (small_slices['Qty'] / total_qty) * 100\n",
    "\n",
    "other_contents = \"\\n\".join([f\"{row['ProductSKU']}: {row['Percentage']:.1f}%\" for _, row in small_slices.iterrows()])\n",
    "props = dict(boxstyle='round,pad=0.5', facecolor='white', edgecolor='black')\n",
    "plt.text(1.5, 1.5, f\"Other:\\n{other_contents}\", bbox=props, fontsize=10)\n",
    "\n",
    "plt.show()"
   ]
  },
  {
   "cell_type": "code",
   "execution_count": 26,
   "metadata": {},
   "outputs": [
    {
     "data": {
      "image/png": "[encoded data removed]",
      "text/plain": [
       "<Figure size 1000x600 with 1 Axes>"
      ]
     },
     "metadata": {},
     "output_type": "display_data"
    }
   ],
   "source": [
    "# List of distributors to plot\n",
    "distributors = ['A', 'B', 'C', 'D']\n",
    "\n",
    "# Plotting the cumulative sum line graph for each distributor\n",
    "plt.figure(figsize=(10, 6))\n",
    "\n",
    "for distributor in distributors:\n",
    "    # Filter data for the current distributor\n",
    "    filtered_mrw = mrw[mrw['Distributor'] == distributor]\n",
    "    \n",
    "    # Sort data by ScanDate\n",
    "    filtered_mrw = filtered_mrw.sort_values(by='ScanDate')\n",
    "    \n",
    "    # Calculate cumulative sum of Qty\n",
    "    filtered_mrw['CumulativeQty'] = filtered_mrw['Qty'].cumsum()\n",
    "    \n",
    "    # Plot the line graph\n",
    "    plt.plot(filtered_mrw['ScanDate'], filtered_mrw['CumulativeQty'], marker='o', linestyle='-', label=f'Distributor {distributor}')\n",
    "\n",
    "plt.title('Use rate (Commulative sum of Qty) of Distributors A, B, C, and Dc')\n",
    "plt.xlabel('ScanDate')\n",
    "plt.ylabel('Cumulative Qty')\n",
    "plt.xticks(rotation=45)\n",
    "plt.grid()\n",
    "plt.legend()\n",
    "plt.show()"
   ]
  },
  {
   "cell_type": "markdown",
   "metadata": {},
   "source": [
    "### 2. MER file"
   ]
  },
  {
   "cell_type": "code",
   "execution_count": 27,
   "metadata": {},
   "outputs": [],
   "source": [
    "mer = pd.ExcelFile('dataset/2. MER PointTransaction 2023_RetailsResellers_Final.xlsx')\n",
    "mer_sheet1 = pd.read_excel(mer, 'MER Transaction')\n",
    "mer_sheet2 = pd.read_excel(mer, 'Point Per Litre')"
   ]
  },
  {
   "cell_type": "code",
   "execution_count": 28,
   "metadata": {},
   "outputs": [
    {
     "name": "stdout",
     "output_type": "stream",
     "text": [
      "(9429, 8)\n"
     ]
    },
    {
     "data": {
      "text/html": [
       "<div>\n",
       "<style scoped>\n",
       "    .dataframe tbody tr th:only-of-type {\n",
       "        vertical-align: middle;\n",
       "    }\n",
       "\n",
       "    .dataframe tbody tr th {\n",
       "        vertical-align: top;\n",
       "    }\n",
       "\n",
       "    .dataframe thead th {\n",
       "        text-align: right;\n",
       "    }\n",
       "</style>\n",
       "<table border=\"1\" class=\"dataframe\">\n",
       "  <thead>\n",
       "    <tr style=\"text-align: right;\">\n",
       "      <th></th>\n",
       "      <th>Invoicedate</th>\n",
       "      <th>Distributor</th>\n",
       "      <th>GroupId</th>\n",
       "      <th>Type</th>\n",
       "      <th>Provincename</th>\n",
       "      <th>MatNo</th>\n",
       "      <th>Material Name</th>\n",
       "      <th>New_Volume(L)</th>\n",
       "    </tr>\n",
       "  </thead>\n",
       "  <tbody>\n",
       "    <tr>\n",
       "      <th>0</th>\n",
       "      <td>2023-02-14</td>\n",
       "      <td>A</td>\n",
       "      <td>ERW_AI8N2021070006</td>\n",
       "      <td>Retails</td>\n",
       "      <td>Pathum Thani</td>\n",
       "      <td>123150</td>\n",
       "      <td>MOBIL MULTIPURPOSE ATF, 208LT DR</td>\n",
       "      <td>7168</td>\n",
       "    </tr>\n",
       "    <tr>\n",
       "      <th>1</th>\n",
       "      <td>2023-04-20</td>\n",
       "      <td>D</td>\n",
       "      <td>ERW_DBG72020110082</td>\n",
       "      <td>Reseller</td>\n",
       "      <td>Songkhla</td>\n",
       "      <td>124213</td>\n",
       "      <td>MOBIL ATF 220  D 208LT</td>\n",
       "      <td>912</td>\n",
       "    </tr>\n",
       "    <tr>\n",
       "      <th>2</th>\n",
       "      <td>2023-10-19</td>\n",
       "      <td>D</td>\n",
       "      <td>ERW_DBG72020110082</td>\n",
       "      <td>Reseller</td>\n",
       "      <td>Songkhla</td>\n",
       "      <td>124216</td>\n",
       "      <td>MOBIL ATF 220 P1/20LT</td>\n",
       "      <td>7340</td>\n",
       "    </tr>\n",
       "    <tr>\n",
       "      <th>3</th>\n",
       "      <td>2023-07-25</td>\n",
       "      <td>D</td>\n",
       "      <td>ERW_DBG72020110082</td>\n",
       "      <td>Reseller</td>\n",
       "      <td>Songkhla</td>\n",
       "      <td>124216</td>\n",
       "      <td>MOBIL ATF 220 P1/20LT</td>\n",
       "      <td>1640</td>\n",
       "    </tr>\n",
       "    <tr>\n",
       "      <th>4</th>\n",
       "      <td>2023-10-12</td>\n",
       "      <td>D</td>\n",
       "      <td>ERW_DBG72020110082</td>\n",
       "      <td>Reseller</td>\n",
       "      <td>Songkhla</td>\n",
       "      <td>124216</td>\n",
       "      <td>MOBIL ATF 220 P1/20LT</td>\n",
       "      <td>7080</td>\n",
       "    </tr>\n",
       "  </tbody>\n",
       "</table>\n",
       "</div>"
      ],
      "text/plain": [
       "  Invoicedate Distributor             GroupId      Type  Provincename   MatNo  \\\n",
       "0  2023-02-14           A  ERW_AI8N2021070006   Retails  Pathum Thani  123150   \n",
       "1  2023-04-20           D  ERW_DBG72020110082  Reseller      Songkhla  124213   \n",
       "2  2023-10-19           D  ERW_DBG72020110082  Reseller      Songkhla  124216   \n",
       "3  2023-07-25           D  ERW_DBG72020110082  Reseller      Songkhla  124216   \n",
       "4  2023-10-12           D  ERW_DBG72020110082  Reseller      Songkhla  124216   \n",
       "\n",
       "                      Material Name  New_Volume(L)  \n",
       "0  MOBIL MULTIPURPOSE ATF, 208LT DR           7168  \n",
       "1            MOBIL ATF 220  D 208LT            912  \n",
       "2             MOBIL ATF 220 P1/20LT           7340  \n",
       "3             MOBIL ATF 220 P1/20LT           1640  \n",
       "4             MOBIL ATF 220 P1/20LT           7080  "
      ]
     },
     "execution_count": 28,
     "metadata": {},
     "output_type": "execute_result"
    }
   ],
   "source": [
    "print(mer_sheet1.shape)\n",
    "mer_sheet1.head()"
   ]
  },
  {
   "cell_type": "code",
   "execution_count": 29,
   "metadata": {},
   "outputs": [
    {
     "name": "stdout",
     "output_type": "stream",
     "text": [
      "(145, 2)\n"
     ]
    },
    {
     "data": {
      "text/html": [
       "<div>\n",
       "<style scoped>\n",
       "    .dataframe tbody tr th:only-of-type {\n",
       "        vertical-align: middle;\n",
       "    }\n",
       "\n",
       "    .dataframe tbody tr th {\n",
       "        vertical-align: top;\n",
       "    }\n",
       "\n",
       "    .dataframe thead th {\n",
       "        text-align: right;\n",
       "    }\n",
       "</style>\n",
       "<table border=\"1\" class=\"dataframe\">\n",
       "  <thead>\n",
       "    <tr style=\"text-align: right;\">\n",
       "      <th></th>\n",
       "      <th>MatNo</th>\n",
       "      <th>Points</th>\n",
       "    </tr>\n",
       "  </thead>\n",
       "  <tbody>\n",
       "    <tr>\n",
       "      <th>0</th>\n",
       "      <td>144673</td>\n",
       "      <td>10</td>\n",
       "    </tr>\n",
       "    <tr>\n",
       "      <th>1</th>\n",
       "      <td>140521</td>\n",
       "      <td>10</td>\n",
       "    </tr>\n",
       "    <tr>\n",
       "      <th>2</th>\n",
       "      <td>144473</td>\n",
       "      <td>10</td>\n",
       "    </tr>\n",
       "    <tr>\n",
       "      <th>3</th>\n",
       "      <td>145832</td>\n",
       "      <td>10</td>\n",
       "    </tr>\n",
       "    <tr>\n",
       "      <th>4</th>\n",
       "      <td>140418</td>\n",
       "      <td>10</td>\n",
       "    </tr>\n",
       "  </tbody>\n",
       "</table>\n",
       "</div>"
      ],
      "text/plain": [
       "    MatNo  Points\n",
       "0  144673      10\n",
       "1  140521      10\n",
       "2  144473      10\n",
       "3  145832      10\n",
       "4  140418      10"
      ]
     },
     "execution_count": 29,
     "metadata": {},
     "output_type": "execute_result"
    }
   ],
   "source": [
    "print(mer_sheet2.shape)\n",
    "mer_sheet2.head()"
   ]
  },
  {
   "cell_type": "code",
   "execution_count": 30,
   "metadata": {},
   "outputs": [
    {
     "name": "stdout",
     "output_type": "stream",
     "text": [
      "(9429, 9)\n"
     ]
    },
    {
     "data": {
      "text/html": [
       "<div>\n",
       "<style scoped>\n",
       "    .dataframe tbody tr th:only-of-type {\n",
       "        vertical-align: middle;\n",
       "    }\n",
       "\n",
       "    .dataframe tbody tr th {\n",
       "        vertical-align: top;\n",
       "    }\n",
       "\n",
       "    .dataframe thead th {\n",
       "        text-align: right;\n",
       "    }\n",
       "</style>\n",
       "<table border=\"1\" class=\"dataframe\">\n",
       "  <thead>\n",
       "    <tr style=\"text-align: right;\">\n",
       "      <th></th>\n",
       "      <th>Invoicedate</th>\n",
       "      <th>Distributor</th>\n",
       "      <th>GroupId</th>\n",
       "      <th>Type</th>\n",
       "      <th>Provincename</th>\n",
       "      <th>MatNo</th>\n",
       "      <th>Material Name</th>\n",
       "      <th>New_Volume(L)</th>\n",
       "      <th>Points</th>\n",
       "    </tr>\n",
       "  </thead>\n",
       "  <tbody>\n",
       "    <tr>\n",
       "      <th>0</th>\n",
       "      <td>2023-02-14</td>\n",
       "      <td>A</td>\n",
       "      <td>ERW_AI8N2021070006</td>\n",
       "      <td>Retails</td>\n",
       "      <td>Pathum Thani</td>\n",
       "      <td>123150</td>\n",
       "      <td>MOBIL MULTIPURPOSE ATF, 208LT DR</td>\n",
       "      <td>7168</td>\n",
       "      <td>1</td>\n",
       "    </tr>\n",
       "    <tr>\n",
       "      <th>1</th>\n",
       "      <td>2023-04-20</td>\n",
       "      <td>D</td>\n",
       "      <td>ERW_DBG72020110082</td>\n",
       "      <td>Reseller</td>\n",
       "      <td>Songkhla</td>\n",
       "      <td>124213</td>\n",
       "      <td>MOBIL ATF 220  D 208LT</td>\n",
       "      <td>912</td>\n",
       "      <td>1</td>\n",
       "    </tr>\n",
       "    <tr>\n",
       "      <th>2</th>\n",
       "      <td>2023-10-19</td>\n",
       "      <td>D</td>\n",
       "      <td>ERW_DBG72020110082</td>\n",
       "      <td>Reseller</td>\n",
       "      <td>Songkhla</td>\n",
       "      <td>124216</td>\n",
       "      <td>MOBIL ATF 220 P1/20LT</td>\n",
       "      <td>7340</td>\n",
       "      <td>1</td>\n",
       "    </tr>\n",
       "    <tr>\n",
       "      <th>3</th>\n",
       "      <td>2023-07-25</td>\n",
       "      <td>D</td>\n",
       "      <td>ERW_DBG72020110082</td>\n",
       "      <td>Reseller</td>\n",
       "      <td>Songkhla</td>\n",
       "      <td>124216</td>\n",
       "      <td>MOBIL ATF 220 P1/20LT</td>\n",
       "      <td>1640</td>\n",
       "      <td>1</td>\n",
       "    </tr>\n",
       "    <tr>\n",
       "      <th>4</th>\n",
       "      <td>2023-10-12</td>\n",
       "      <td>D</td>\n",
       "      <td>ERW_DBG72020110082</td>\n",
       "      <td>Reseller</td>\n",
       "      <td>Songkhla</td>\n",
       "      <td>124216</td>\n",
       "      <td>MOBIL ATF 220 P1/20LT</td>\n",
       "      <td>7080</td>\n",
       "      <td>1</td>\n",
       "    </tr>\n",
       "  </tbody>\n",
       "</table>\n",
       "</div>"
      ],
      "text/plain": [
       "  Invoicedate Distributor             GroupId      Type  Provincename   MatNo  \\\n",
       "0  2023-02-14           A  ERW_AI8N2021070006   Retails  Pathum Thani  123150   \n",
       "1  2023-04-20           D  ERW_DBG72020110082  Reseller      Songkhla  124213   \n",
       "2  2023-10-19           D  ERW_DBG72020110082  Reseller      Songkhla  124216   \n",
       "3  2023-07-25           D  ERW_DBG72020110082  Reseller      Songkhla  124216   \n",
       "4  2023-10-12           D  ERW_DBG72020110082  Reseller      Songkhla  124216   \n",
       "\n",
       "                      Material Name  New_Volume(L)  Points  \n",
       "0  MOBIL MULTIPURPOSE ATF, 208LT DR           7168       1  \n",
       "1            MOBIL ATF 220  D 208LT            912       1  \n",
       "2             MOBIL ATF 220 P1/20LT           7340       1  \n",
       "3             MOBIL ATF 220 P1/20LT           1640       1  \n",
       "4             MOBIL ATF 220 P1/20LT           7080       1  "
      ]
     },
     "execution_count": 30,
     "metadata": {},
     "output_type": "execute_result"
    }
   ],
   "source": [
    "mer = pd.merge(mer_sheet1, mer_sheet2, on='MatNo', how='left')\n",
    "print(mer.shape)\n",
    "mer.head()"
   ]
  },
  {
   "cell_type": "markdown",
   "metadata": {},
   "source": [
    "Null/ missing values"
   ]
  },
  {
   "cell_type": "code",
   "execution_count": 31,
   "metadata": {},
   "outputs": [
    {
     "data": {
      "text/plain": [
       "Index(['Invoicedate', 'Distributor', 'GroupId', 'Type', 'Provincename',\n",
       "       'MatNo', 'Material Name', 'New_Volume(L)', 'Points'],\n",
       "      dtype='object')"
      ]
     },
     "execution_count": 31,
     "metadata": {},
     "output_type": "execute_result"
    }
   ],
   "source": [
    "mer.columns"
   ]
  },
  {
   "cell_type": "code",
   "execution_count": 32,
   "metadata": {},
   "outputs": [
    {
     "data": {
      "text/plain": [
       "Invoicedate      0\n",
       "Distributor      0\n",
       "GroupId          0\n",
       "Type             0\n",
       "Provincename     0\n",
       "MatNo            0\n",
       "Material Name    0\n",
       "New_Volume(L)    0\n",
       "Points           0\n",
       "dtype: int64"
      ]
     },
     "execution_count": 32,
     "metadata": {},
     "output_type": "execute_result"
    }
   ],
   "source": [
    "mer.isnull().sum()"
   ]
  },
  {
   "cell_type": "markdown",
   "metadata": {},
   "source": [
    "Fix Typos of Material Name"
   ]
  },
  {
   "cell_type": "code",
   "execution_count": 33,
   "metadata": {},
   "outputs": [
    {
     "data": {
      "text/plain": [
       "(145, 1)"
      ]
     },
     "execution_count": 33,
     "metadata": {},
     "output_type": "execute_result"
    }
   ],
   "source": [
    "mat_default = mer_sheet1.sort_values(['MatNo', 'Material Name']).groupby('MatNo').head(1)\\\n",
    "                        .loc[:, ['MatNo', 'Material Name']].set_index('MatNo')\n",
    "mat_default['Material Name'] = mat_default['Material Name'].str.replace('โมบิล', 'MOBIL')\n",
    "mat_default['Material Name'] = mat_default['Material Name'].str.replace('เดลแวค', 'DELVAC')\n",
    "mat_default['Material Name'] = mat_default['Material Name'].str.replace('สเปเชียล', 'SPECIAL')\n",
    "mat_default.loc[ mat_default.index == 140563, 'Material Name'] = 'MOBIL DELVAC 1 GEAR OIL 75W90, 1/35LB'\n",
    "\n",
    "mat_default.shape\n",
    "# with pd.option_context('display.max_rows', None):\n",
    "#     display(mat_default)"
   ]
  },
  {
   "cell_type": "code",
   "execution_count": 34,
   "metadata": {},
   "outputs": [
    {
     "data": {
      "text/plain": [
       "(145, 2)"
      ]
     },
     "execution_count": 34,
     "metadata": {},
     "output_type": "execute_result"
    }
   ],
   "source": [
    "for i in mer['MatNo'].unique():\n",
    "    mer.loc[mer['MatNo'] == i, 'Material Name'] = mat_default.loc[i, 'Material Name']\n",
    "            \n",
    "mer[ ['MatNo', 'Material Name']].drop_duplicates().shape"
   ]
  },
  {
   "cell_type": "code",
   "execution_count": 35,
   "metadata": {},
   "outputs": [
    {
     "data": {
      "text/plain": [
       "Invoicedate      False\n",
       "Distributor      False\n",
       "GroupId          False\n",
       "Type             False\n",
       "Provincename     False\n",
       "MatNo            False\n",
       "Material Name    False\n",
       "New_Volume(L)    False\n",
       "Points           False\n",
       "dtype: bool"
      ]
     },
     "execution_count": 35,
     "metadata": {},
     "output_type": "execute_result"
    }
   ],
   "source": [
    "mer.dropna(inplace=True)\n",
    "mer.isnull().any()"
   ]
  },
  {
   "cell_type": "markdown",
   "metadata": {},
   "source": [
    "#### EDA\n",
    "Points per อู่"
   ]
  },
  {
   "cell_type": "code",
   "execution_count": 36,
   "metadata": {},
   "outputs": [
    {
     "data": {
      "text/html": [
       "<div>\n",
       "<style scoped>\n",
       "    .dataframe tbody tr th:only-of-type {\n",
       "        vertical-align: middle;\n",
       "    }\n",
       "\n",
       "    .dataframe tbody tr th {\n",
       "        vertical-align: top;\n",
       "    }\n",
       "\n",
       "    .dataframe thead th {\n",
       "        text-align: right;\n",
       "    }\n",
       "</style>\n",
       "<table border=\"1\" class=\"dataframe\">\n",
       "  <thead>\n",
       "    <tr style=\"text-align: right;\">\n",
       "      <th></th>\n",
       "      <th>Invoicedate</th>\n",
       "      <th>Distributor</th>\n",
       "      <th>GroupId</th>\n",
       "      <th>Type</th>\n",
       "      <th>Provincename</th>\n",
       "      <th>MatNo</th>\n",
       "      <th>Material Name</th>\n",
       "      <th>New_Volume(L)</th>\n",
       "      <th>Points</th>\n",
       "    </tr>\n",
       "  </thead>\n",
       "  <tbody>\n",
       "    <tr>\n",
       "      <th>1705</th>\n",
       "      <td>2023-11-03</td>\n",
       "      <td>A</td>\n",
       "      <td>ERW_A7QF2022060002</td>\n",
       "      <td>Retails</td>\n",
       "      <td>NaN</td>\n",
       "      <td>140043</td>\n",
       "      <td>MOBIL ATF 3309 , 12x1 LT CTN</td>\n",
       "      <td>5392</td>\n",
       "      <td>1</td>\n",
       "    </tr>\n",
       "    <tr>\n",
       "      <th>1845</th>\n",
       "      <td>2023-02-13</td>\n",
       "      <td>A</td>\n",
       "      <td>ERW_A7QF2022060003</td>\n",
       "      <td>Retails</td>\n",
       "      <td>NaN</td>\n",
       "      <td>140418</td>\n",
       "      <td>MOBIL 1 TBD 5W-40 4X6L/CAR</td>\n",
       "      <td>5088</td>\n",
       "      <td>10</td>\n",
       "    </tr>\n",
       "    <tr>\n",
       "      <th>1910</th>\n",
       "      <td>2023-02-13</td>\n",
       "      <td>A</td>\n",
       "      <td>ERW_A7QF2022060003</td>\n",
       "      <td>Retails</td>\n",
       "      <td>NaN</td>\n",
       "      <td>140521</td>\n",
       "      <td>MOBIL 1 0W-40 (SN), 4x4LT CTN</td>\n",
       "      <td>608</td>\n",
       "      <td>10</td>\n",
       "    </tr>\n",
       "    <tr>\n",
       "      <th>2260</th>\n",
       "      <td>2023-02-13</td>\n",
       "      <td>A</td>\n",
       "      <td>ERW_A7QF2022060003</td>\n",
       "      <td>Retails</td>\n",
       "      <td>NaN</td>\n",
       "      <td>142923</td>\n",
       "      <td>MOBIL SPECIAL 20W-50 4X4L/CAR</td>\n",
       "      <td>6544</td>\n",
       "      <td>1</td>\n",
       "    </tr>\n",
       "    <tr>\n",
       "      <th>2275</th>\n",
       "      <td>2023-10-26</td>\n",
       "      <td>A</td>\n",
       "      <td>ERW_A7QF2022060003</td>\n",
       "      <td>Retails</td>\n",
       "      <td>NaN</td>\n",
       "      <td>142923</td>\n",
       "      <td>MOBIL SPECIAL 20W-50 4X4L/CAR</td>\n",
       "      <td>1104</td>\n",
       "      <td>1</td>\n",
       "    </tr>\n",
       "  </tbody>\n",
       "</table>\n",
       "</div>"
      ],
      "text/plain": [
       "     Invoicedate Distributor             GroupId     Type Provincename  \\\n",
       "1705  2023-11-03           A  ERW_A7QF2022060002  Retails          NaN   \n",
       "1845  2023-02-13           A  ERW_A7QF2022060003  Retails          NaN   \n",
       "1910  2023-02-13           A  ERW_A7QF2022060003  Retails          NaN   \n",
       "2260  2023-02-13           A  ERW_A7QF2022060003  Retails          NaN   \n",
       "2275  2023-10-26           A  ERW_A7QF2022060003  Retails          NaN   \n",
       "\n",
       "       MatNo                  Material Name  New_Volume(L)  Points  \n",
       "1705  140043   MOBIL ATF 3309 , 12x1 LT CTN           5392       1  \n",
       "1845  140418     MOBIL 1 TBD 5W-40 4X6L/CAR           5088      10  \n",
       "1910  140521  MOBIL 1 0W-40 (SN), 4x4LT CTN            608      10  \n",
       "2260  142923  MOBIL SPECIAL 20W-50 4X4L/CAR           6544       1  \n",
       "2275  142923  MOBIL SPECIAL 20W-50 4X4L/CAR           1104       1  "
      ]
     },
     "execution_count": 36,
     "metadata": {},
     "output_type": "execute_result"
    }
   ],
   "source": [
    "mer['Provincename'] = mer['Provincename'].replace('N\\A', np.nan)\n",
    "mer[mer['Provincename'].isnull()].head()"
   ]
  },
  {
   "cell_type": "code",
   "execution_count": 37,
   "metadata": {},
   "outputs": [],
   "source": [
    "# time_series = mrw.copy()\n",
    "# time_series['Month'] = mrw['ScanDate'].dt.month\n",
    "# time_series['Year'] = mrw['ScanDate'].dt.year\n",
    "# time_series['Quarter'] = mrw['ScanDate'].dt.quarter\n",
    "\n",
    "# sales_per_month = time_series.groupby(['Year', 'Month']).agg({'UserId': 'count'})\\\n",
    "#                                 .rename(columns={'UserId': 'quantity'}).reset_index()\n",
    "# sales_per_quarter = time_series.groupby(['Year', 'Quarter']).agg({'UserId': 'count'})\\\n",
    "#                                 .rename(columns={'UserId': 'quantity'}).reset_index()\n",
    "\n",
    "# fig, ax = plt.subplots(1, 2, figsize=(12, 5))\n",
    "# ax[0].plot(sales_per_month['Month'], sales_per_month['quantity'])\n",
    "# ax[0].set_title('User by month')\n",
    "\n",
    "# ax[1].plot(sales_per_quarter['Quarter'], sales_per_quarter['quantity'])\n",
    "# ax[1].set_title('User by quarter')"
   ]
  },
  {
   "cell_type": "markdown",
   "metadata": {},
   "source": [
    "**Churn detection**\\\n",
    "hypothesis: if trending of volume order by quarter decrease over time, we will classify as 'Churn'"
   ]
  },
  {
   "cell_type": "code",
   "execution_count": 79,
   "metadata": {},
   "outputs": [
    {
     "data": {
      "text/html": [
       "<div>\n",
       "<style scoped>\n",
       "    .dataframe tbody tr th:only-of-type {\n",
       "        vertical-align: middle;\n",
       "    }\n",
       "\n",
       "    .dataframe tbody tr th {\n",
       "        vertical-align: top;\n",
       "    }\n",
       "\n",
       "    .dataframe thead th {\n",
       "        text-align: right;\n",
       "    }\n",
       "</style>\n",
       "<table border=\"1\" class=\"dataframe\">\n",
       "  <thead>\n",
       "    <tr style=\"text-align: right;\">\n",
       "      <th></th>\n",
       "      <th>GroupId</th>\n",
       "      <th>MatNo</th>\n",
       "      <th>quarter</th>\n",
       "      <th>New_Volume(L)</th>\n",
       "    </tr>\n",
       "  </thead>\n",
       "  <tbody>\n",
       "    <tr>\n",
       "      <th>0</th>\n",
       "      <td>ERW_A1DS2023040002</td>\n",
       "      <td>143874</td>\n",
       "      <td>3</td>\n",
       "      <td>2328</td>\n",
       "    </tr>\n",
       "    <tr>\n",
       "      <th>1</th>\n",
       "      <td>ERW_A1DS2023040002</td>\n",
       "      <td>143874</td>\n",
       "      <td>4</td>\n",
       "      <td>5532</td>\n",
       "    </tr>\n",
       "    <tr>\n",
       "      <th>2</th>\n",
       "      <td>ERW_A1DS2023040002</td>\n",
       "      <td>143877</td>\n",
       "      <td>2</td>\n",
       "      <td>12544</td>\n",
       "    </tr>\n",
       "    <tr>\n",
       "      <th>3</th>\n",
       "      <td>ERW_A1DS2023040002</td>\n",
       "      <td>143877</td>\n",
       "      <td>3</td>\n",
       "      <td>8120</td>\n",
       "    </tr>\n",
       "    <tr>\n",
       "      <th>4</th>\n",
       "      <td>ERW_A1DS2023040002</td>\n",
       "      <td>143877</td>\n",
       "      <td>4</td>\n",
       "      <td>5040</td>\n",
       "    </tr>\n",
       "  </tbody>\n",
       "</table>\n",
       "</div>"
      ],
      "text/plain": [
       "              GroupId   MatNo  quarter  New_Volume(L)\n",
       "0  ERW_A1DS2023040002  143874        3           2328\n",
       "1  ERW_A1DS2023040002  143874        4           5532\n",
       "2  ERW_A1DS2023040002  143877        2          12544\n",
       "3  ERW_A1DS2023040002  143877        3           8120\n",
       "4  ERW_A1DS2023040002  143877        4           5040"
      ]
     },
     "execution_count": 79,
     "metadata": {},
     "output_type": "execute_result"
    }
   ],
   "source": [
    "mer['quarter'] = mer['Invoicedate'].dt.quarter\n",
    "volume_by_quarter = mer.groupby(['GroupId', 'MatNo', 'quarter'])\\\n",
    "                        .agg({'New_Volume(L)': 'sum'})\n",
    "volume_by_quarter = volume_by_quarter.sort_values(by=['GroupId', 'MatNo', 'quarter']).reset_index()\n",
    "volume_by_quarter.head(5)"
   ]
  },
  {
   "cell_type": "code",
   "execution_count": 102,
   "metadata": {},
   "outputs": [
    {
     "data": {
      "text/html": [
       "<div>\n",
       "<style scoped>\n",
       "    .dataframe tbody tr th:only-of-type {\n",
       "        vertical-align: middle;\n",
       "    }\n",
       "\n",
       "    .dataframe tbody tr th {\n",
       "        vertical-align: top;\n",
       "    }\n",
       "\n",
       "    .dataframe thead th {\n",
       "        text-align: right;\n",
       "    }\n",
       "</style>\n",
       "<table border=\"1\" class=\"dataframe\">\n",
       "  <thead>\n",
       "    <tr style=\"text-align: right;\">\n",
       "      <th>quarter</th>\n",
       "      <th>GroupId</th>\n",
       "      <th>MatNo</th>\n",
       "      <th>1</th>\n",
       "      <th>2</th>\n",
       "      <th>3</th>\n",
       "      <th>4</th>\n",
       "      <th>volume_diff</th>\n",
       "      <th>Churn</th>\n",
       "    </tr>\n",
       "  </thead>\n",
       "  <tbody>\n",
       "    <tr>\n",
       "      <th>1993</th>\n",
       "      <td>ERW_BM2U2020110030</td>\n",
       "      <td>143576</td>\n",
       "      <td>5736.0</td>\n",
       "      <td>0.0</td>\n",
       "      <td>0.0</td>\n",
       "      <td>0.0</td>\n",
       "      <td>0</td>\n",
       "      <td>No</td>\n",
       "    </tr>\n",
       "    <tr>\n",
       "      <th>1828</th>\n",
       "      <td>ERW_BM2U2020110002</td>\n",
       "      <td>145570</td>\n",
       "      <td>0.0</td>\n",
       "      <td>0.0</td>\n",
       "      <td>3880.0</td>\n",
       "      <td>15600.0</td>\n",
       "      <td>11720</td>\n",
       "      <td>No</td>\n",
       "    </tr>\n",
       "    <tr>\n",
       "      <th>2262</th>\n",
       "      <td>ERW_BM2U2020110062</td>\n",
       "      <td>145570</td>\n",
       "      <td>0.0</td>\n",
       "      <td>0.0</td>\n",
       "      <td>2480.0</td>\n",
       "      <td>7660.0</td>\n",
       "      <td>5180</td>\n",
       "      <td>No</td>\n",
       "    </tr>\n",
       "    <tr>\n",
       "      <th>3390</th>\n",
       "      <td>ERW_C08P2020090073</td>\n",
       "      <td>135896</td>\n",
       "      <td>0.0</td>\n",
       "      <td>12042.0</td>\n",
       "      <td>7452.0</td>\n",
       "      <td>0.0</td>\n",
       "      <td>-4590</td>\n",
       "      <td>Yes</td>\n",
       "    </tr>\n",
       "    <tr>\n",
       "      <th>3647</th>\n",
       "      <td>ERW_C08P2020090135</td>\n",
       "      <td>140417</td>\n",
       "      <td>281.0</td>\n",
       "      <td>0.0</td>\n",
       "      <td>0.0</td>\n",
       "      <td>0.0</td>\n",
       "      <td>0</td>\n",
       "      <td>No</td>\n",
       "    </tr>\n",
       "    <tr>\n",
       "      <th>431</th>\n",
       "      <td>ERW_AMBP2020110050</td>\n",
       "      <td>143132</td>\n",
       "      <td>0.0</td>\n",
       "      <td>1840.0</td>\n",
       "      <td>0.0</td>\n",
       "      <td>5280.0</td>\n",
       "      <td>0</td>\n",
       "      <td>No</td>\n",
       "    </tr>\n",
       "    <tr>\n",
       "      <th>3040</th>\n",
       "      <td>ERW_BXG52021040275</td>\n",
       "      <td>140521</td>\n",
       "      <td>0.0</td>\n",
       "      <td>0.0</td>\n",
       "      <td>1952.0</td>\n",
       "      <td>0.0</td>\n",
       "      <td>0</td>\n",
       "      <td>No</td>\n",
       "    </tr>\n",
       "    <tr>\n",
       "      <th>2356</th>\n",
       "      <td>ERW_BM2U2020110077</td>\n",
       "      <td>145573</td>\n",
       "      <td>0.0</td>\n",
       "      <td>10968.0</td>\n",
       "      <td>9540.0</td>\n",
       "      <td>0.0</td>\n",
       "      <td>-1428</td>\n",
       "      <td>Yes</td>\n",
       "    </tr>\n",
       "    <tr>\n",
       "      <th>355</th>\n",
       "      <td>ERW_AMBP2020110030</td>\n",
       "      <td>140418</td>\n",
       "      <td>9296.0</td>\n",
       "      <td>0.0</td>\n",
       "      <td>0.0</td>\n",
       "      <td>0.0</td>\n",
       "      <td>0</td>\n",
       "      <td>No</td>\n",
       "    </tr>\n",
       "    <tr>\n",
       "      <th>3422</th>\n",
       "      <td>ERW_C08P2020090082</td>\n",
       "      <td>145577</td>\n",
       "      <td>0.0</td>\n",
       "      <td>1148.0</td>\n",
       "      <td>8092.0</td>\n",
       "      <td>13356.0</td>\n",
       "      <td>12208</td>\n",
       "      <td>No</td>\n",
       "    </tr>\n",
       "  </tbody>\n",
       "</table>\n",
       "</div>"
      ],
      "text/plain": [
       "quarter             GroupId   MatNo       1        2       3        4  \\\n",
       "1993     ERW_BM2U2020110030  143576  5736.0      0.0     0.0      0.0   \n",
       "1828     ERW_BM2U2020110002  145570     0.0      0.0  3880.0  15600.0   \n",
       "2262     ERW_BM2U2020110062  145570     0.0      0.0  2480.0   7660.0   \n",
       "3390     ERW_C08P2020090073  135896     0.0  12042.0  7452.0      0.0   \n",
       "3647     ERW_C08P2020090135  140417   281.0      0.0     0.0      0.0   \n",
       "431      ERW_AMBP2020110050  143132     0.0   1840.0     0.0   5280.0   \n",
       "3040     ERW_BXG52021040275  140521     0.0      0.0  1952.0      0.0   \n",
       "2356     ERW_BM2U2020110077  145573     0.0  10968.0  9540.0      0.0   \n",
       "355      ERW_AMBP2020110030  140418  9296.0      0.0     0.0      0.0   \n",
       "3422     ERW_C08P2020090082  145577     0.0   1148.0  8092.0  13356.0   \n",
       "\n",
       "quarter  volume_diff Churn  \n",
       "1993               0    No  \n",
       "1828           11720    No  \n",
       "2262            5180    No  \n",
       "3390           -4590   Yes  \n",
       "3647               0    No  \n",
       "431                0    No  \n",
       "3040               0    No  \n",
       "2356           -1428   Yes  \n",
       "355                0    No  \n",
       "3422           12208    No  "
      ]
     },
     "execution_count": 102,
     "metadata": {},
     "output_type": "execute_result"
    }
   ],
   "source": [
    "churn_df = pd.pivot_table(data=volume_by_quarter, values='New_Volume(L)', \n",
    "               index=['GroupId', 'MatNo'], columns='quarter').reset_index()\n",
    "churn_df = churn_df.fillna(0)\n",
    "churn_df['volume_diff'] = 0\n",
    "\n",
    "# iterate over quarter for calculating volume trending\n",
    "for ind in churn_df.index:\n",
    "    result = 0\n",
    "    for quarter in [4, 3, 2]:\n",
    "        temp1 = churn_df.loc[ind, quarter]  # quarter หลัง \n",
    "        temp2 = churn_df.loc[ind, quarter-1]  # quarter ก่อน\n",
    "        if temp1 != 0 and temp2 != 0:\n",
    "            result += temp1 - temp2\n",
    "        else:\n",
    "            continue\n",
    "        \n",
    "        churn_df.loc[ind, 'volume_diff'] = result\n",
    "        \n",
    "# Churn or not\n",
    "churn_df['Churn'] = ' '\n",
    "for ind in churn_df.index:\n",
    "    if churn_df.loc[ind, 'volume_diff'] < 0:\n",
    "        churn_df.loc[ind, 'Churn'] = ' Yes'\n",
    "    else:\n",
    "        churn_df.loc[ind, 'Churn'] = 'No'\n",
    "\n",
    "churn_df.sample(10)"
   ]
  },
  {
   "cell_type": "code",
   "execution_count": 42,
   "metadata": {},
   "outputs": [],
   "source": [
    "if not os.path.exists(\"clean_data\"):\n",
    "    os.makedirs(\"clean_data\")\n",
    "    \n",
    "mrw.to_csv('clean_data/MRW_clean.csv', index=False)\n",
    "mer.to_csv('clean_data/MER_clean.csv', index=False)\n",
    "churn_df.to_csv('Machine_learning/churn.csv', index=False)"
   ]
  },
  {
   "cell_type": "code",
   "execution_count": null,
   "metadata": {},
   "outputs": [],
   "source": []
  }
 ],
 "metadata": {
  "kernelspec": {
   "display_name": "Python 3",
   "language": "python",
   "name": "python3"
  },
  "language_info": {
   "codemirror_mode": {
    "name": "ipython",
    "version": 3
   },
   "file_extension": ".py",
   "mimetype": "text/x-python",
   "name": "python",
   "nbconvert_exporter": "python",
   "pygments_lexer": "ipython3",
   "version": "3.11.5"
  }
 },
 "nbformat": 4,
 "nbformat_minor": 2
}
