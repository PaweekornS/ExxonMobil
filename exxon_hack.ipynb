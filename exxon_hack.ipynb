{
 "cells": [
  {
   "cell_type": "code",
   "execution_count": 135,
   "metadata": {},
   "outputs": [],
   "source": [
    "import pandas as pd\n",
    "import numpy as np\n",
    "import matplotlib.pyplot as plt\n",
    "import seaborn as sns"
   ]
  },
  {
   "cell_type": "markdown",
   "metadata": {},
   "source": [
    "## Overview\n",
    "1. MRW file"
   ]
  },
  {
   "cell_type": "code",
   "execution_count": 136,
   "metadata": {},
   "outputs": [],
   "source": [
    "xls = pd.ExcelFile('1. MRW PointTransaction 2023_Installed workshop_Final.xlsx')\n",
    "sheet1 = pd.read_excel(xls, 'Transaction')\n",
    "sheet2 = pd.read_excel(xls, 'SKU_point_Ltr')\n",
    "sheet3 = pd.read_excel(xls, 'Garange Profile')"
   ]
  },
  {
   "cell_type": "code",
   "execution_count": 137,
   "metadata": {},
   "outputs": [
    {
     "name": "stdout",
     "output_type": "stream",
     "text": [
      "(215656, 5)\n"
     ]
    },
    {
     "data": {
      "text/html": [
       "<div>\n",
       "<style scoped>\n",
       "    .dataframe tbody tr th:only-of-type {\n",
       "        vertical-align: middle;\n",
       "    }\n",
       "\n",
       "    .dataframe tbody tr th {\n",
       "        vertical-align: top;\n",
       "    }\n",
       "\n",
       "    .dataframe thead th {\n",
       "        text-align: right;\n",
       "    }\n",
       "</style>\n",
       "<table border=\"1\" class=\"dataframe\">\n",
       "  <thead>\n",
       "    <tr style=\"text-align: right;\">\n",
       "      <th></th>\n",
       "      <th>Distributor</th>\n",
       "      <th>ProductName</th>\n",
       "      <th>ProductSKU</th>\n",
       "      <th>ScanDate</th>\n",
       "      <th>UserId</th>\n",
       "    </tr>\n",
       "  </thead>\n",
       "  <tbody>\n",
       "    <tr>\n",
       "      <th>46726</th>\n",
       "      <td>C</td>\n",
       "      <td>Mobil Delvac Modern</td>\n",
       "      <td>Mobil Delvac Modern 7L</td>\n",
       "      <td>2023-02-20</td>\n",
       "      <td>EXL_1628765165488</td>\n",
       "    </tr>\n",
       "    <tr>\n",
       "      <th>135671</th>\n",
       "      <td>C</td>\n",
       "      <td>Mobil Super FF</td>\n",
       "      <td>Mobil Super FF 4L - 7L</td>\n",
       "      <td>2023-09-07</td>\n",
       "      <td>EXL_1571241113734</td>\n",
       "    </tr>\n",
       "    <tr>\n",
       "      <th>122179</th>\n",
       "      <td>C</td>\n",
       "      <td>Mobil Super FF</td>\n",
       "      <td>Mobil Super FF 4L - 7L</td>\n",
       "      <td>2023-11-02</td>\n",
       "      <td>EXL_1572003622513</td>\n",
       "    </tr>\n",
       "    <tr>\n",
       "      <th>10244</th>\n",
       "      <td>A</td>\n",
       "      <td>Mobil Delvac Legend</td>\n",
       "      <td>Mobil_Delvac_Legend_6L_-_7L</td>\n",
       "      <td>2023-12-21</td>\n",
       "      <td>EXL_1639990027222</td>\n",
       "    </tr>\n",
       "    <tr>\n",
       "      <th>73254</th>\n",
       "      <td>D</td>\n",
       "      <td>Mobil Super AIO</td>\n",
       "      <td>Charcoal - Large 4L - 5L</td>\n",
       "      <td>2023-12-27</td>\n",
       "      <td>EXL_1691757071956</td>\n",
       "    </tr>\n",
       "  </tbody>\n",
       "</table>\n",
       "</div>"
      ],
      "text/plain": [
       "       Distributor          ProductName                   ProductSKU  \\\n",
       "46726            C  Mobil Delvac Modern       Mobil Delvac Modern 7L   \n",
       "135671           C       Mobil Super FF       Mobil Super FF 4L - 7L   \n",
       "122179           C       Mobil Super FF       Mobil Super FF 4L - 7L   \n",
       "10244            A  Mobil Delvac Legend  Mobil_Delvac_Legend_6L_-_7L   \n",
       "73254            D      Mobil Super AIO     Charcoal - Large 4L - 5L   \n",
       "\n",
       "         ScanDate             UserId  \n",
       "46726  2023-02-20  EXL_1628765165488  \n",
       "135671 2023-09-07  EXL_1571241113734  \n",
       "122179 2023-11-02  EXL_1572003622513  \n",
       "10244  2023-12-21  EXL_1639990027222  \n",
       "73254  2023-12-27  EXL_1691757071956  "
      ]
     },
     "execution_count": 137,
     "metadata": {},
     "output_type": "execute_result"
    }
   ],
   "source": [
    "print(sheet1.shape)\n",
    "sheet1.sample(5)"
   ]
  },
  {
   "cell_type": "code",
   "execution_count": 138,
   "metadata": {},
   "outputs": [
    {
     "data": {
      "text/html": [
       "<div>\n",
       "<style scoped>\n",
       "    .dataframe tbody tr th:only-of-type {\n",
       "        vertical-align: middle;\n",
       "    }\n",
       "\n",
       "    .dataframe tbody tr th {\n",
       "        vertical-align: top;\n",
       "    }\n",
       "\n",
       "    .dataframe thead th {\n",
       "        text-align: right;\n",
       "    }\n",
       "</style>\n",
       "<table border=\"1\" class=\"dataframe\">\n",
       "  <thead>\n",
       "    <tr style=\"text-align: right;\">\n",
       "      <th></th>\n",
       "      <th>Distributor</th>\n",
       "      <th>ProductName</th>\n",
       "      <th>ProductSKU</th>\n",
       "      <th>ScanDate</th>\n",
       "      <th>UserId</th>\n",
       "      <th>count</th>\n",
       "    </tr>\n",
       "  </thead>\n",
       "  <tbody>\n",
       "    <tr>\n",
       "      <th>0</th>\n",
       "      <td>B</td>\n",
       "      <td>Mobil Super AIO - Charcoal</td>\n",
       "      <td>Mobil Super AIO - 7L</td>\n",
       "      <td>2023-11-29</td>\n",
       "      <td>EXL_1692444744991</td>\n",
       "      <td>32</td>\n",
       "    </tr>\n",
       "    <tr>\n",
       "      <th>1</th>\n",
       "      <td>B</td>\n",
       "      <td>Mobil Super AIO - Charcoal</td>\n",
       "      <td>Mobil Super AIO - 7L</td>\n",
       "      <td>2023-08-24</td>\n",
       "      <td>EXL_1692444744991</td>\n",
       "      <td>32</td>\n",
       "    </tr>\n",
       "    <tr>\n",
       "      <th>2</th>\n",
       "      <td>B</td>\n",
       "      <td>Mobil Super AIO - Charcoal</td>\n",
       "      <td>Mobil Super AIO - 7L</td>\n",
       "      <td>2023-08-22</td>\n",
       "      <td>EXL_1692444744991</td>\n",
       "      <td>32</td>\n",
       "    </tr>\n",
       "    <tr>\n",
       "      <th>3</th>\n",
       "      <td>B</td>\n",
       "      <td>Mobil Super AIO - Charcoal</td>\n",
       "      <td>Mobil Super AIO - 7L</td>\n",
       "      <td>2023-08-19</td>\n",
       "      <td>EXL_1692444744991</td>\n",
       "      <td>32</td>\n",
       "    </tr>\n",
       "    <tr>\n",
       "      <th>4</th>\n",
       "      <td>A</td>\n",
       "      <td>Mobil Super FF</td>\n",
       "      <td>Mobil Super FF 4L - 7L</td>\n",
       "      <td>2023-11-24</td>\n",
       "      <td>EXL_1652546700176</td>\n",
       "      <td>39</td>\n",
       "    </tr>\n",
       "  </tbody>\n",
       "</table>\n",
       "</div>"
      ],
      "text/plain": [
       "  Distributor                 ProductName              ProductSKU   ScanDate  \\\n",
       "0           B  Mobil Super AIO - Charcoal    Mobil Super AIO - 7L 2023-11-29   \n",
       "1           B  Mobil Super AIO - Charcoal    Mobil Super AIO - 7L 2023-08-24   \n",
       "2           B  Mobil Super AIO - Charcoal    Mobil Super AIO - 7L 2023-08-22   \n",
       "3           B  Mobil Super AIO - Charcoal    Mobil Super AIO - 7L 2023-08-19   \n",
       "4           A              Mobil Super FF  Mobil Super FF 4L - 7L 2023-11-24   \n",
       "\n",
       "              UserId  count  \n",
       "0  EXL_1692444744991     32  \n",
       "1  EXL_1692444744991     32  \n",
       "2  EXL_1692444744991     32  \n",
       "3  EXL_1692444744991     32  \n",
       "4  EXL_1652546700176     39  "
      ]
     },
     "execution_count": 138,
     "metadata": {},
     "output_type": "execute_result"
    }
   ],
   "source": [
    "count_per_garange = sheet1.groupby('UserId').agg({'ScanDate': 'count'}).rename(columns={'ScanDate': 'count'})\n",
    "sheet1_clean = pd.merge(sheet1.drop_duplicates(), count_per_garange, on='UserId', how='left')\n",
    "sheet1_clean.head()"
   ]
  },
  {
   "cell_type": "code",
   "execution_count": 139,
   "metadata": {},
   "outputs": [
    {
     "name": "stdout",
     "output_type": "stream",
     "text": [
      "(10, 3)\n"
     ]
    },
    {
     "data": {
      "text/html": [
       "<div>\n",
       "<style scoped>\n",
       "    .dataframe tbody tr th:only-of-type {\n",
       "        vertical-align: middle;\n",
       "    }\n",
       "\n",
       "    .dataframe tbody tr th {\n",
       "        vertical-align: top;\n",
       "    }\n",
       "\n",
       "    .dataframe thead th {\n",
       "        text-align: right;\n",
       "    }\n",
       "</style>\n",
       "<table border=\"1\" class=\"dataframe\">\n",
       "  <thead>\n",
       "    <tr style=\"text-align: right;\">\n",
       "      <th></th>\n",
       "      <th>ProductSKU</th>\n",
       "      <th>Points</th>\n",
       "      <th>Volume (L)</th>\n",
       "    </tr>\n",
       "  </thead>\n",
       "  <tbody>\n",
       "    <tr>\n",
       "      <th>0</th>\n",
       "      <td>Mobil 1 Gold 4L - 6L</td>\n",
       "      <td>60</td>\n",
       "      <td>6</td>\n",
       "    </tr>\n",
       "    <tr>\n",
       "      <th>1</th>\n",
       "      <td>Silver - Large 4L</td>\n",
       "      <td>50</td>\n",
       "      <td>4</td>\n",
       "    </tr>\n",
       "    <tr>\n",
       "      <th>2</th>\n",
       "      <td>Gold - Large 4L</td>\n",
       "      <td>50</td>\n",
       "      <td>4</td>\n",
       "    </tr>\n",
       "    <tr>\n",
       "      <th>3</th>\n",
       "      <td>Mobil Super AIO - 7L</td>\n",
       "      <td>45</td>\n",
       "      <td>7</td>\n",
       "    </tr>\n",
       "    <tr>\n",
       "      <th>4</th>\n",
       "      <td>Mobil Super AIO 3L - 6L</td>\n",
       "      <td>40</td>\n",
       "      <td>5</td>\n",
       "    </tr>\n",
       "  </tbody>\n",
       "</table>\n",
       "</div>"
      ],
      "text/plain": [
       "                ProductSKU  Points  Volume (L)\n",
       "0     Mobil 1 Gold 4L - 6L      60           6\n",
       "1        Silver - Large 4L      50           4\n",
       "2          Gold - Large 4L      50           4\n",
       "3     Mobil Super AIO - 7L      45           7\n",
       "4  Mobil Super AIO 3L - 6L      40           5"
      ]
     },
     "execution_count": 139,
     "metadata": {},
     "output_type": "execute_result"
    }
   ],
   "source": [
    "print(sheet2.shape)\n",
    "sheet2.head()"
   ]
  },
  {
   "cell_type": "code",
   "execution_count": 140,
   "metadata": {},
   "outputs": [
    {
     "name": "stdout",
     "output_type": "stream",
     "text": [
      "(4006, 5)\n"
     ]
    },
    {
     "data": {
      "text/html": [
       "<div>\n",
       "<style scoped>\n",
       "    .dataframe tbody tr th:only-of-type {\n",
       "        vertical-align: middle;\n",
       "    }\n",
       "\n",
       "    .dataframe tbody tr th {\n",
       "        vertical-align: top;\n",
       "    }\n",
       "\n",
       "    .dataframe thead th {\n",
       "        text-align: right;\n",
       "    }\n",
       "</style>\n",
       "<table border=\"1\" class=\"dataframe\">\n",
       "  <thead>\n",
       "    <tr style=\"text-align: right;\">\n",
       "      <th></th>\n",
       "      <th>OwnerId</th>\n",
       "      <th>Postcode</th>\n",
       "      <th>Province</th>\n",
       "      <th>District</th>\n",
       "      <th>Distributor</th>\n",
       "    </tr>\n",
       "  </thead>\n",
       "  <tbody>\n",
       "    <tr>\n",
       "      <th>0</th>\n",
       "      <td>EXL_1692444744991</td>\n",
       "      <td>72000.0</td>\n",
       "      <td>สุพรรณบุรี</td>\n",
       "      <td>เขตศรีประจันต์</td>\n",
       "      <td>B</td>\n",
       "    </tr>\n",
       "    <tr>\n",
       "      <th>1</th>\n",
       "      <td>EXL_1651745414431</td>\n",
       "      <td>57120.0</td>\n",
       "      <td>เชียงราย</td>\n",
       "      <td>เขตพาน</td>\n",
       "      <td>C</td>\n",
       "    </tr>\n",
       "    <tr>\n",
       "      <th>2</th>\n",
       "      <td>EXL_1574261647294</td>\n",
       "      <td>10530.0</td>\n",
       "      <td>กรุงเทพมหานคร</td>\n",
       "      <td>เขตหนองจอก</td>\n",
       "      <td>A</td>\n",
       "    </tr>\n",
       "    <tr>\n",
       "      <th>3</th>\n",
       "      <td>EXL_1573728830730</td>\n",
       "      <td>10270.0</td>\n",
       "      <td>สมุทรปราการ</td>\n",
       "      <td>เขตเมืองสมุทรปราการ</td>\n",
       "      <td>A</td>\n",
       "    </tr>\n",
       "    <tr>\n",
       "      <th>4</th>\n",
       "      <td>EXL_1594802722891</td>\n",
       "      <td>30000.0</td>\n",
       "      <td>นครราชสีมา</td>\n",
       "      <td>เขตเมืองนครราชสีมา</td>\n",
       "      <td>A</td>\n",
       "    </tr>\n",
       "  </tbody>\n",
       "</table>\n",
       "</div>"
      ],
      "text/plain": [
       "             OwnerId  Postcode       Province            District  Distributor\n",
       "0  EXL_1692444744991   72000.0     สุพรรณบุรี       เขตศรีประจันต์           B\n",
       "1  EXL_1651745414431   57120.0       เชียงราย               เขตพาน           C\n",
       "2  EXL_1574261647294   10530.0  กรุงเทพมหานคร           เขตหนองจอก           A\n",
       "3  EXL_1573728830730   10270.0    สมุทรปราการ  เขตเมืองสมุทรปราการ           A\n",
       "4  EXL_1594802722891   30000.0     นครราชสีมา   เขตเมืองนครราชสีมา           A"
      ]
     },
     "execution_count": 140,
     "metadata": {},
     "output_type": "execute_result"
    }
   ],
   "source": [
    "print(sheet3.shape)\n",
    "sheet3.head()"
   ]
  },
  {
   "cell_type": "code",
   "execution_count": 141,
   "metadata": {},
   "outputs": [
    {
     "data": {
      "text/html": [
       "<div>\n",
       "<style scoped>\n",
       "    .dataframe tbody tr th:only-of-type {\n",
       "        vertical-align: middle;\n",
       "    }\n",
       "\n",
       "    .dataframe tbody tr th {\n",
       "        vertical-align: top;\n",
       "    }\n",
       "\n",
       "    .dataframe thead th {\n",
       "        text-align: right;\n",
       "    }\n",
       "</style>\n",
       "<table border=\"1\" class=\"dataframe\">\n",
       "  <thead>\n",
       "    <tr style=\"text-align: right;\">\n",
       "      <th></th>\n",
       "      <th>Distributor</th>\n",
       "      <th>ProductName</th>\n",
       "      <th>ProductSKU</th>\n",
       "      <th>ScanDate</th>\n",
       "      <th>UserId</th>\n",
       "      <th>count</th>\n",
       "      <th>Points</th>\n",
       "      <th>Volume (L)</th>\n",
       "    </tr>\n",
       "  </thead>\n",
       "  <tbody>\n",
       "    <tr>\n",
       "      <th>0</th>\n",
       "      <td>B</td>\n",
       "      <td>Mobil Super AIO - Charcoal</td>\n",
       "      <td>Mobil Super AIO - 7L</td>\n",
       "      <td>2023-11-29</td>\n",
       "      <td>EXL_1692444744991</td>\n",
       "      <td>32</td>\n",
       "      <td>45</td>\n",
       "      <td>7</td>\n",
       "    </tr>\n",
       "    <tr>\n",
       "      <th>1</th>\n",
       "      <td>B</td>\n",
       "      <td>Mobil Super AIO - Charcoal</td>\n",
       "      <td>Mobil Super AIO - 7L</td>\n",
       "      <td>2023-08-24</td>\n",
       "      <td>EXL_1692444744991</td>\n",
       "      <td>32</td>\n",
       "      <td>45</td>\n",
       "      <td>7</td>\n",
       "    </tr>\n",
       "    <tr>\n",
       "      <th>2</th>\n",
       "      <td>B</td>\n",
       "      <td>Mobil Super AIO - Charcoal</td>\n",
       "      <td>Mobil Super AIO - 7L</td>\n",
       "      <td>2023-08-22</td>\n",
       "      <td>EXL_1692444744991</td>\n",
       "      <td>32</td>\n",
       "      <td>45</td>\n",
       "      <td>7</td>\n",
       "    </tr>\n",
       "    <tr>\n",
       "      <th>3</th>\n",
       "      <td>B</td>\n",
       "      <td>Mobil Super AIO - Charcoal</td>\n",
       "      <td>Mobil Super AIO - 7L</td>\n",
       "      <td>2023-08-19</td>\n",
       "      <td>EXL_1692444744991</td>\n",
       "      <td>32</td>\n",
       "      <td>45</td>\n",
       "      <td>7</td>\n",
       "    </tr>\n",
       "    <tr>\n",
       "      <th>4</th>\n",
       "      <td>A</td>\n",
       "      <td>Mobil Super FF</td>\n",
       "      <td>Mobil Super FF 4L - 7L</td>\n",
       "      <td>2023-11-24</td>\n",
       "      <td>EXL_1652546700176</td>\n",
       "      <td>39</td>\n",
       "      <td>35</td>\n",
       "      <td>6</td>\n",
       "    </tr>\n",
       "  </tbody>\n",
       "</table>\n",
       "</div>"
      ],
      "text/plain": [
       "  Distributor                 ProductName              ProductSKU   ScanDate  \\\n",
       "0           B  Mobil Super AIO - Charcoal    Mobil Super AIO - 7L 2023-11-29   \n",
       "1           B  Mobil Super AIO - Charcoal    Mobil Super AIO - 7L 2023-08-24   \n",
       "2           B  Mobil Super AIO - Charcoal    Mobil Super AIO - 7L 2023-08-22   \n",
       "3           B  Mobil Super AIO - Charcoal    Mobil Super AIO - 7L 2023-08-19   \n",
       "4           A              Mobil Super FF  Mobil Super FF 4L - 7L 2023-11-24   \n",
       "\n",
       "              UserId  count  Points  Volume (L)  \n",
       "0  EXL_1692444744991     32      45           7  \n",
       "1  EXL_1692444744991     32      45           7  \n",
       "2  EXL_1692444744991     32      45           7  \n",
       "3  EXL_1692444744991     32      45           7  \n",
       "4  EXL_1652546700176     39      35           6  "
      ]
     },
     "execution_count": 141,
     "metadata": {},
     "output_type": "execute_result"
    }
   ],
   "source": [
    "merge_1 = pd.merge(sheet1_clean, sheet2, on='ProductSKU', how='left')\n",
    "merge_1.head()"
   ]
  },
  {
   "cell_type": "code",
   "execution_count": 142,
   "metadata": {},
   "outputs": [
    {
     "name": "stdout",
     "output_type": "stream",
     "text": [
      "(36015, 12)\n"
     ]
    },
    {
     "data": {
      "text/html": [
       "<div>\n",
       "<style scoped>\n",
       "    .dataframe tbody tr th:only-of-type {\n",
       "        vertical-align: middle;\n",
       "    }\n",
       "\n",
       "    .dataframe tbody tr th {\n",
       "        vertical-align: top;\n",
       "    }\n",
       "\n",
       "    .dataframe thead th {\n",
       "        text-align: right;\n",
       "    }\n",
       "</style>\n",
       "<table border=\"1\" class=\"dataframe\">\n",
       "  <thead>\n",
       "    <tr style=\"text-align: right;\">\n",
       "      <th></th>\n",
       "      <th>Distributor</th>\n",
       "      <th>ProductName</th>\n",
       "      <th>ProductSKU</th>\n",
       "      <th>ScanDate</th>\n",
       "      <th>UserId</th>\n",
       "      <th>count</th>\n",
       "      <th>Points</th>\n",
       "      <th>Volume (L)</th>\n",
       "      <th>OwnerId</th>\n",
       "      <th>Postcode</th>\n",
       "      <th>Province</th>\n",
       "      <th>District</th>\n",
       "    </tr>\n",
       "  </thead>\n",
       "  <tbody>\n",
       "    <tr>\n",
       "      <th>0</th>\n",
       "      <td>B</td>\n",
       "      <td>Mobil Super AIO - Charcoal</td>\n",
       "      <td>Mobil Super AIO - 7L</td>\n",
       "      <td>2023-11-29</td>\n",
       "      <td>EXL_1692444744991</td>\n",
       "      <td>32</td>\n",
       "      <td>45</td>\n",
       "      <td>7</td>\n",
       "      <td>EXL_1692444744991</td>\n",
       "      <td>72000.0</td>\n",
       "      <td>สุพรรณบุรี</td>\n",
       "      <td>เขตศรีประจันต์</td>\n",
       "    </tr>\n",
       "    <tr>\n",
       "      <th>1</th>\n",
       "      <td>B</td>\n",
       "      <td>Mobil Super AIO - Charcoal</td>\n",
       "      <td>Mobil Super AIO - 7L</td>\n",
       "      <td>2023-08-24</td>\n",
       "      <td>EXL_1692444744991</td>\n",
       "      <td>32</td>\n",
       "      <td>45</td>\n",
       "      <td>7</td>\n",
       "      <td>EXL_1692444744991</td>\n",
       "      <td>72000.0</td>\n",
       "      <td>สุพรรณบุรี</td>\n",
       "      <td>เขตศรีประจันต์</td>\n",
       "    </tr>\n",
       "    <tr>\n",
       "      <th>2</th>\n",
       "      <td>B</td>\n",
       "      <td>Mobil Super AIO - Charcoal</td>\n",
       "      <td>Mobil Super AIO - 7L</td>\n",
       "      <td>2023-08-22</td>\n",
       "      <td>EXL_1692444744991</td>\n",
       "      <td>32</td>\n",
       "      <td>45</td>\n",
       "      <td>7</td>\n",
       "      <td>EXL_1692444744991</td>\n",
       "      <td>72000.0</td>\n",
       "      <td>สุพรรณบุรี</td>\n",
       "      <td>เขตศรีประจันต์</td>\n",
       "    </tr>\n",
       "    <tr>\n",
       "      <th>3</th>\n",
       "      <td>B</td>\n",
       "      <td>Mobil Super AIO - Charcoal</td>\n",
       "      <td>Mobil Super AIO - 7L</td>\n",
       "      <td>2023-08-19</td>\n",
       "      <td>EXL_1692444744991</td>\n",
       "      <td>32</td>\n",
       "      <td>45</td>\n",
       "      <td>7</td>\n",
       "      <td>EXL_1692444744991</td>\n",
       "      <td>72000.0</td>\n",
       "      <td>สุพรรณบุรี</td>\n",
       "      <td>เขตศรีประจันต์</td>\n",
       "    </tr>\n",
       "    <tr>\n",
       "      <th>4</th>\n",
       "      <td>A</td>\n",
       "      <td>Mobil Super FF</td>\n",
       "      <td>Mobil Super FF 4L - 7L</td>\n",
       "      <td>2023-11-24</td>\n",
       "      <td>EXL_1652546700176</td>\n",
       "      <td>39</td>\n",
       "      <td>35</td>\n",
       "      <td>6</td>\n",
       "      <td>NaN</td>\n",
       "      <td>NaN</td>\n",
       "      <td>NaN</td>\n",
       "      <td>NaN</td>\n",
       "    </tr>\n",
       "  </tbody>\n",
       "</table>\n",
       "</div>"
      ],
      "text/plain": [
       "  Distributor                 ProductName              ProductSKU   ScanDate  \\\n",
       "0           B  Mobil Super AIO - Charcoal    Mobil Super AIO - 7L 2023-11-29   \n",
       "1           B  Mobil Super AIO - Charcoal    Mobil Super AIO - 7L 2023-08-24   \n",
       "2           B  Mobil Super AIO - Charcoal    Mobil Super AIO - 7L 2023-08-22   \n",
       "3           B  Mobil Super AIO - Charcoal    Mobil Super AIO - 7L 2023-08-19   \n",
       "4           A              Mobil Super FF  Mobil Super FF 4L - 7L 2023-11-24   \n",
       "\n",
       "              UserId  count  Points  Volume (L)            OwnerId  Postcode  \\\n",
       "0  EXL_1692444744991     32      45           7  EXL_1692444744991   72000.0   \n",
       "1  EXL_1692444744991     32      45           7  EXL_1692444744991   72000.0   \n",
       "2  EXL_1692444744991     32      45           7  EXL_1692444744991   72000.0   \n",
       "3  EXL_1692444744991     32      45           7  EXL_1692444744991   72000.0   \n",
       "4  EXL_1652546700176     39      35           6                NaN       NaN   \n",
       "\n",
       "     Province       District   \n",
       "0  สุพรรณบุรี  เขตศรีประจันต์  \n",
       "1  สุพรรณบุรี  เขตศรีประจันต์  \n",
       "2  สุพรรณบุรี  เขตศรีประจันต์  \n",
       "3  สุพรรณบุรี  เขตศรีประจันต์  \n",
       "4         NaN             NaN  "
      ]
     },
     "execution_count": 142,
     "metadata": {},
     "output_type": "execute_result"
    }
   ],
   "source": [
    "mrw = pd.merge(merge_1, sheet3, left_on=['UserId', 'Distributor'], right_on=['OwnerId', 'Distributor'], how='left')\n",
    "mrw = mrw.drop_duplicates()\n",
    "print(mrw.shape)\n",
    "mrw.head()"
   ]
  },
  {
   "cell_type": "markdown",
   "metadata": {},
   "source": [
    "Handle null/ missing values"
   ]
  },
  {
   "cell_type": "code",
   "execution_count": 143,
   "metadata": {},
   "outputs": [
    {
     "data": {
      "text/plain": [
       "Distributor       0\n",
       "ProductName       0\n",
       "ProductSKU        0\n",
       "ScanDate          0\n",
       "UserId            0\n",
       "count             0\n",
       "Points            0\n",
       "Volume (L)        0\n",
       "OwnerId        3649\n",
       "Postcode       4451\n",
       "Province       3649\n",
       "District       3649\n",
       "dtype: int64"
      ]
     },
     "execution_count": 143,
     "metadata": {},
     "output_type": "execute_result"
    }
   ],
   "source": [
    "mrw.isnull().sum()"
   ]
  },
  {
   "cell_type": "code",
   "execution_count": 144,
   "metadata": {},
   "outputs": [
    {
     "name": "stdout",
     "output_type": "stream",
     "text": [
      "OwnerId: 3649\n",
      "Postcode: 4451\n",
      "Province: 3649\n",
      "District: 3649\n"
     ]
    }
   ],
   "source": [
    "mrw = mrw.rename(columns={'District ': 'District'})\n",
    "\n",
    "for label in ['OwnerId', 'Postcode', 'Province', 'District']:\n",
    "    print(f\"{label}: { len(mrw[ mrw[label].isnull() ]) }\")"
   ]
  },
  {
   "cell_type": "code",
   "execution_count": 145,
   "metadata": {},
   "outputs": [
    {
     "data": {
      "text/plain": [
       "3649"
      ]
     },
     "execution_count": 145,
     "metadata": {},
     "output_type": "execute_result"
    }
   ],
   "source": [
    "len(mrw[ mrw['Province'].isnull() ])"
   ]
  },
  {
   "cell_type": "code",
   "execution_count": 146,
   "metadata": {},
   "outputs": [],
   "source": [
    "mrw.dropna(how='any', inplace=True)"
   ]
  },
  {
   "cell_type": "markdown",
   "metadata": {},
   "source": [
    "Find Distributor per Province and region"
   ]
  },
  {
   "cell_type": "code",
   "execution_count": 147,
   "metadata": {},
   "outputs": [
    {
     "data": {
      "text/html": [
       "<div>\n",
       "<style scoped>\n",
       "    .dataframe tbody tr th:only-of-type {\n",
       "        vertical-align: middle;\n",
       "    }\n",
       "\n",
       "    .dataframe tbody tr th {\n",
       "        vertical-align: top;\n",
       "    }\n",
       "\n",
       "    .dataframe thead th {\n",
       "        text-align: right;\n",
       "    }\n",
       "</style>\n",
       "<table border=\"1\" class=\"dataframe\">\n",
       "  <thead>\n",
       "    <tr style=\"text-align: right;\">\n",
       "      <th></th>\n",
       "      <th></th>\n",
       "      <th>OwnerId</th>\n",
       "    </tr>\n",
       "    <tr>\n",
       "      <th>Distributor</th>\n",
       "      <th>Province</th>\n",
       "      <th></th>\n",
       "    </tr>\n",
       "  </thead>\n",
       "  <tbody>\n",
       "    <tr>\n",
       "      <th rowspan=\"2\" valign=\"top\">D</th>\n",
       "      <th>นราธิวาส</th>\n",
       "      <td>31</td>\n",
       "    </tr>\n",
       "    <tr>\n",
       "      <th>ภูเก็ต</th>\n",
       "      <td>1</td>\n",
       "    </tr>\n",
       "    <tr>\n",
       "      <th>C</th>\n",
       "      <th>น่าน</th>\n",
       "      <td>334</td>\n",
       "    </tr>\n",
       "    <tr>\n",
       "      <th>A</th>\n",
       "      <th>บึงกาฬ</th>\n",
       "      <td>1</td>\n",
       "    </tr>\n",
       "    <tr>\n",
       "      <th>C</th>\n",
       "      <th>ตาก</th>\n",
       "      <td>157</td>\n",
       "    </tr>\n",
       "    <tr>\n",
       "      <th>A</th>\n",
       "      <th>ชัยนาท</th>\n",
       "      <td>222</td>\n",
       "    </tr>\n",
       "    <tr>\n",
       "      <th>B</th>\n",
       "      <th>สมุทรสงคราม</th>\n",
       "      <td>224</td>\n",
       "    </tr>\n",
       "    <tr>\n",
       "      <th>C</th>\n",
       "      <th>พิษณุโลก</th>\n",
       "      <td>421</td>\n",
       "    </tr>\n",
       "    <tr>\n",
       "      <th rowspan=\"2\" valign=\"top\">A</th>\n",
       "      <th>ฉะเชิงเทรา</th>\n",
       "      <td>288</td>\n",
       "    </tr>\n",
       "    <tr>\n",
       "      <th>สมุทรปราการ</th>\n",
       "      <td>736</td>\n",
       "    </tr>\n",
       "  </tbody>\n",
       "</table>\n",
       "</div>"
      ],
      "text/plain": [
       "                         OwnerId\n",
       "Distributor Province            \n",
       "D           นราธิวาส          31\n",
       "            ภูเก็ต             1\n",
       "C           น่าน             334\n",
       "A           บึงกาฬ             1\n",
       "C           ตาก              157\n",
       "A           ชัยนาท           222\n",
       "B           สมุทรสงคราม      224\n",
       "C           พิษณุโลก         421\n",
       "A           ฉะเชิงเทรา       288\n",
       "            สมุทรปราการ      736"
      ]
     },
     "execution_count": 147,
     "metadata": {},
     "output_type": "execute_result"
    }
   ],
   "source": [
    "mrw.groupby(['Distributor', 'Province']).agg({'OwnerId': 'count'}).sample(10)"
   ]
  },
  {
   "cell_type": "markdown",
   "metadata": {},
   "source": [
    "2. MER file"
   ]
  },
  {
   "cell_type": "code",
   "execution_count": 148,
   "metadata": {},
   "outputs": [],
   "source": [
    "mer = pd.ExcelFile('2. MER PointTransaction 2023_RetailsResellers_Final.xlsx')\n",
    "mer_sheet1 = pd.read_excel(mer, 'MER Transaction')\n",
    "mer_sheet2 = pd.read_excel(mer, 'Point Per Litre')"
   ]
  },
  {
   "cell_type": "code",
   "execution_count": 149,
   "metadata": {},
   "outputs": [
    {
     "name": "stdout",
     "output_type": "stream",
     "text": [
      "(9429, 8)\n"
     ]
    },
    {
     "data": {
      "text/html": [
       "<div>\n",
       "<style scoped>\n",
       "    .dataframe tbody tr th:only-of-type {\n",
       "        vertical-align: middle;\n",
       "    }\n",
       "\n",
       "    .dataframe tbody tr th {\n",
       "        vertical-align: top;\n",
       "    }\n",
       "\n",
       "    .dataframe thead th {\n",
       "        text-align: right;\n",
       "    }\n",
       "</style>\n",
       "<table border=\"1\" class=\"dataframe\">\n",
       "  <thead>\n",
       "    <tr style=\"text-align: right;\">\n",
       "      <th></th>\n",
       "      <th>Invoicedate</th>\n",
       "      <th>Distributor</th>\n",
       "      <th>GroupId</th>\n",
       "      <th>Type</th>\n",
       "      <th>Provincename</th>\n",
       "      <th>MatNo</th>\n",
       "      <th>Material Name</th>\n",
       "      <th>New_Volume(L)</th>\n",
       "    </tr>\n",
       "  </thead>\n",
       "  <tbody>\n",
       "    <tr>\n",
       "      <th>0</th>\n",
       "      <td>2023-02-14</td>\n",
       "      <td>A</td>\n",
       "      <td>ERW_AI8N2021070006</td>\n",
       "      <td>Retails</td>\n",
       "      <td>Pathum Thani</td>\n",
       "      <td>123150</td>\n",
       "      <td>MOBIL MULTIPURPOSE ATF, 208LT DR</td>\n",
       "      <td>7168</td>\n",
       "    </tr>\n",
       "    <tr>\n",
       "      <th>1</th>\n",
       "      <td>2023-04-20</td>\n",
       "      <td>D</td>\n",
       "      <td>ERW_DBG72020110082</td>\n",
       "      <td>Reseller</td>\n",
       "      <td>Songkhla</td>\n",
       "      <td>124213</td>\n",
       "      <td>MOBIL ATF 220  D 208LT</td>\n",
       "      <td>912</td>\n",
       "    </tr>\n",
       "    <tr>\n",
       "      <th>2</th>\n",
       "      <td>2023-10-19</td>\n",
       "      <td>D</td>\n",
       "      <td>ERW_DBG72020110082</td>\n",
       "      <td>Reseller</td>\n",
       "      <td>Songkhla</td>\n",
       "      <td>124216</td>\n",
       "      <td>MOBIL ATF 220 P1/20LT</td>\n",
       "      <td>7340</td>\n",
       "    </tr>\n",
       "    <tr>\n",
       "      <th>3</th>\n",
       "      <td>2023-07-25</td>\n",
       "      <td>D</td>\n",
       "      <td>ERW_DBG72020110082</td>\n",
       "      <td>Reseller</td>\n",
       "      <td>Songkhla</td>\n",
       "      <td>124216</td>\n",
       "      <td>MOBIL ATF 220 P1/20LT</td>\n",
       "      <td>1640</td>\n",
       "    </tr>\n",
       "    <tr>\n",
       "      <th>4</th>\n",
       "      <td>2023-10-12</td>\n",
       "      <td>D</td>\n",
       "      <td>ERW_DBG72020110082</td>\n",
       "      <td>Reseller</td>\n",
       "      <td>Songkhla</td>\n",
       "      <td>124216</td>\n",
       "      <td>MOBIL ATF 220 P1/20LT</td>\n",
       "      <td>7080</td>\n",
       "    </tr>\n",
       "  </tbody>\n",
       "</table>\n",
       "</div>"
      ],
      "text/plain": [
       "  Invoicedate Distributor             GroupId      Type  Provincename   MatNo  \\\n",
       "0  2023-02-14           A  ERW_AI8N2021070006   Retails  Pathum Thani  123150   \n",
       "1  2023-04-20           D  ERW_DBG72020110082  Reseller      Songkhla  124213   \n",
       "2  2023-10-19           D  ERW_DBG72020110082  Reseller      Songkhla  124216   \n",
       "3  2023-07-25           D  ERW_DBG72020110082  Reseller      Songkhla  124216   \n",
       "4  2023-10-12           D  ERW_DBG72020110082  Reseller      Songkhla  124216   \n",
       "\n",
       "                      Material Name  New_Volume(L)  \n",
       "0  MOBIL MULTIPURPOSE ATF, 208LT DR           7168  \n",
       "1            MOBIL ATF 220  D 208LT            912  \n",
       "2             MOBIL ATF 220 P1/20LT           7340  \n",
       "3             MOBIL ATF 220 P1/20LT           1640  \n",
       "4             MOBIL ATF 220 P1/20LT           7080  "
      ]
     },
     "execution_count": 149,
     "metadata": {},
     "output_type": "execute_result"
    }
   ],
   "source": [
    "print(mer_sheet1.shape)\n",
    "mer_sheet1.head()"
   ]
  },
  {
   "cell_type": "code",
   "execution_count": 150,
   "metadata": {},
   "outputs": [
    {
     "name": "stdout",
     "output_type": "stream",
     "text": [
      "(145, 2)\n"
     ]
    },
    {
     "data": {
      "text/html": [
       "<div>\n",
       "<style scoped>\n",
       "    .dataframe tbody tr th:only-of-type {\n",
       "        vertical-align: middle;\n",
       "    }\n",
       "\n",
       "    .dataframe tbody tr th {\n",
       "        vertical-align: top;\n",
       "    }\n",
       "\n",
       "    .dataframe thead th {\n",
       "        text-align: right;\n",
       "    }\n",
       "</style>\n",
       "<table border=\"1\" class=\"dataframe\">\n",
       "  <thead>\n",
       "    <tr style=\"text-align: right;\">\n",
       "      <th></th>\n",
       "      <th>MatNo</th>\n",
       "      <th>Points</th>\n",
       "    </tr>\n",
       "  </thead>\n",
       "  <tbody>\n",
       "    <tr>\n",
       "      <th>0</th>\n",
       "      <td>144673</td>\n",
       "      <td>10</td>\n",
       "    </tr>\n",
       "    <tr>\n",
       "      <th>1</th>\n",
       "      <td>140521</td>\n",
       "      <td>10</td>\n",
       "    </tr>\n",
       "    <tr>\n",
       "      <th>2</th>\n",
       "      <td>144473</td>\n",
       "      <td>10</td>\n",
       "    </tr>\n",
       "    <tr>\n",
       "      <th>3</th>\n",
       "      <td>145832</td>\n",
       "      <td>10</td>\n",
       "    </tr>\n",
       "    <tr>\n",
       "      <th>4</th>\n",
       "      <td>140418</td>\n",
       "      <td>10</td>\n",
       "    </tr>\n",
       "  </tbody>\n",
       "</table>\n",
       "</div>"
      ],
      "text/plain": [
       "    MatNo  Points\n",
       "0  144673      10\n",
       "1  140521      10\n",
       "2  144473      10\n",
       "3  145832      10\n",
       "4  140418      10"
      ]
     },
     "execution_count": 150,
     "metadata": {},
     "output_type": "execute_result"
    }
   ],
   "source": [
    "print(mer_sheet2.shape)\n",
    "mer_sheet2.head()"
   ]
  },
  {
   "cell_type": "code",
   "execution_count": 151,
   "metadata": {},
   "outputs": [
    {
     "name": "stdout",
     "output_type": "stream",
     "text": [
      "(9429, 9)\n"
     ]
    },
    {
     "data": {
      "text/html": [
       "<div>\n",
       "<style scoped>\n",
       "    .dataframe tbody tr th:only-of-type {\n",
       "        vertical-align: middle;\n",
       "    }\n",
       "\n",
       "    .dataframe tbody tr th {\n",
       "        vertical-align: top;\n",
       "    }\n",
       "\n",
       "    .dataframe thead th {\n",
       "        text-align: right;\n",
       "    }\n",
       "</style>\n",
       "<table border=\"1\" class=\"dataframe\">\n",
       "  <thead>\n",
       "    <tr style=\"text-align: right;\">\n",
       "      <th></th>\n",
       "      <th>Invoicedate</th>\n",
       "      <th>Distributor</th>\n",
       "      <th>GroupId</th>\n",
       "      <th>Type</th>\n",
       "      <th>Provincename</th>\n",
       "      <th>MatNo</th>\n",
       "      <th>Material Name</th>\n",
       "      <th>New_Volume(L)</th>\n",
       "      <th>Points</th>\n",
       "    </tr>\n",
       "  </thead>\n",
       "  <tbody>\n",
       "    <tr>\n",
       "      <th>0</th>\n",
       "      <td>2023-02-14</td>\n",
       "      <td>A</td>\n",
       "      <td>ERW_AI8N2021070006</td>\n",
       "      <td>Retails</td>\n",
       "      <td>Pathum Thani</td>\n",
       "      <td>123150</td>\n",
       "      <td>MOBIL MULTIPURPOSE ATF, 208LT DR</td>\n",
       "      <td>7168</td>\n",
       "      <td>1</td>\n",
       "    </tr>\n",
       "    <tr>\n",
       "      <th>1</th>\n",
       "      <td>2023-04-20</td>\n",
       "      <td>D</td>\n",
       "      <td>ERW_DBG72020110082</td>\n",
       "      <td>Reseller</td>\n",
       "      <td>Songkhla</td>\n",
       "      <td>124213</td>\n",
       "      <td>MOBIL ATF 220  D 208LT</td>\n",
       "      <td>912</td>\n",
       "      <td>1</td>\n",
       "    </tr>\n",
       "    <tr>\n",
       "      <th>2</th>\n",
       "      <td>2023-10-19</td>\n",
       "      <td>D</td>\n",
       "      <td>ERW_DBG72020110082</td>\n",
       "      <td>Reseller</td>\n",
       "      <td>Songkhla</td>\n",
       "      <td>124216</td>\n",
       "      <td>MOBIL ATF 220 P1/20LT</td>\n",
       "      <td>7340</td>\n",
       "      <td>1</td>\n",
       "    </tr>\n",
       "    <tr>\n",
       "      <th>3</th>\n",
       "      <td>2023-07-25</td>\n",
       "      <td>D</td>\n",
       "      <td>ERW_DBG72020110082</td>\n",
       "      <td>Reseller</td>\n",
       "      <td>Songkhla</td>\n",
       "      <td>124216</td>\n",
       "      <td>MOBIL ATF 220 P1/20LT</td>\n",
       "      <td>1640</td>\n",
       "      <td>1</td>\n",
       "    </tr>\n",
       "    <tr>\n",
       "      <th>4</th>\n",
       "      <td>2023-10-12</td>\n",
       "      <td>D</td>\n",
       "      <td>ERW_DBG72020110082</td>\n",
       "      <td>Reseller</td>\n",
       "      <td>Songkhla</td>\n",
       "      <td>124216</td>\n",
       "      <td>MOBIL ATF 220 P1/20LT</td>\n",
       "      <td>7080</td>\n",
       "      <td>1</td>\n",
       "    </tr>\n",
       "  </tbody>\n",
       "</table>\n",
       "</div>"
      ],
      "text/plain": [
       "  Invoicedate Distributor             GroupId      Type  Provincename   MatNo  \\\n",
       "0  2023-02-14           A  ERW_AI8N2021070006   Retails  Pathum Thani  123150   \n",
       "1  2023-04-20           D  ERW_DBG72020110082  Reseller      Songkhla  124213   \n",
       "2  2023-10-19           D  ERW_DBG72020110082  Reseller      Songkhla  124216   \n",
       "3  2023-07-25           D  ERW_DBG72020110082  Reseller      Songkhla  124216   \n",
       "4  2023-10-12           D  ERW_DBG72020110082  Reseller      Songkhla  124216   \n",
       "\n",
       "                      Material Name  New_Volume(L)  Points  \n",
       "0  MOBIL MULTIPURPOSE ATF, 208LT DR           7168       1  \n",
       "1            MOBIL ATF 220  D 208LT            912       1  \n",
       "2             MOBIL ATF 220 P1/20LT           7340       1  \n",
       "3             MOBIL ATF 220 P1/20LT           1640       1  \n",
       "4             MOBIL ATF 220 P1/20LT           7080       1  "
      ]
     },
     "execution_count": 151,
     "metadata": {},
     "output_type": "execute_result"
    }
   ],
   "source": [
    "mer = pd.merge(mer_sheet1, mer_sheet2, on='MatNo', how='left')\n",
    "print(mer.shape)\n",
    "mer.head()"
   ]
  },
  {
   "cell_type": "markdown",
   "metadata": {},
   "source": [
    "Fix Typos of Material Name"
   ]
  },
  {
   "cell_type": "code",
   "execution_count": 152,
   "metadata": {},
   "outputs": [
    {
     "data": {
      "text/plain": [
       "(145, 1)"
      ]
     },
     "execution_count": 152,
     "metadata": {},
     "output_type": "execute_result"
    }
   ],
   "source": [
    "mat_default = mer_sheet1.sort_values(['MatNo', 'Material Name']).groupby('MatNo').head(1)\\\n",
    "                        .loc[:, ['MatNo', 'Material Name']].set_index('MatNo')\n",
    "mat_default['Material Name'] = mat_default['Material Name'].str.replace('โมบิล', 'MOBIL')\n",
    "mat_default['Material Name'] = mat_default['Material Name'].str.replace('เดลแวค', 'DELVAC')\n",
    "mat_default['Material Name'] = mat_default['Material Name'].str.replace('สเปเชียล', 'SPECIAL')\n",
    "mat_default.loc[ mat_default.index == 140563, 'Material Name'] = 'MOBIL DELVAC 1 GEAR OIL 75W90, 1/35LB'\n",
    "\n",
    "mat_default.shape\n",
    "# with pd.option_context('display.max_rows', None):\n",
    "#     display(mat_default)"
   ]
  },
  {
   "cell_type": "code",
   "execution_count": 153,
   "metadata": {},
   "outputs": [
    {
     "data": {
      "text/plain": [
       "(145, 2)"
      ]
     },
     "execution_count": 153,
     "metadata": {},
     "output_type": "execute_result"
    }
   ],
   "source": [
    "for i in mer['MatNo'].unique():\n",
    "    mer.loc[mer['MatNo'] == i, 'Material Name'] = mat_default.loc[i, 'Material Name']\n",
    "            \n",
    "mer[ ['MatNo', 'Material Name']].drop_duplicates().shape"
   ]
  },
  {
   "cell_type": "markdown",
   "metadata": {},
   "source": [
    "Points per อู่"
   ]
  },
  {
   "cell_type": "code",
   "execution_count": 154,
   "metadata": {},
   "outputs": [
    {
     "data": {
      "text/html": [
       "<div>\n",
       "<style scoped>\n",
       "    .dataframe tbody tr th:only-of-type {\n",
       "        vertical-align: middle;\n",
       "    }\n",
       "\n",
       "    .dataframe tbody tr th {\n",
       "        vertical-align: top;\n",
       "    }\n",
       "\n",
       "    .dataframe thead th {\n",
       "        text-align: right;\n",
       "    }\n",
       "</style>\n",
       "<table border=\"1\" class=\"dataframe\">\n",
       "  <thead>\n",
       "    <tr style=\"text-align: right;\">\n",
       "      <th></th>\n",
       "      <th>Invoicedate</th>\n",
       "      <th>Distributor</th>\n",
       "      <th>GroupId</th>\n",
       "      <th>Type</th>\n",
       "      <th>Provincename</th>\n",
       "      <th>MatNo</th>\n",
       "      <th>Material Name</th>\n",
       "      <th>New_Volume(L)</th>\n",
       "      <th>Points</th>\n",
       "    </tr>\n",
       "  </thead>\n",
       "  <tbody>\n",
       "    <tr>\n",
       "      <th>1705</th>\n",
       "      <td>2023-11-03</td>\n",
       "      <td>A</td>\n",
       "      <td>ERW_A7QF2022060002</td>\n",
       "      <td>Retails</td>\n",
       "      <td>NaN</td>\n",
       "      <td>140043</td>\n",
       "      <td>MOBIL ATF 3309 , 12x1 LT CTN</td>\n",
       "      <td>5392</td>\n",
       "      <td>1</td>\n",
       "    </tr>\n",
       "    <tr>\n",
       "      <th>1845</th>\n",
       "      <td>2023-02-13</td>\n",
       "      <td>A</td>\n",
       "      <td>ERW_A7QF2022060003</td>\n",
       "      <td>Retails</td>\n",
       "      <td>NaN</td>\n",
       "      <td>140418</td>\n",
       "      <td>MOBIL 1 TBD 5W-40 4X6L/CAR</td>\n",
       "      <td>5088</td>\n",
       "      <td>10</td>\n",
       "    </tr>\n",
       "    <tr>\n",
       "      <th>1910</th>\n",
       "      <td>2023-02-13</td>\n",
       "      <td>A</td>\n",
       "      <td>ERW_A7QF2022060003</td>\n",
       "      <td>Retails</td>\n",
       "      <td>NaN</td>\n",
       "      <td>140521</td>\n",
       "      <td>MOBIL 1 0W-40 (SN), 4x4LT CTN</td>\n",
       "      <td>608</td>\n",
       "      <td>10</td>\n",
       "    </tr>\n",
       "    <tr>\n",
       "      <th>2260</th>\n",
       "      <td>2023-02-13</td>\n",
       "      <td>A</td>\n",
       "      <td>ERW_A7QF2022060003</td>\n",
       "      <td>Retails</td>\n",
       "      <td>NaN</td>\n",
       "      <td>142923</td>\n",
       "      <td>MOBIL SPECIAL 20W-50 4X4L/CAR</td>\n",
       "      <td>6544</td>\n",
       "      <td>1</td>\n",
       "    </tr>\n",
       "    <tr>\n",
       "      <th>2275</th>\n",
       "      <td>2023-10-26</td>\n",
       "      <td>A</td>\n",
       "      <td>ERW_A7QF2022060003</td>\n",
       "      <td>Retails</td>\n",
       "      <td>NaN</td>\n",
       "      <td>142923</td>\n",
       "      <td>MOBIL SPECIAL 20W-50 4X4L/CAR</td>\n",
       "      <td>1104</td>\n",
       "      <td>1</td>\n",
       "    </tr>\n",
       "  </tbody>\n",
       "</table>\n",
       "</div>"
      ],
      "text/plain": [
       "     Invoicedate Distributor             GroupId     Type Provincename  \\\n",
       "1705  2023-11-03           A  ERW_A7QF2022060002  Retails          NaN   \n",
       "1845  2023-02-13           A  ERW_A7QF2022060003  Retails          NaN   \n",
       "1910  2023-02-13           A  ERW_A7QF2022060003  Retails          NaN   \n",
       "2260  2023-02-13           A  ERW_A7QF2022060003  Retails          NaN   \n",
       "2275  2023-10-26           A  ERW_A7QF2022060003  Retails          NaN   \n",
       "\n",
       "       MatNo                  Material Name  New_Volume(L)  Points  \n",
       "1705  140043   MOBIL ATF 3309 , 12x1 LT CTN           5392       1  \n",
       "1845  140418     MOBIL 1 TBD 5W-40 4X6L/CAR           5088      10  \n",
       "1910  140521  MOBIL 1 0W-40 (SN), 4x4LT CTN            608      10  \n",
       "2260  142923  MOBIL SPECIAL 20W-50 4X4L/CAR           6544       1  \n",
       "2275  142923  MOBIL SPECIAL 20W-50 4X4L/CAR           1104       1  "
      ]
     },
     "execution_count": 154,
     "metadata": {},
     "output_type": "execute_result"
    }
   ],
   "source": [
    "mer['Provincename'] = mer['Provincename'].replace('N\\A', np.nan)\n",
    "mer[mer['Provincename'].isnull()].head()"
   ]
  },
  {
   "cell_type": "code",
   "execution_count": 155,
   "metadata": {},
   "outputs": [
    {
     "data": {
      "text/plain": [
       "False"
      ]
     },
     "execution_count": 155,
     "metadata": {},
     "output_type": "execute_result"
    }
   ],
   "source": [
    "mer.dropna(inplace=True)\n",
    "mer['Provincename'].isna().any()"
   ]
  },
  {
   "cell_type": "code",
   "execution_count": 156,
   "metadata": {},
   "outputs": [
    {
     "name": "stdout",
     "output_type": "stream",
     "text": [
      "['Pathum Thani' 'Songkhla' 'Sukhothai' 'Kamphaeng Phet' 'Chon Buri'\n",
      " 'Phrae' 'Lamphun' 'Chiang Mai' 'Nakhon Sawan' 'Phitsanulok' 'Chiang Rai'\n",
      " 'Kanchanaburi' 'Nakhon Pathom' 'Samut Sakhon' 'Chachoengsao' 'Rayong'\n",
      " 'Bangkok' 'Phichit' 'Phetchabun' 'Uttaradit' 'Nonthaburi' 'Chanthaburi'\n",
      " 'Nakhon Ratchasima' 'Lop Buri' 'Samut Prakan' 'Surat Thani' 'Pattani'\n",
      " 'Phangnga' 'Tak' 'Saraburi' 'Udon Thani' 'Phuket' 'Nakhon Si Thammarat'\n",
      " 'Ratchaburi' 'Phayao' 'Suphan Buri' 'Uthai Thani' 'Sa Kaeo' 'Buri Ram'\n",
      " 'Chainat' 'Chai Nat' 'Trat' 'Sing Buri' 'Phatthalung' 'Krabi' 'Khon Kaen'\n",
      " 'Surin' 'Chumphon' 'Prachuap Khiri Khan' 'Nan' 'Chaiyaphum' 'Yasothon'\n",
      " 'Ubon Ratchathani' 'Lampang' 'Trang' 'Ang Thong'\n",
      " 'Phra Nakhon Si Ayutthaya' 'Phetchaburi' 'Nakhon Phanom' 'Roi Et'\n",
      " 'Nakhon Nayok' 'Nong Bua Lam Phu' 'Maha Sarakham' 'Loei' 'Prachin Buri'\n",
      " 'Sakon Nakhon' 'Nong Khai' 'Si Sa Ket' 'Mukdahan' 'Kalasin' 'Satun'\n",
      " 'Bueng Kan']\n",
      "\n",
      "72\n"
     ]
    }
   ],
   "source": [
    "# ใช้ method unique() เพื่อหาค่าที่ไม่ซ้ำกันใน column 'Provincename'\n",
    "unique_provinces = mer['Provincename'].unique()\n",
    "\n",
    "# แสดงผลลัพธ์\n",
    "print(unique_provinces)\n",
    "print()\n",
    "print(len(mer['Provincename'].unique()))"
   ]
  },
  {
   "cell_type": "code",
   "execution_count": 157,
   "metadata": {},
   "outputs": [
    {
     "name": "stdout",
     "output_type": "stream",
     "text": [
      "  Distributor                                   Unique Provinces\n",
      "0           A  [Pathum Thani, Chon Buri, Chachoengsao, Rayong...\n",
      "1           B  [Kanchanaburi, Nakhon Pathom, Samut Sakhon, Ba...\n",
      "2           C  [Sukhothai, Kamphaeng Phet, Chon Buri, Phrae, ...\n",
      "3           D  [Songkhla, Surat Thani, Pattani, Phangnga, Phu...\n"
     ]
    }
   ],
   "source": [
    "result = mer.groupby('Distributor')['Provincename'].apply(lambda x: list(x.unique())).reset_index()\n",
    "result.columns = ['Distributor', 'Unique Provinces']\n",
    "print(result)\n",
    "del result"
   ]
  },
  {
   "cell_type": "markdown",
   "metadata": {},
   "source": [
    "## ลองเล่น Time series"
   ]
  },
  {
   "cell_type": "code",
   "execution_count": 177,
   "metadata": {},
   "outputs": [
    {
     "data": {
      "text/plain": [
       "<Axes: xlabel='Invoicedate', ylabel='New_Volume(L)'>"
      ]
     },
     "execution_count": 177,
     "metadata": {},
     "output_type": "execute_result"
    },
    {
     "data": {
      "image/png": "[encoded data removed]",
      "text/plain": [
       "<Figure size 640x480 with 1 Axes>"
      ]
     },
     "metadata": {},
     "output_type": "display_data"
    }
   ],
   "source": [
    "# Trending of sales in mer\n",
    "sns.lineplot(data=mer, x='Invoicedate', y='New_Volume(L)')"
   ]
  },
  {
   "cell_type": "code",
   "execution_count": 189,
   "metadata": {},
   "outputs": [
    {
     "data": {
      "text/plain": [
       "<Axes: xlabel='count', ylabel='Count'>"
      ]
     },
     "execution_count": 189,
     "metadata": {},
     "output_type": "execute_result"
    },
    {
     "data": {
      "image/png": "[encoded data removed]",
      "text/plain": [
       "<Figure size 640x480 with 1 Axes>"
      ]
     },
     "metadata": {},
     "output_type": "display_data"
    }
   ],
   "source": [
    "# count of mrw\n",
    "# sns.lineplot(data=mrw, x='ScanDate', y='count')\n",
    "\n",
    "# order per day\n",
    "sns.histplot(data=mrw, x='count')"
   ]
  },
  {
   "cell_type": "code",
   "execution_count": 188,
   "metadata": {},
   "outputs": [
    {
     "data": {
      "text/plain": [
       "<Axes: xlabel='Month', ylabel='quantity'>"
      ]
     },
     "execution_count": 188,
     "metadata": {},
     "output_type": "execute_result"
    },
    {
     "data": {
      "image/png": "[encoded data removed]",
      "text/plain": [
       "<Figure size 640x480 with 1 Axes>"
      ]
     },
     "metadata": {},
     "output_type": "display_data"
    }
   ],
   "source": [
    "time_series = mrw.copy()\n",
    "time_series['Month'] = mrw['ScanDate'].dt.month\n",
    "time_series['Year'] = mrw['ScanDate'].dt.year\n",
    "sales_per_month = time_series.groupby(['Year', 'Month']).agg({'UserId': 'count'}).rename(columns={'UserId': 'quantity'})\n",
    "\n",
    "sns.lineplot(data=sales_per_month, x='Month', y='quantity')"
   ]
  },
  {
   "cell_type": "code",
   "execution_count": null,
   "metadata": {},
   "outputs": [],
   "source": []
  }
 ],
 "metadata": {
  "kernelspec": {
   "display_name": "Python 3",
   "language": "python",
   "name": "python3"
  },
  "language_info": {
   "codemirror_mode": {
    "name": "ipython",
    "version": 3
   },
   "file_extension": ".py",
   "mimetype": "text/x-python",
   "name": "python",
   "nbconvert_exporter": "python",
   "pygments_lexer": "ipython3",
   "version": "3.11.5"
  }
 },
 "nbformat": 4,
 "nbformat_minor": 2
}
